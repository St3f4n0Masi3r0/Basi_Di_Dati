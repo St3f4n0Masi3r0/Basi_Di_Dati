{
 "cells": [
  {
   "cell_type": "markdown",
   "metadata": {},
   "source": [
    "# Basi di Dati Mod. 2 - Python crash course\n",
    "\n",
    "### Stefano Calzavara, Università Ca' Foscari Venezia\n",
    "### Parte di questo materiale è stato riadattato dal corso di Web Intelligence del prof. Claudio Lucchese\n",
    "\n"
   ]
  },
  {
   "cell_type": "markdown",
   "metadata": {},
   "source": [
    "## What is Python?\n",
    "\n",
    "Python is a powerful scripting language:\n",
    " - object-oriented language with support for functional programming\n",
    " - very easy syntax, similar to pseudo-code, and tons of libraries\n",
    " - dynamically typed: be careful!\n",
    "\n",
    "## How can I run my Python code ?\n",
    "\n",
    "Python is an **interpreted** language. It can be run in two modes:\n",
    " - interactive mode: launch with no argument and write your code in the prompt\n",
    " - non-interactive mode: launch passing a .py file and let it run\n",
    "\n",
    "In these lectures we use **Jupyter notebooks** for teaching purposes:\n",
    " - multiple ways to install Jupyter, pick one!\n",
    " - Anaconda: https://www.anaconda.com/distribution/\n",
    " - Colab: https://colab.research.google.com\n",
    " - we use python 3 and not python 2.7: significant differences\n",
    "\n",
    "Jupyter notebooks allow one to:\n",
    " - write complex documents interleaving text with programs\n",
    " - run the programs through an interactive interpreter accessed via a web browser\n",
    " \n",
    "Great for teaching and fast prototyping!\n",
    " \n",
    "Additional tools:\n",
    " - PyCharm by JetBrains https://www.jetbrains.com/pycharm/\n",
    " - any other text editor or IDE, really\n",
    "\n",
    "## Your best friends in learning Python\n",
    "\n",
    "1. The Python website:\n",
    "    - plenty of links to books and tutorials!\n",
    "        - e.g., https://docs.python.org/3/tutorial/\n",
    "0. The official Python documentation:\n",
    "    - https://docs.python.org/3/library/index.html\n",
    "0. Google & StackOverflow:\n",
    "    - try googling for `TypeError: can't multiply sequence by non-int of type 'float'`\n",
    "0. Python Tutor\n",
    "    - visualizes the execution of python code\n",
    "    - http://pythontutor.com/\n",
    "\n",
    "## Who uses Python\n",
    "\n",
    " - The popular *YouTube* video sharing service is largely written in Python\n",
    " - The *Dropbox* storage service codes both its server and desktop client primarily in Python\n",
    " - The widespread *BitTorrent* peer-to-peer file sharing system began its life as a Python program\n",
    " - *Netflix* and *Yelp* have both documented the role of Python in their software infrastructures\n",
    " - *JPMorgan, Chase, UBS, Getco, and Citadel* apply Python to financial market forecasting\n",
    " - *NASA, Los Alamos, Fermilab, JPL*, and others use Python for scientific programming tasks\n",
    " - In \"The Anatomy of a Large-Scale Hypertextual Web Search Engine\" 1998, Google founders describe crawlers written in Python\n",
    " - All the users of *Flask*, the popular web development framework which we will study"
   ]
  },
  {
   "cell_type": "markdown",
   "metadata": {},
   "source": [
    "# Python types\n",
    "\n",
    "Python provides the following types:\n",
    "\n",
    "| Object type | Examples |\n",
    "|:-:|:-:|\n",
    "| Integers | `1234`, `5678`, ... |\n",
    "| Floats | `3.1415`, `7.0`, ...|\n",
    "| Strings | `'spam'`, `\"Bob's\"`, ... |\n",
    "| Lists   | `[1, [2, 'three'], 4.5]`, `list(range(10))`, ... |\n",
    "| Dictionaries | `{'food': 'spam', 'taste': 'yum'}`, `dict(hours=10)`, ... |\n",
    "| Tuples |  `(1, 'spam', 4, 'U')`, `tuple('spam')`, ...|\n",
    "| Files |   `open('eggs.txt')`, `open(r'C:\\ham.bin', 'wb')`, ... |\n",
    "| Sets  | `set('abc')`, `{'a', 'b', 'c'}`, ... |\n",
    "| Other core types | `Booleans`, `None`, ... |\n",
    "\n",
    " - The type of a variable is inferred from the context: no need for type annotations\n",
    " - You can use the function `type` to ask Python the type of an expression\n",
    " - The type determines the set of valid operators"
   ]
  },
  {
   "cell_type": "code",
   "execution_count": 1,
   "metadata": {},
   "outputs": [
    {
     "name": "stdout",
     "output_type": "stream",
     "text": [
      "<class 'float'>\n",
      "<class 'str'>\n",
      "<class 'float'>\n"
     ]
    }
   ],
   "source": [
    "a = 2.0\n",
    "print (type(a))\n",
    "a = \"Hello!\"\n",
    "print (type(a))\n",
    "print (type(3.1 * 5))"
   ]
  },
  {
   "cell_type": "markdown",
   "metadata": {},
   "source": [
    "# Numbers\n",
    "\n",
    "Check integer vs. floating point division. Type of the results is determined by the operation."
   ]
  },
  {
   "cell_type": "code",
   "execution_count": 2,
   "metadata": {},
   "outputs": [
    {
     "name": "stdout",
     "output_type": "stream",
     "text": [
      "What is the output of 11/2: 5.5\n",
      "What is the output of 11%2: 1\n",
      "What is the output of  2**10: 1024\n"
     ]
    }
   ],
   "source": [
    "print (\"What is the output of 11/2:\", 11/2)\n",
    "print (\"What is the output of 11%2:\", 11%2)\n",
    "print (\"What is the output of  2**10:\", 2**10)"
   ]
  },
  {
   "cell_type": "code",
   "execution_count": 3,
   "metadata": {},
   "outputs": [
    {
     "name": "stdout",
     "output_type": "stream",
     "text": [
      "What is the output of 11//2: 5\n"
     ]
    }
   ],
   "source": [
    "print (\"What is the output of 11//2:\", 11//2)"
   ]
  },
  {
   "cell_type": "markdown",
   "metadata": {},
   "source": [
    "# Strings\n",
    "\n",
    "Check the `*` operation."
   ]
  },
  {
   "cell_type": "code",
   "execution_count": 4,
   "metadata": {},
   "outputs": [
    {
     "name": "stdout",
     "output_type": "stream",
     "text": [
      "What is the output of 'a'+'b': ab\n",
      "What is the output of 'a'=='b': False\n",
      "What is the output of 'a'<='b': True\n",
      "What is the output of 'a'<='A': False\n"
     ]
    }
   ],
   "source": [
    "print (\"What is the output of 'a'+'b':\",  'a'+'b'   )\n",
    "print (\"What is the output of 'a'=='b':\", 'a'=='b'  )\n",
    "print (\"What is the output of 'a'<='b':\", 'a'<='b'  )\n",
    "print (\"What is the output of 'a'<='A':\", 'a'<='A'  )"
   ]
  },
  {
   "cell_type": "code",
   "execution_count": 5,
   "metadata": {},
   "outputs": [
    {
     "name": "stdout",
     "output_type": "stream",
     "text": [
      "What is the output of 'a'*5: aaaaa\n"
     ]
    },
    {
     "ename": "TypeError",
     "evalue": "unsupported operand type(s) for /: 'str' and 'int'",
     "output_type": "error",
     "traceback": [
      "\u001b[0;31m---------------------------------------------------------------------------\u001b[0m",
      "\u001b[0;31mTypeError\u001b[0m                                 Traceback (most recent call last)",
      "\u001b[1;32m/home/stefano/Desktop/Esercizi_università/Basi_dati/python/Python.ipynb Cell 10'\u001b[0m in \u001b[0;36m<cell line: 2>\u001b[0;34m()\u001b[0m\n\u001b[1;32m      <a href='vscode-notebook-cell:/home/stefano/Desktop/Esercizi_universit%C3%A0/Basi_dati/python/Python.ipynb#ch0000009?line=0'>1</a>\u001b[0m \u001b[39mprint\u001b[39m (\u001b[39m\"\u001b[39m\u001b[39mWhat is the output of \u001b[39m\u001b[39m'\u001b[39m\u001b[39ma\u001b[39m\u001b[39m'\u001b[39m\u001b[39m*5:\u001b[39m\u001b[39m\"\u001b[39m,    \u001b[39m'\u001b[39m\u001b[39ma\u001b[39m\u001b[39m'\u001b[39m\u001b[39m*\u001b[39m\u001b[39m5\u001b[39m )\n\u001b[0;32m----> <a href='vscode-notebook-cell:/home/stefano/Desktop/Esercizi_universit%C3%A0/Basi_dati/python/Python.ipynb#ch0000009?line=1'>2</a>\u001b[0m \u001b[39mprint\u001b[39m (\u001b[39m\"\u001b[39m\u001b[39mWhat is the output of \u001b[39m\u001b[39m'\u001b[39m\u001b[39ma\u001b[39m\u001b[39m'\u001b[39m\u001b[39m/5:\u001b[39m\u001b[39m\"\u001b[39m, \u001b[39m'\u001b[39;49m\u001b[39ma\u001b[39;49m\u001b[39m'\u001b[39;49m\u001b[39m/\u001b[39;49m\u001b[39m5\u001b[39;49m )\n",
      "\u001b[0;31mTypeError\u001b[0m: unsupported operand type(s) for /: 'str' and 'int'"
     ]
    }
   ],
   "source": [
    "print (\"What is the output of 'a'*5:\",    'a'*5 )\n",
    "print (\"What is the output of 'a'/5:\", 'a'/5 )"
   ]
  },
  {
   "cell_type": "code",
   "execution_count": null,
   "metadata": {},
   "outputs": [],
   "source": [
    "print    (\"What is the output of int('10')/5:\", int('10')/5)"
   ]
  },
  {
   "cell_type": "code",
   "execution_count": null,
   "metadata": {},
   "outputs": [],
   "source": [
    "print ( str(9) * 4 )"
   ]
  },
  {
   "cell_type": "markdown",
   "metadata": {},
   "source": [
    "# Conditional Statements\n",
    "\n",
    "Tabbing is used to identify the body of `if`-`else` and other constructs such as `for`, `while`, `functions`.\n",
    "\n",
    "Check if a variable x is within the interval $[0,10]$."
   ]
  },
  {
   "cell_type": "code",
   "execution_count": null,
   "metadata": {},
   "outputs": [],
   "source": [
    "x = 33\n",
    "if x >= 0 and x <= 10:\n",
    "    print (\"x is in the interval [0,10]\")\n",
    "else:\n",
    "    print (\"x is not in the interval [0,10]\")"
   ]
  },
  {
   "cell_type": "code",
   "execution_count": null,
   "metadata": {},
   "outputs": [],
   "source": [
    "x = 33\n",
    "# This is a special compact form\n",
    "if 0 <= x <= 10:\n",
    "    print (\"x is in the interval [0,10]\")\n",
    "else:\n",
    "    print (\"x is not in the interval [0,10]\")"
   ]
  },
  {
   "cell_type": "markdown",
   "metadata": {},
   "source": [
    "# While Loops\n",
    "\n",
    "Nothing new: `while`, `break` `continue`. Don't forget about good programming!\n"
   ]
  },
  {
   "cell_type": "code",
   "execution_count": null,
   "metadata": {},
   "outputs": [],
   "source": [
    "i = 0\n",
    "while i < 10:\n",
    "    if i == 8: break\n",
    "    i += 1\n",
    "    \n",
    "    if i == 5: continue\n",
    "    print (\"Completed Iteration N.\", i)\n",
    "\n",
    "print (\"I'm out of the loop\")"
   ]
  },
  {
   "cell_type": "markdown",
   "metadata": {},
   "source": [
    "# For Loops\n",
    "\n",
    "A `range` is a special tool to create sequences of numbers, given start, end, and step parameters."
   ]
  },
  {
   "cell_type": "code",
   "execution_count": null,
   "metadata": {},
   "outputs": [],
   "source": [
    "for i in range(5):\n",
    "    print (\"This is Iteration N.\", i)"
   ]
  },
  {
   "cell_type": "code",
   "execution_count": null,
   "metadata": {},
   "outputs": [],
   "source": [
    "for i in range(0,10,2):\n",
    "    print (\"This is Iteration N.\", i)"
   ]
  },
  {
   "cell_type": "code",
   "execution_count": 10,
   "metadata": {},
   "outputs": [
    {
     "name": "stdout",
     "output_type": "stream",
     "text": [
      "This is Iteration N. 10\n",
      "This is Iteration N. 8\n",
      "This is Iteration N. 6\n",
      "This is Iteration N. 4\n",
      "This is Iteration N. 2\n"
     ]
    }
   ],
   "source": [
    "for i in range(10,0,-2):\n",
    "    print (\"This is Iteration N.\", i)"
   ]
  },
  {
   "cell_type": "code",
   "execution_count": 7,
   "metadata": {},
   "outputs": [
    {
     "name": "stdout",
     "output_type": "stream",
     "text": [
      "range(0, 5)\n"
     ]
    }
   ],
   "source": [
    "print (range(5))"
   ]
  },
  {
   "cell_type": "markdown",
   "metadata": {},
   "source": [
    "This is called **iterable**! You can only iterate through it ..."
   ]
  },
  {
   "cell_type": "code",
   "execution_count": 6,
   "metadata": {},
   "outputs": [
    {
     "name": "stdout",
     "output_type": "stream",
     "text": [
      "<class 'range'>\n"
     ]
    }
   ],
   "source": [
    "print (type(range(5)))"
   ]
  },
  {
   "cell_type": "markdown",
   "metadata": {},
   "source": [
    "# Lists\n",
    "\n",
    "Lists are very frequently used. They are **heterogeneous** and **mutable**."
   ]
  },
  {
   "cell_type": "code",
   "execution_count": null,
   "metadata": {},
   "outputs": [],
   "source": [
    "for i in [0,1,2,3,4]:\n",
    "    print (\"This is Iteration N.\", i)"
   ]
  },
  {
   "cell_type": "code",
   "execution_count": null,
   "metadata": {},
   "outputs": [],
   "source": [
    "my_list = [1,2,3] + [4,5]\n",
    "print (my_list)"
   ]
  },
  {
   "cell_type": "code",
   "execution_count": null,
   "metadata": {},
   "outputs": [],
   "source": [
    "my_list = [1,2,3]\n",
    "my_list += [4,5]\n",
    "print (my_list)"
   ]
  },
  {
   "cell_type": "code",
   "execution_count": null,
   "metadata": {},
   "outputs": [],
   "source": [
    "my_list = [1,2,3] + [\"donald duck\", 42.0]\n",
    "print (my_list)"
   ]
  },
  {
   "cell_type": "code",
   "execution_count": null,
   "metadata": {},
   "outputs": [],
   "source": [
    "my_list = [1,2,3] + [\"donald duck\", [\"this\", \"is\", 1, \"nested\", \"list\"] ]\n",
    "print (my_list)"
   ]
  },
  {
   "cell_type": "code",
   "execution_count": null,
   "metadata": {},
   "outputs": [],
   "source": [
    "print ( len([1,2,3,4,5]) )\n",
    "print ( len([1,2,[3,4,5]]) )"
   ]
  },
  {
   "cell_type": "code",
   "execution_count": null,
   "metadata": {},
   "outputs": [],
   "source": [
    "my_list = [1,2,3,4,5]\n",
    "print ( my_list[0] )\n",
    "print ( my_list[4] )\n",
    "print ( my_list[5] )"
   ]
  },
  {
   "cell_type": "code",
   "execution_count": null,
   "metadata": {},
   "outputs": [],
   "source": [
    "my_list = [1,2,3,4,5]\n",
    "print ( my_list[-1] )\n",
    "print ( my_list[-2] )\n",
    "print ( my_list[-100] )"
   ]
  },
  {
   "cell_type": "code",
   "execution_count": null,
   "metadata": {},
   "outputs": [],
   "source": [
    "my_list = [1,2,3,4,5,4,3,2,1]\n",
    "\n",
    "print ( 3 in my_list )\n",
    "\n",
    "print ( my_list.count(3) )\n",
    "\n",
    "print ( my_list.index(1) )\n",
    "print ( my_list.index(33) ) # this raises an error"
   ]
  },
  {
   "cell_type": "markdown",
   "metadata": {},
   "source": [
    "# Slicing\n",
    "\n",
    "Slicing allows to access a sublist using a special syntax"
   ]
  },
  {
   "cell_type": "code",
   "execution_count": null,
   "metadata": {},
   "outputs": [],
   "source": [
    "my_list = ['red', 'orange', 'yellow', 'green', 'blue', 'indigo', 'violet']\n",
    "\n",
    "print ( my_list[1:3] ) "
   ]
  },
  {
   "cell_type": "code",
   "execution_count": null,
   "metadata": {},
   "outputs": [],
   "source": [
    "print ( my_list[3:-1] ) "
   ]
  },
  {
   "cell_type": "code",
   "execution_count": null,
   "metadata": {},
   "outputs": [],
   "source": [
    "print ( my_list[3:] )"
   ]
  },
  {
   "cell_type": "code",
   "execution_count": null,
   "metadata": {},
   "outputs": [],
   "source": [
    "print ( my_list[0:7:2] )"
   ]
  },
  {
   "cell_type": "code",
   "execution_count": null,
   "metadata": {},
   "outputs": [],
   "source": [
    "print ( my_list[0::2] )"
   ]
  },
  {
   "cell_type": "code",
   "execution_count": null,
   "metadata": {},
   "outputs": [],
   "source": [
    "print ( my_list[::2] )"
   ]
  },
  {
   "cell_type": "code",
   "execution_count": null,
   "metadata": {},
   "outputs": [],
   "source": [
    "print ( my_list[::-1] )"
   ]
  },
  {
   "cell_type": "markdown",
   "metadata": {},
   "source": [
    "# Lists are mutable\n",
    "\n",
    "Elements of a list can be replaced. Sublists can be replaced with other sublists."
   ]
  },
  {
   "cell_type": "code",
   "execution_count": null,
   "metadata": {},
   "outputs": [],
   "source": [
    "# original list\n",
    "my_list = ['red', 'orange', 'yellow', 'green', 'blue', 'indigo', 'violet']\n",
    "print (my_list)\n",
    "\n",
    "# modify one element\n",
    "my_list[-2] = 'ultramarine'\n",
    "\n",
    "# the new list\n",
    "print (my_list)"
   ]
  },
  {
   "cell_type": "code",
   "execution_count": null,
   "metadata": {},
   "outputs": [],
   "source": [
    "my_list = ['red', 'orange', 'yellow', 'green', 'blue', 'indigo', 'violet']\n",
    "my_list[4] = ['light blue', 'blue', 'dark blue']\n",
    "print (my_list)"
   ]
  },
  {
   "cell_type": "code",
   "execution_count": null,
   "metadata": {},
   "outputs": [],
   "source": [
    "# here we replace one slice with another slice\n",
    "my_list = ['red', 'orange', 'yellow', 'green', 'blue', 'indigo', 'violet']\n",
    "my_list[4:5] = ['light blue', 'dark blue', 'darker blue']\n",
    "print (my_list)"
   ]
  },
  {
   "cell_type": "code",
   "execution_count": null,
   "metadata": {},
   "outputs": [],
   "source": [
    "# A special case of replacement when start and end index are the same\n",
    "my_list = ['red', 'orange', 'yellow', 'green', 'blue', 'indigo', 'violet']\n",
    "my_list[5:5] = ['light blue', 'dark blue', 'darker blue'] \n",
    "print (my_list)"
   ]
  },
  {
   "cell_type": "code",
   "execution_count": null,
   "metadata": {},
   "outputs": [],
   "source": [
    "my_list = ['red', 'orange', 'yellow', 'green', 'blue', 'indigo', 'violet']\n",
    "my_list[2] = []\n",
    "print (my_list)"
   ]
  },
  {
   "cell_type": "code",
   "execution_count": null,
   "metadata": {},
   "outputs": [],
   "source": [
    "my_list = ['red', 'orange', 'yellow', 'green', 'blue', 'indigo', 'violet']\n",
    "my_list[2:3] = []\n",
    "print (my_list)"
   ]
  },
  {
   "cell_type": "code",
   "execution_count": null,
   "metadata": {},
   "outputs": [],
   "source": [
    "my_list = ['red', 'orange', 'yellow', 'green', 'blue', 'indigo', 'violet']\n",
    "\n",
    "print (\"Is orange in the rainbow?\", 'orange' in my_list )\n",
    "\n",
    "print (\"Is brown in the rainbow?\", 'brown' in my_list )\n",
    "\n",
    "print (\"Is it true that cobalt is not in the rainbow?\", 'cobalt' not in my_list )"
   ]
  },
  {
   "cell_type": "markdown",
   "metadata": {},
   "source": [
    "# Tuple\n",
    "\n",
    "Tuples are largely similar to lists, but they are **immutable**."
   ]
  },
  {
   "cell_type": "code",
   "execution_count": null,
   "metadata": {},
   "outputs": [],
   "source": [
    "my_tuple = (1,2,3,4, \"five\")\n",
    "\n",
    "print (my_tuple)\n",
    "print (my_tuple[2])"
   ]
  },
  {
   "cell_type": "code",
   "execution_count": null,
   "metadata": {},
   "outputs": [],
   "source": [
    "my_tuple[2] = 3"
   ]
  },
  {
   "cell_type": "code",
   "execution_count": null,
   "metadata": {},
   "outputs": [],
   "source": [
    "my_tuple = (1,2,3) \n",
    "my_tuple += (4, \"five\")\n",
    "\n",
    "print (my_tuple)\n",
    "print (my_tuple[2])"
   ]
  },
  {
   "cell_type": "markdown",
   "metadata": {},
   "source": [
    "# Unpacking\n",
    "\n",
    "Multiple assignment, typical of function returning multiple values."
   ]
  },
  {
   "cell_type": "code",
   "execution_count": null,
   "metadata": {},
   "outputs": [],
   "source": [
    "my_tuple = (1,2,3)\n",
    "a,b,c = my_tuple\n",
    "print (a,b,c)"
   ]
  },
  {
   "cell_type": "code",
   "execution_count": null,
   "metadata": {},
   "outputs": [],
   "source": [
    "my_list = [1,2,3]\n",
    "a,b,c = my_list\n",
    "print (a,b,c)"
   ]
  },
  {
   "cell_type": "markdown",
   "metadata": {},
   "source": [
    "# Sorting\n",
    "\n",
    "In-place vs. returning a new list."
   ]
  },
  {
   "cell_type": "code",
   "execution_count": null,
   "metadata": {},
   "outputs": [],
   "source": [
    "my_list = [2,3,1]\n",
    "\n",
    "my_list.sort()\n",
    "\n",
    "print (my_list)"
   ]
  },
  {
   "cell_type": "code",
   "execution_count": null,
   "metadata": {},
   "outputs": [],
   "source": [
    "my_list = [2,3,1]\n",
    "\n",
    "new_list = sorted( my_list )\n",
    "\n",
    "print (my_list)\n",
    "print (new_list)"
   ]
  },
  {
   "cell_type": "markdown",
   "metadata": {},
   "source": [
    "# Be careful!\n",
    "\n",
    "Check in python tutor when you are in doubt! http://pythontutor.com/"
   ]
  },
  {
   "cell_type": "code",
   "execution_count": null,
   "metadata": {},
   "outputs": [],
   "source": [
    "a = 11\n",
    "b = a\n",
    "a = 22\n",
    "print (a,b)"
   ]
  },
  {
   "cell_type": "code",
   "execution_count": null,
   "metadata": {},
   "outputs": [],
   "source": [
    "a = [11]\n",
    "b = a\n",
    "a[0] = 22\n",
    "print (a,b)"
   ]
  },
  {
   "cell_type": "code",
   "execution_count": null,
   "metadata": {},
   "outputs": [],
   "source": [
    "a = b = [1,2]\n",
    "c = d = [1,2]\n",
    "a += [3]\n",
    "c = c + [3]\n",
    "print(b)\n",
    "print(d)"
   ]
  },
  {
   "cell_type": "code",
   "execution_count": null,
   "metadata": {},
   "outputs": [],
   "source": [
    "my_list = [1,2,3]\n",
    "new_list = my_list\n",
    "my_list += [77]\n",
    "print ( new_list + my_list)"
   ]
  },
  {
   "cell_type": "code",
   "execution_count": null,
   "metadata": {},
   "outputs": [],
   "source": [
    "my_list = [1,2,3] * 2\n",
    "print (my_list)"
   ]
  },
  {
   "cell_type": "code",
   "execution_count": null,
   "metadata": {},
   "outputs": [],
   "source": [
    "my_list = [ [1,2,3] ] * 2\n",
    "print (my_list)"
   ]
  },
  {
   "cell_type": "code",
   "execution_count": null,
   "metadata": {},
   "outputs": [],
   "source": [
    "my_list[0] += [4]\n",
    "print ( my_list )"
   ]
  },
  {
   "cell_type": "code",
   "execution_count": null,
   "metadata": {},
   "outputs": [],
   "source": [
    "my_tuple = (1,2,3)\n",
    "new_tuple = my_tuple\n",
    "my_tuple += tuple([77])\n",
    "print ( new_tuple + my_tuple)"
   ]
  },
  {
   "cell_type": "code",
   "execution_count": null,
   "metadata": {},
   "outputs": [],
   "source": [
    "# if you want to actually copy a list\n",
    "a = [11]\n",
    "b = a.copy()\n",
    "a[0] = 22\n",
    "print (a,b)"
   ]
  },
  {
   "cell_type": "code",
   "execution_count": null,
   "metadata": {},
   "outputs": [],
   "source": [
    "a = [11]\n",
    "b = list(a)\n",
    "a[0] = 22\n",
    "print (a,b)"
   ]
  },
  {
   "cell_type": "code",
   "execution_count": null,
   "metadata": {},
   "outputs": [],
   "source": [
    "a = [11]\n",
    "b = a[:]\n",
    "a[0] = 22\n",
    "print (a,b)"
   ]
  },
  {
   "cell_type": "markdown",
   "metadata": {},
   "source": [
    "# Iterating through lists\n",
    "\n",
    "Or through multiple lists."
   ]
  },
  {
   "cell_type": "code",
   "execution_count": null,
   "metadata": {},
   "outputs": [],
   "source": [
    "my_list = [2,3,1]\n",
    "for x in my_list:\n",
    "    print (x)"
   ]
  },
  {
   "cell_type": "code",
   "execution_count": null,
   "metadata": {},
   "outputs": [],
   "source": [
    "my_list = [2,3,1]\n",
    "for i,x in enumerate(my_list):\n",
    "    print (i,x)"
   ]
  },
  {
   "cell_type": "code",
   "execution_count": null,
   "metadata": {},
   "outputs": [],
   "source": [
    "my_list = [2,3,1]\n",
    "for z in enumerate(my_list):\n",
    "    print (z, type(z))"
   ]
  },
  {
   "cell_type": "code",
   "execution_count": null,
   "metadata": {},
   "outputs": [],
   "source": [
    "A = [2,3,1]\n",
    "B = [\"two\", \"three\", \"one\"]\n",
    "for a,b in zip(A,B):\n",
    "    print (a,b)"
   ]
  },
  {
   "cell_type": "markdown",
   "metadata": {},
   "source": [
    "# More about strings\n",
    "\n",
    "Strings are like lists of character, but they are **immutable**."
   ]
  },
  {
   "cell_type": "code",
   "execution_count": null,
   "metadata": {},
   "outputs": [],
   "source": [
    "msg = \"I like programming with python!\""
   ]
  },
  {
   "cell_type": "code",
   "execution_count": null,
   "metadata": {},
   "outputs": [],
   "source": [
    "print (msg[2])"
   ]
  },
  {
   "cell_type": "code",
   "execution_count": null,
   "metadata": {},
   "outputs": [],
   "source": [
    "print (msg[2:6])"
   ]
  },
  {
   "cell_type": "code",
   "execution_count": null,
   "metadata": {},
   "outputs": [],
   "source": [
    "msg[3] = \"x\""
   ]
  },
  {
   "cell_type": "code",
   "execution_count": null,
   "metadata": {},
   "outputs": [],
   "source": [
    "for c in msg:\n",
    "    print (c)"
   ]
  },
  {
   "cell_type": "code",
   "execution_count": null,
   "metadata": {},
   "outputs": [],
   "source": [
    "print (msg.split())"
   ]
  },
  {
   "cell_type": "code",
   "execution_count": null,
   "metadata": {},
   "outputs": [],
   "source": [
    "print (msg.split(\"i\"))"
   ]
  },
  {
   "cell_type": "code",
   "execution_count": null,
   "metadata": {},
   "outputs": [],
   "source": [
    "#Remove leading and trailing whitespaces\n",
    "\n",
    "my_string = \"     A Bit of Python \\n\"\n",
    "\n",
    "print ( \"---\", my_string, \"---\" )\n",
    "print ( \"---\", my_string.strip(), \"---\" )"
   ]
  },
  {
   "cell_type": "code",
   "execution_count": null,
   "metadata": {},
   "outputs": [],
   "source": [
    "# Remove leading and trailing characters of choice\n",
    "\n",
    "my_string = \"###!#!#!##!#A Bit of Python?!!???##\"\n",
    "\n",
    "print ( \"---\", my_string.strip(\"#\"), \"---\" )\n",
    "print ( \"---\", my_string.strip(\"#?\"), \"---\" )\n",
    "print ( \"---\", my_string.strip(\"!?#\"), \"---\" )"
   ]
  },
  {
   "cell_type": "markdown",
   "metadata": {},
   "source": [
    "# Sets\n",
    "\n",
    "The mathematical notion of set."
   ]
  },
  {
   "cell_type": "code",
   "execution_count": null,
   "metadata": {},
   "outputs": [],
   "source": [
    "my_set = set([1,2,3,4,5,4,3,2,1])\n",
    "\n",
    "print (my_set)"
   ]
  },
  {
   "cell_type": "code",
   "execution_count": null,
   "metadata": {},
   "outputs": [],
   "source": [
    "A = set([1,2,3])\n",
    "B = set([4,5])\n",
    "C = A | B\n",
    "\n",
    "print (C)"
   ]
  },
  {
   "cell_type": "code",
   "execution_count": null,
   "metadata": {},
   "outputs": [],
   "source": [
    "A = set([1,2,3])\n",
    "B = set([3,4,5])\n",
    "C = A & B\n",
    "\n",
    "print (C)"
   ]
  },
  {
   "cell_type": "code",
   "execution_count": null,
   "metadata": {},
   "outputs": [],
   "source": [
    "A = set([1,2,3])\n",
    "B = set([3,4,5])\n",
    "C = A - B\n",
    "\n",
    "print (C)"
   ]
  },
  {
   "cell_type": "code",
   "execution_count": null,
   "metadata": {},
   "outputs": [],
   "source": [
    "A = set([1,2,3])\n",
    "B = set([3,4,5])\n",
    "\n",
    "print (1 in A)\n",
    "print (7 not in A)"
   ]
  },
  {
   "cell_type": "markdown",
   "metadata": {},
   "source": [
    "# Dictionaries\n",
    "\n",
    "A dictionary is a map between keys and values"
   ]
  },
  {
   "cell_type": "code",
   "execution_count": null,
   "metadata": {},
   "outputs": [],
   "source": [
    "my_dict = {1:\"Jan\", 2:\"Feb\", 3:\"Mar\", 4:\"Apr\", 5:\"May\", 6:\"Jun\",\n",
    "           7:\"Jul\", 8:\"Aug\", 9:\"Sep\", 10:\"Oct\", 11:\"Nov\", 12:\"Dec\"}\n",
    "\n",
    "print (my_dict[0])"
   ]
  },
  {
   "cell_type": "code",
   "execution_count": null,
   "metadata": {},
   "outputs": [],
   "source": [
    "my_dict = {1:\"Jan\", 2:\"Feb\", 3:\"Mar\", 4:\"Apr\", 5:\"May\", 6:\"Jun\",\n",
    "           7:\"Jul\", 8:\"Aug\", 9:\"Sep\", 10:\"Oct\", 11:\"Nov\", 12:\"Dec\"}\n",
    "\n",
    "print (my_dict[1])\n",
    "print (my_dict[12])"
   ]
  },
  {
   "cell_type": "code",
   "execution_count": null,
   "metadata": {},
   "outputs": [],
   "source": [
    "my_dict = {1:\"Jan\", 2:\"Feb\", 3:\"Mar\", 4:\"Apr\", 5:\"May\", 6:\"Jun\",\n",
    "           7:\"Jul\", 8:\"Aug\", 9:\"Sep\", 10:\"Oct\", 11:\"Nov\", 12:\"Dec\"}\n",
    "\n",
    "my_dict[1] = 777\n",
    "del my_dict[12]\n",
    "print (my_dict)"
   ]
  },
  {
   "cell_type": "code",
   "execution_count": null,
   "metadata": {},
   "outputs": [],
   "source": [
    "my_dict[84] = \"spam\"\n",
    "print (my_dict)"
   ]
  },
  {
   "cell_type": "code",
   "execution_count": null,
   "metadata": {},
   "outputs": [],
   "source": [
    "print (my_dict.keys())"
   ]
  },
  {
   "cell_type": "code",
   "execution_count": null,
   "metadata": {},
   "outputs": [],
   "source": [
    "print (my_dict.values())"
   ]
  },
  {
   "cell_type": "code",
   "execution_count": null,
   "metadata": {},
   "outputs": [],
   "source": [
    "my_dict = {1:\"Jan\", 2:\"Feb\", 3:\"Mar\", 4:\"Apr\", 5:\"May\", 6:\"Jun\",\n",
    "           7:\"Jul\", 8:\"Aug\", 9:\"Sep\", 10:\"Oct\", 11:\"Nov\", 12:\"Dec\"}\n",
    "\n",
    "for k in my_dict:\n",
    "    print (k)"
   ]
  },
  {
   "cell_type": "code",
   "execution_count": null,
   "metadata": {},
   "outputs": [],
   "source": [
    "my_dict = {1:\"Jan\", 2:\"Feb\", 3:\"Mar\", 4:\"Apr\", 5:\"May\", 6:\"Jun\",\n",
    "           7:\"Jul\", 8:\"Aug\", 9:\"Sep\", 10:\"Oct\", 11:\"Nov\", 12:\"Dec\"}\n",
    "\n",
    "for k,v in my_dict.items():\n",
    "    print (k,v)"
   ]
  },
  {
   "cell_type": "markdown",
   "metadata": {},
   "source": [
    "# Comprehensions\n",
    "\n",
    "Creating lists by iterating through other lists."
   ]
  },
  {
   "cell_type": "code",
   "execution_count": null,
   "metadata": {},
   "outputs": [],
   "source": [
    "my_list = [x**2 for x in range(10)]\n",
    "print (my_list)"
   ]
  },
  {
   "cell_type": "code",
   "execution_count": null,
   "metadata": {},
   "outputs": [],
   "source": [
    "my_list = [x**2 for x in range(10) if x%2==0]\n",
    "print (my_list)"
   ]
  },
  {
   "cell_type": "code",
   "execution_count": 1,
   "metadata": {},
   "outputs": [
    {
     "name": "stdout",
     "output_type": "stream",
     "text": [
      "{0: 0, 2: 4, 4: 16, 6: 36, 8: 64}\n"
     ]
    }
   ],
   "source": [
    "my_dict = {x:x**2 for x in range(10) if x%2==0}\n",
    "print (my_dict)"
   ]
  },
  {
   "cell_type": "markdown",
   "metadata": {},
   "source": [
    "# Functions\n",
    "\n",
    "Do not write code outside functions! Be careful when passing lists as parameters...\n",
    "\n",
    "You can return lists, tuples, sets, dictionaries, etc."
   ]
  },
  {
   "cell_type": "code",
   "execution_count": null,
   "metadata": {},
   "outputs": [],
   "source": [
    "def square(x):\n",
    "    return x**2\n",
    "\n",
    "print ( square(3) )"
   ]
  },
  {
   "cell_type": "code",
   "execution_count": null,
   "metadata": {},
   "outputs": [],
   "source": [
    "def powers(x,n):\n",
    "    return [ x**i for i in range(n) ]\n",
    "\n",
    "print ( powers(2,5) )"
   ]
  },
  {
   "cell_type": "code",
   "execution_count": null,
   "metadata": {},
   "outputs": [],
   "source": [
    "copy_f = powers\n",
    "\n",
    "print ( copy_f(2,5) )"
   ]
  },
  {
   "cell_type": "code",
   "execution_count": null,
   "metadata": {},
   "outputs": [],
   "source": [
    "powers_3 = lambda x:powers(x,3)\n",
    "\n",
    "print (powers_3(5))"
   ]
  },
  {
   "cell_type": "code",
   "execution_count": null,
   "metadata": {},
   "outputs": [],
   "source": [
    "a = [1,-2,3,-4,5,-6]\n",
    "\n",
    "print (sorted(a))\n",
    "\n",
    "print (sorted(a, key=lambda x:abs(x)))"
   ]
  },
  {
   "cell_type": "code",
   "execution_count": null,
   "metadata": {},
   "outputs": [],
   "source": [
    "def add1(x):\n",
    "    x+=1\n",
    "    return x\n",
    "\n",
    "y = 10\n",
    "z = add1(y)\n",
    "print( y,z )"
   ]
  },
  {
   "cell_type": "code",
   "execution_count": null,
   "metadata": {},
   "outputs": [],
   "source": [
    "def add1(x):\n",
    "    for i in range(len(x)):\n",
    "        x[i] = x[i]+1\n",
    "    return x\n",
    "\n",
    "\n",
    "y = [1,2,3,4,5]\n",
    "z = add1(y)\n",
    "print( y,z )"
   ]
  },
  {
   "cell_type": "code",
   "execution_count": null,
   "metadata": {},
   "outputs": [],
   "source": [
    "def myfun (a, b=3, c=77):\n",
    "    print (a,b,c)\n",
    "    \n",
    "myfun(10)\n",
    "myfun(10,20)\n",
    "myfun(10, c=99)"
   ]
  },
  {
   "cell_type": "markdown",
   "metadata": {},
   "source": [
    "# Classes and objects"
   ]
  },
  {
   "cell_type": "code",
   "execution_count": null,
   "metadata": {},
   "outputs": [],
   "source": [
    "import math\n",
    "\n",
    "class Point:\n",
    "    \n",
    "    def __init__(self, x, y):    # three arguments are given\n",
    "        self.x = x\n",
    "        self.y = y\n",
    "        \n",
    "    def distance(self, p):\n",
    "        return math.sqrt((self.x - p.x)**2 + (self.y - p.y)**2)"
   ]
  },
  {
   "cell_type": "code",
   "execution_count": null,
   "metadata": {},
   "outputs": [],
   "source": [
    "p = Point(2.0, 6.0)\n",
    "q = Point(2.0, 2.0)\n",
    "print(p.distance(q))"
   ]
  },
  {
   "cell_type": "code",
   "execution_count": null,
   "metadata": {},
   "outputs": [],
   "source": [
    "print(p.x)"
   ]
  },
  {
   "cell_type": "code",
   "execution_count": null,
   "metadata": {},
   "outputs": [],
   "source": [
    "class Dog:\n",
    "\n",
    "    tricks = []             # shared by all instances of the class\n",
    "\n",
    "    def __init__(self, name):\n",
    "        self.name = name\n",
    "\n",
    "    def add_trick(self, trick):\n",
    "        self.tricks.append(trick)\n",
    "        \n",
    "    def bark(self):\n",
    "        return \"Bau bau bau!\"\n",
    "\n",
    "d = Dog('Fido')\n",
    "e = Dog('Buddy')\n",
    "d.add_trick('roll over')\n",
    "e.add_trick('play dead')\n",
    "print(d.tricks)             # shared by all dogs"
   ]
  },
  {
   "cell_type": "code",
   "execution_count": null,
   "metadata": {},
   "outputs": [],
   "source": [
    "class Dog:\n",
    "\n",
    "    def __init__(self, name):\n",
    "        self.name = name\n",
    "        self.tricks = []    # creates a new empty list for each dog\n",
    "\n",
    "    def add_trick(self, trick):\n",
    "        self.tricks.append(trick)\n",
    "        \n",
    "    def bark(self):\n",
    "        return \"Bau bau bau!\"\n",
    "\n",
    "d = Dog('Fido')\n",
    "e = Dog('Buddy')\n",
    "d.add_trick('roll over')\n",
    "e.add_trick('play dead')\n",
    "print(d.tricks)\n",
    "print(e.tricks)"
   ]
  },
  {
   "cell_type": "code",
   "execution_count": null,
   "metadata": {},
   "outputs": [],
   "source": [
    "class DogWithPedigree(Dog):\n",
    "    \n",
    "    def __init__(self, name, parent):\n",
    "        Dog.__init__(self, name)\n",
    "        self.parent = parent\n",
    "        \n",
    "    def good_dog(self):\n",
    "        return set(self.parent.tricks).issubset(self.tricks)\n",
    "    \n",
    "    def bark(self):\n",
    "        return \"BAU BAU BAU!!!\"\n",
    "    \n",
    "f = DogWithPedigree('Bolt', d)\n",
    "print(f.good_dog())\n",
    "f.add_trick('roll over')\n",
    "print(f.good_dog())"
   ]
  },
  {
   "cell_type": "code",
   "execution_count": null,
   "metadata": {},
   "outputs": [],
   "source": [
    "print(d.bark())\n",
    "print(f.bark())"
   ]
  },
  {
   "cell_type": "markdown",
   "metadata": {},
   "source": [
    "# Let's play with data!\n",
    "\n",
    "I used excel to transform the data file from http://tennis-data.co.uk/alldata.php into a csv file."
   ]
  },
  {
   "cell_type": "code",
   "execution_count": 2,
   "metadata": {},
   "outputs": [
    {
     "name": "stdout",
     "output_type": "stream",
     "text": [
      "2020.csv  Python.ipynb\n"
     ]
    }
   ],
   "source": [
    "!ls"
   ]
  },
  {
   "cell_type": "code",
   "execution_count": 3,
   "metadata": {},
   "outputs": [
    {
     "name": "stdout",
     "output_type": "stream",
     "text": [
      "ATP,Location,Tournament,Date,Series,Court,Surface,Round,Best of,Winner,Loser,WRank,LRank,WPts,LPts,W1,L1,W2,L2,W3,L3,W4,L4,W5,L5,Wsets,Lsets,Comment,B365W,B365L,PSW,PSL,MaxW,MaxL,AvgW,AvgL\n",
      "1,Doha,Qatar Exxon Mobil Open,06/01/2020,ATP250,Outdoor,Hard,1st Round,3,Bublik A.,Mannarino A.,55,43,919,1111,6,3,6,4,,,,,,,2,0,Completed,2,\"1,72\",\"2,21\",\"1,74\",\"2,25\",\"1,8\",\"2,11\",\"1,72\"\n",
      "1,Doha,Qatar Exxon Mobil Open,06/01/2020,ATP250,Outdoor,Hard,1st Round,3,Moutet C.,Sandgren T.,81,68,638,803,7,6,6,4,,,,,,,2,0,Completed,\"1,57\",\"2,25\",\"1,6\",\"2,47\",\"1,65\",\"2,47\",\"1,59\",\"2,34\"\n",
      "1,Doha,Qatar Exxon Mobil Open,06/01/2020,ATP250,Outdoor,Hard,1st Round,3,Verdasco F.,Andujar P.,49,64,1025,867,6,4,6,3,,,,,,,2,0,Completed,\"1,25\",\"3,75\",\"1,31\",\"3,74\",\"1,33\",\"3,85\",\"1,29\",\"3,53\"\n",
      "1,Doha,Qatar Exxon Mobil Open,06/01/2020,ATP250,Outdoor,Hard,1st Round,3,Bedene A.,Ymer M.,58,76,905,681,3,6,6,4,6,3,,,,,2,1,Completed,\"1,83\",\"1,83\",\"1,97\",\"1,92\",2,\"2,07\",\"1,87\",\"1,92\"\n",
      "1,Doha,Qatar Exxon Mobil Open,06/01/2020,ATP250,Outdoor,Hard,1st Round,3,Chardy J.,Barrere G.,54,83,920,636,6,3,3,6,6,3,,,,,2,1,Completed,\"1,5\",\"2,5\",\"1,54\",\"2,62\",\"1,57\",\"2,65\",\"1,53\",\"2,47\"\n",
      "1,Doha,Qatar Exxon Mobil Open,06/01/2020,ATP250,Outdoor,Hard,1st Round,3,Kecmanovic M.,Thompson J.,62,63,881,878,6,4,6,2,,,,,,,2,0,Completed,\"1,66\",\"2,1\",\"1,74\",\"2,21\",\"1,8\",\"2,3\",\"1,72\",\"2,11\"\n",
      "1,Doha,Qatar Exxon Mobil Open,06/01/2020,ATP250,Outdoor,Hard,1st Round,3,Krajinovic F.,Edmund K.,40,69,1148,800,4,6,6,3,6,3,,,,,2,1,Completed,\"1,83\",\"1,83\",\"1,9\",\"1,99\",\"2,23\",\"2,1\",\"1,88\",\"1,92\"\n",
      "1,Doha,Qatar Exxon Mobil Open,07/01/2020,ATP250,Outdoor,Hard,1st Round,3,Djere L.,Sonego L.,39,51,1151,990,6,1,3,6,6,2,,,,,2,1,Completed,3,\"1,36\",\"3,18\",\"1,4\",\"3,2\",\"1,43\",\"3,03\",\"1,37\"\n",
      "1,Doha,Qatar Exxon Mobil Open,07/01/2020,ATP250,Outdoor,Hard,1st Round,3,Fucsovics M.,Tiafoe F.,70,47,790,1050,6,4,4,6,6,4,,,,,2,1,Completed,2,\"1,72\",\"2,03\",\"1,86\",\"2,1\",\"1,87\",\"2,01\",\"1,78\"\n"
     ]
    }
   ],
   "source": [
    "!head 2020.csv"
   ]
  },
  {
   "cell_type": "code",
   "execution_count": 1,
   "metadata": {},
   "outputs": [],
   "source": [
    "def load_data(data_file):\n",
    "    # read text lines\n",
    "    raw_lines = []\n",
    "    with open(data_file) as f:\n",
    "        raw_lines = [line.strip() for line in f]\n",
    "    \n",
    "    # extract header\n",
    "    header = raw_lines[0]\n",
    "    fields = header.split(\",\")\n",
    "    \n",
    "    # put data into a \"transposed\" dictionary\n",
    "    data = { c:[] for c in fields }\n",
    "    for line in raw_lines[1:]:\n",
    "        values = line.split(\",\")\n",
    "        for c,v in zip(fields, values):\n",
    "            data[c] += [v]\n",
    "    \n",
    "    return data"
   ]
  },
  {
   "cell_type": "code",
   "execution_count": 2,
   "metadata": {},
   "outputs": [
    {
     "name": "stdout",
     "output_type": "stream",
     "text": [
      "dict_keys(['ATP', 'Location', 'Tournament', 'Date', 'Series', 'Court', 'Surface', 'Round', 'Best of', 'Winner', 'Loser', 'WRank', 'LRank', 'WPts', 'LPts', 'W1', 'L1', 'W2', 'L2', 'W3', 'L3', 'W4', 'L4', 'W5', 'L5', 'Wsets', 'Lsets', 'Comment', 'B365W', 'B365L', 'PSW', 'PSL', 'MaxW', 'MaxL', 'AvgW', 'AvgL'])\n"
     ]
    }
   ],
   "source": [
    "dataset = \"2020.csv\"\n",
    "\n",
    "data = load_data(dataset)\n",
    "print ( data.keys() )"
   ]
  },
  {
   "cell_type": "code",
   "execution_count": null,
   "metadata": {},
   "outputs": [],
   "source": [
    "print ( data[\"Location\"] )"
   ]
  },
  {
   "cell_type": "markdown",
   "metadata": {},
   "source": [
    "## Answer the following questions:\n",
    "\n",
    " - What is the number of matches?\n",
    " - List the tournament names (without duplicates)\n",
    " - List the player names (without duplicates)\n",
    " - Find the player with most wins and the corresponding number of wins"
   ]
  },
  {
   "cell_type": "markdown",
   "metadata": {},
   "source": [
    "## What is the number of matches?"
   ]
  },
  {
   "cell_type": "code",
   "execution_count": null,
   "metadata": {},
   "outputs": [],
   "source": []
  },
  {
   "cell_type": "markdown",
   "metadata": {},
   "source": [
    "## List the tournament names"
   ]
  },
  {
   "cell_type": "code",
   "execution_count": null,
   "metadata": {},
   "outputs": [],
   "source": []
  },
  {
   "cell_type": "markdown",
   "metadata": {},
   "source": [
    "## List the player names"
   ]
  },
  {
   "cell_type": "code",
   "execution_count": null,
   "metadata": {},
   "outputs": [],
   "source": []
  },
  {
   "cell_type": "markdown",
   "metadata": {},
   "source": [
    "## Find the player with most wins"
   ]
  },
  {
   "cell_type": "code",
   "execution_count": null,
   "metadata": {},
   "outputs": [],
   "source": []
  },
  {
   "cell_type": "markdown",
   "metadata": {},
   "source": [
    "## Moving to databases!"
   ]
  },
  {
   "cell_type": "code",
   "execution_count": null,
   "metadata": {},
   "outputs": [],
   "source": [
    "import sqlite3\n",
    "\n",
    "con = sqlite3.connect(\"tennis.db\")\n",
    "\n",
    "con.execute('''CREATE TABLE IF NOT EXISTS event(atp integer,\n",
    "                                                location text, \n",
    "                                                tournament text, \n",
    "                                                date text, \n",
    "                                                series text, \n",
    "                                                court text, \n",
    "                                                surface text, \n",
    "                                                PRIMARY KEY (atp))''')\n",
    "\n",
    "con.execute(\"INSERT INTO event VALUES (?, ?, ?, ?, ?, ?, ?)\",\n",
    "            (1, \"Doha\", \"Qatar Exxon Mobil Open\", \"06/01/2020\", \"ATP250\", \"Outdoor\", \"Hard\"))\n",
    "\n",
    "con.execute('''CREATE TABLE IF NOT EXISTS match(id integer,\n",
    "                                                tournament integer,\n",
    "                                                round text, \n",
    "                                                bestof integer,\n",
    "                                                winner text,\n",
    "                                                loser text,  \n",
    "                                                wrank integer, \n",
    "                                                lrank integer, \n",
    "                                                PRIMARY KEY (id),\n",
    "                                                FOREIGN KEY (tournament) REFERENCES event(atp))''')\n",
    "\n",
    "con.execute(\"INSERT INTO match VALUES (?, ?, ?, ?, ?, ?, ?, ?)\",\n",
    "            (0, 1, \"1st Round\", \"3\", \"Bublik A.\", \"Mannarino A.\", 55, 43))\n",
    "\n",
    "cur = con.cursor()\n",
    "cur.execute(\"SELECT * FROM match\")\n",
    "for r in cur.fetchall():\n",
    "    print (r)\n",
    "\n",
    "con.execute(\"DELETE FROM event\")\n",
    "con.execute(\"DELETE FROM match\")\n",
    "    \n",
    "con.commit()\n",
    "con.close()"
   ]
  },
  {
   "cell_type": "markdown",
   "metadata": {},
   "source": [
    "## Exercise\n",
    "Write a Python function which saves all the information from our csv file into a SQLite database, then use SQL to directly find the player with most wins and the corresponding number of wins."
   ]
  },
  {
   "cell_type": "code",
   "execution_count": null,
   "metadata": {},
   "outputs": [],
   "source": []
  }
 ],
 "metadata": {
  "kernelspec": {
   "display_name": "Python 3 (ipykernel)",
   "language": "python",
   "name": "python3"
  },
  "language_info": {
   "codemirror_mode": {
    "name": "ipython",
    "version": 3
   },
   "file_extension": ".py",
   "mimetype": "text/x-python",
   "name": "python",
   "nbconvert_exporter": "python",
   "pygments_lexer": "ipython3",
   "version": "3.10.4"
  },
  "latex_envs": {
   "LaTeX_envs_menu_present": true,
   "autoclose": false,
   "autocomplete": true,
   "bibliofile": "biblio.bib",
   "cite_by": "apalike",
   "current_citInitial": 1,
   "eqLabelWithNumbers": true,
   "eqNumInitial": 1,
   "hotkeys": {
    "equation": "Ctrl-E",
    "itemize": "Ctrl-I"
   },
   "labels_anchors": false,
   "latex_user_defs": false,
   "report_style_numbering": false,
   "user_envs_cfg": false
  }
 },
 "nbformat": 4,
 "nbformat_minor": 2
}
