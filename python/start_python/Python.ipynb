{
 "cells": [
  {
   "cell_type": "markdown",
   "metadata": {},
   "source": [
    "# Basi di Dati Mod. 2 - Python crash course\n",
    "\n",
    "### Stefano Calzavara, Università Ca' Foscari Venezia\n",
    "### Parte di questo materiale è stato riadattato dal corso di Web Intelligence del prof. Claudio Lucchese\n",
    "\n"
   ]
  },
  {
   "cell_type": "markdown",
   "metadata": {},
   "source": [
    "## What is Python?\n",
    "\n",
    "Python is a powerful scripting language:\n",
    " - object-oriented language with support for functional programming\n",
    " - very easy syntax, similar to pseudo-code, and tons of libraries\n",
    " - dynamically typed: be careful!\n",
    "\n",
    "## How can I run my Python code ?\n",
    "\n",
    "Python is an **interpreted** language. It can be run in two modes:\n",
    " - interactive mode: launch with no argument and write your code in the prompt\n",
    " - non-interactive mode: launch passing a .py file and let it run\n",
    "\n",
    "In these lectures we use **Jupyter notebooks** for teaching purposes:\n",
    " - multiple ways to install Jupyter, pick one!\n",
    " - Anaconda: https://www.anaconda.com/distribution/\n",
    " - Colab: https://colab.research.google.com\n",
    " - we use python 3 and not python 2.7: significant differences\n",
    "\n",
    "Jupyter notebooks allow one to:\n",
    " - write complex documents interleaving text with programs\n",
    " - run the programs through an interactive interpreter accessed via a web browser\n",
    " \n",
    "Great for teaching and fast prototyping!\n",
    " \n",
    "Additional tools:\n",
    " - PyCharm by JetBrains https://www.jetbrains.com/pycharm/\n",
    " - any other text editor or IDE, really\n",
    "\n",
    "## Your best friends in learning Python\n",
    "\n",
    "1. The Python website:\n",
    "    - plenty of links to books and tutorials!\n",
    "        - e.g., https://docs.python.org/3/tutorial/\n",
    "0. The official Python documentation:\n",
    "    - https://docs.python.org/3/library/index.html\n",
    "0. Google & StackOverflow:\n",
    "    - try googling for `TypeError: can't multiply sequence by non-int of type 'float'`\n",
    "0. Python Tutor\n",
    "    - visualizes the execution of python code\n",
    "    - http://pythontutor.com/\n",
    "\n",
    "## Who uses Python\n",
    "\n",
    " - The popular *YouTube* video sharing service is largely written in Python\n",
    " - The *Dropbox* storage service codes both its server and desktop client primarily in Python\n",
    " - The widespread *BitTorrent* peer-to-peer file sharing system began its life as a Python program\n",
    " - *Netflix* and *Yelp* have both documented the role of Python in their software infrastructures\n",
    " - *JPMorgan, Chase, UBS, Getco, and Citadel* apply Python to financial market forecasting\n",
    " - *NASA, Los Alamos, Fermilab, JPL*, and others use Python for scientific programming tasks\n",
    " - In \"The Anatomy of a Large-Scale Hypertextual Web Search Engine\" 1998, Google founders describe crawlers written in Python\n",
    " - All the users of *Flask*, the popular web development framework which we will study"
   ]
  },
  {
   "cell_type": "markdown",
   "metadata": {},
   "source": [
    "# Python types\n",
    "\n",
    "Python provides the following types:\n",
    "\n",
    "| Object type | Examples |\n",
    "|:-:|:-:|\n",
    "| Integers | `1234`, `5678`, ... |\n",
    "| Floats | `3.1415`, `7.0`, ...|\n",
    "| Strings | `'spam'`, `\"Bob's\"`, ... |\n",
    "| Lists   | `[1, [2, 'three'], 4.5]`, `list(range(10))`, ... |\n",
    "| Dictionaries | `{'food': 'spam', 'taste': 'yum'}`, `dict(hours=10)`, ... |\n",
    "| Tuples |  `(1, 'spam', 4, 'U')`, `tuple('spam')`, ...|\n",
    "| Files |   `open('eggs.txt')`, `open(r'C:\\ham.bin', 'wb')`, ... |\n",
    "| Sets  | `set('abc')`, `{'a', 'b', 'c'}`, ... |\n",
    "| Other core types | `Booleans`, `None`, ... |\n",
    "\n",
    " - The type of a variable is inferred from the context: no need for type annotations\n",
    " - You can use the function `type` to ask Python the type of an expression\n",
    " - The type determines the set of valid operators"
   ]
  },
  {
   "cell_type": "code",
   "execution_count": null,
   "metadata": {},
   "outputs": [],
   "source": [
    "a = 2.0\n",
    "print (type(a))\n",
    "a = \"Hello!\"\n",
    "print (type(a))\n",
    "print (type(3.1 * 5))"
   ]
  },
  {
   "cell_type": "markdown",
   "metadata": {},
   "source": [
    "# Numbers\n",
    "\n",
    "Check integer vs. floating point division. Type of the results is determined by the operation."
   ]
  },
  {
   "cell_type": "code",
   "execution_count": null,
   "metadata": {},
   "outputs": [],
   "source": [
    "print (\"What is the output of 11/2:\", 11/2)\n",
    "print (\"What is the output of 11%2:\", 11%2)\n",
    "print (\"What is the output of  2**10:\", 2**10)"
   ]
  },
  {
   "cell_type": "code",
   "execution_count": null,
   "metadata": {},
   "outputs": [],
   "source": [
    "print (\"What is the output of 11//2:\", 11//2)"
   ]
  },
  {
   "cell_type": "markdown",
   "metadata": {},
   "source": [
    "# Strings\n",
    "\n",
    "Check the `*` operation."
   ]
  },
  {
   "cell_type": "code",
   "execution_count": null,
   "metadata": {},
   "outputs": [],
   "source": [
    "print (\"What is the output of 'a'+'b':\",  'a'+'b'   )\n",
    "print (\"What is the output of 'a'=='b':\", 'a'=='b'  )\n",
    "print (\"What is the output of 'a'<='b':\", 'a'<='b'  )\n",
    "print (\"What is the output of 'a'<='A':\", 'a'<='A'  )"
   ]
  },
  {
   "cell_type": "code",
   "execution_count": null,
   "metadata": {},
   "outputs": [],
   "source": [
    "print (\"What is the output of 'a'*5:\",    'a'*5 )\n",
    "print (\"What is the output of 'a'/5:\", 'a'/5 )"
   ]
  },
  {
   "cell_type": "code",
   "execution_count": null,
   "metadata": {},
   "outputs": [],
   "source": [
    "print    (\"What is the output of int('10')/5:\", int('10')/5)"
   ]
  },
  {
   "cell_type": "code",
   "execution_count": null,
   "metadata": {},
   "outputs": [],
   "source": [
    "print ( str(9) * 4 )"
   ]
  },
  {
   "cell_type": "markdown",
   "metadata": {},
   "source": [
    "# Conditional Statements\n",
    "\n",
    "Tabbing is used to identify the body of `if`-`else` and other constructs such as `for`, `while`, `functions`.\n",
    "\n",
    "Check if a variable x is within the interval $[0,10]$."
   ]
  },
  {
   "cell_type": "code",
   "execution_count": null,
   "metadata": {},
   "outputs": [],
   "source": [
    "x = 33\n",
    "if x >= 0 and x <= 10:\n",
    "    print (\"x is in the interval [0,10]\")\n",
    "else:\n",
    "    print (\"x is not in the interval [0,10]\")"
   ]
  },
  {
   "cell_type": "code",
   "execution_count": null,
   "metadata": {},
   "outputs": [],
   "source": [
    "x = 33\n",
    "# This is a special compact form\n",
    "if 0 <= x <= 10:\n",
    "    print (\"x is in the interval [0,10]\")\n",
    "else:\n",
    "    print (\"x is not in the interval [0,10]\")"
   ]
  },
  {
   "cell_type": "markdown",
   "metadata": {},
   "source": [
    "# While Loops\n",
    "\n",
    "Nothing new: `while`, `break` `continue`. Don't forget about good programming!\n"
   ]
  },
  {
   "cell_type": "code",
   "execution_count": null,
   "metadata": {},
   "outputs": [],
   "source": [
    "i = 0\n",
    "while i < 10:\n",
    "    if i == 8: break\n",
    "    i += 1\n",
    "    \n",
    "    if i == 5: continue\n",
    "    print (\"Completed Iteration N.\", i)\n",
    "\n",
    "print (\"I'm out of the loop\")"
   ]
  },
  {
   "cell_type": "markdown",
   "metadata": {},
   "source": [
    "# For Loops\n",
    "\n",
    "A `range` is a special tool to create sequences of numbers, given start, end, and step parameters."
   ]
  },
  {
   "cell_type": "code",
   "execution_count": null,
   "metadata": {},
   "outputs": [],
   "source": [
    "for i in range(5):\n",
    "    print (\"This is Iteration N.\", i)"
   ]
  },
  {
   "cell_type": "code",
   "execution_count": null,
   "metadata": {},
   "outputs": [],
   "source": [
    "for i in range(0,10,2):\n",
    "    print (\"This is Iteration N.\", i)"
   ]
  },
  {
   "cell_type": "code",
   "execution_count": null,
   "metadata": {},
   "outputs": [],
   "source": [
    "for i in range(10,0,-2):\n",
    "    print (\"This is Iteration N.\", i)"
   ]
  },
  {
   "cell_type": "code",
   "execution_count": null,
   "metadata": {},
   "outputs": [],
   "source": [
    "print (range(5))"
   ]
  },
  {
   "cell_type": "markdown",
   "metadata": {},
   "source": [
    "This is called **iterable**! You can only iterate through it ..."
   ]
  },
  {
   "cell_type": "code",
   "execution_count": null,
   "metadata": {},
   "outputs": [],
   "source": [
    "print (type(range(5)))"
   ]
  },
  {
   "cell_type": "markdown",
   "metadata": {},
   "source": [
    "# Lists\n",
    "\n",
    "Lists are very frequently used. They are **heterogeneous** and **mutable**."
   ]
  },
  {
   "cell_type": "code",
   "execution_count": null,
   "metadata": {},
   "outputs": [],
   "source": [
    "for i in [0,1,2,3,4]:\n",
    "    print (\"This is Iteration N.\", i)"
   ]
  },
  {
   "cell_type": "code",
   "execution_count": null,
   "metadata": {},
   "outputs": [],
   "source": [
    "my_list = [1,2,3] + [4,5]\n",
    "print (my_list)"
   ]
  },
  {
   "cell_type": "code",
   "execution_count": null,
   "metadata": {},
   "outputs": [],
   "source": [
    "my_list = [1,2,3]\n",
    "my_list += [4,5]\n",
    "print (my_list)"
   ]
  },
  {
   "cell_type": "code",
   "execution_count": null,
   "metadata": {},
   "outputs": [],
   "source": [
    "my_list = [1,2,3] + [\"donald duck\", 42.0]\n",
    "print (my_list)"
   ]
  },
  {
   "cell_type": "code",
   "execution_count": null,
   "metadata": {},
   "outputs": [],
   "source": [
    "my_list = [1,2,3] + [\"donald duck\", [\"this\", \"is\", 1, \"nested\", \"list\"] ]\n",
    "print (my_list)"
   ]
  },
  {
   "cell_type": "code",
   "execution_count": null,
   "metadata": {},
   "outputs": [],
   "source": [
    "print ( len([1,2,3,4,5]) )\n",
    "print ( len([1,2,[3,4,5]]) )"
   ]
  },
  {
   "cell_type": "code",
   "execution_count": null,
   "metadata": {},
   "outputs": [],
   "source": [
    "my_list = [1,2,3,4,5]\n",
    "print ( my_list[0] )\n",
    "print ( my_list[4] )\n",
    "print ( my_list[5] )"
   ]
  },
  {
   "cell_type": "code",
   "execution_count": null,
   "metadata": {},
   "outputs": [],
   "source": [
    "my_list = [1,2,3,4,5]\n",
    "print ( my_list[-1] )\n",
    "print ( my_list[-2] )\n",
    "print ( my_list[-100] )"
   ]
  },
  {
   "cell_type": "code",
   "execution_count": null,
   "metadata": {},
   "outputs": [],
   "source": [
    "my_list = [1,2,3,4,5,4,3,2,1]\n",
    "\n",
    "print ( 3 in my_list )\n",
    "\n",
    "print ( my_list.count(3) )\n",
    "\n",
    "print ( my_list.index(1) )\n",
    "print ( my_list.index(33) ) # this raises an error"
   ]
  },
  {
   "cell_type": "markdown",
   "metadata": {},
   "source": [
    "# Slicing\n",
    "\n",
    "Slicing allows to access a sublist using a special syntax"
   ]
  },
  {
   "cell_type": "code",
   "execution_count": null,
   "metadata": {},
   "outputs": [],
   "source": [
    "my_list = ['red', 'orange', 'yellow', 'green', 'blue', 'indigo', 'violet']\n",
    "\n",
    "print ( my_list[1:3] ) "
   ]
  },
  {
   "cell_type": "code",
   "execution_count": null,
   "metadata": {},
   "outputs": [],
   "source": [
    "print ( my_list[3:-1] ) "
   ]
  },
  {
   "cell_type": "code",
   "execution_count": null,
   "metadata": {},
   "outputs": [],
   "source": [
    "print ( my_list[3:] )"
   ]
  },
  {
   "cell_type": "code",
   "execution_count": null,
   "metadata": {},
   "outputs": [],
   "source": [
    "print ( my_list[0:7:2] )"
   ]
  },
  {
   "cell_type": "code",
   "execution_count": null,
   "metadata": {},
   "outputs": [],
   "source": [
    "print ( my_list[0::2] )"
   ]
  },
  {
   "cell_type": "code",
   "execution_count": null,
   "metadata": {},
   "outputs": [],
   "source": [
    "print ( my_list[::2] )"
   ]
  },
  {
   "cell_type": "code",
   "execution_count": null,
   "metadata": {},
   "outputs": [],
   "source": [
    "print ( my_list[::-1] )"
   ]
  },
  {
   "cell_type": "markdown",
   "metadata": {},
   "source": [
    "# Lists are mutable\n",
    "\n",
    "Elements of a list can be replaced. Sublists can be replaced with other sublists."
   ]
  },
  {
   "cell_type": "code",
   "execution_count": null,
   "metadata": {},
   "outputs": [],
   "source": [
    "# original list\n",
    "my_list = ['red', 'orange', 'yellow', 'green', 'blue', 'indigo', 'violet']\n",
    "print (my_list)\n",
    "\n",
    "# modify one element\n",
    "my_list[-2] = 'ultramarine'\n",
    "\n",
    "# the new list\n",
    "print (my_list)"
   ]
  },
  {
   "cell_type": "code",
   "execution_count": null,
   "metadata": {},
   "outputs": [],
   "source": [
    "my_list = ['red', 'orange', 'yellow', 'green', 'blue', 'indigo', 'violet']\n",
    "my_list[4] = ['light blue', 'blue', 'dark blue']\n",
    "print (my_list)"
   ]
  },
  {
   "cell_type": "code",
   "execution_count": null,
   "metadata": {},
   "outputs": [],
   "source": [
    "# here we replace one slice with another slice\n",
    "my_list = ['red', 'orange', 'yellow', 'green', 'blue', 'indigo', 'violet']\n",
    "my_list[4:5] = ['light blue', 'dark blue', 'darker blue']\n",
    "print (my_list)"
   ]
  },
  {
   "cell_type": "code",
   "execution_count": null,
   "metadata": {},
   "outputs": [],
   "source": [
    "# A special case of replacement when start and end index are the same\n",
    "my_list = ['red', 'orange', 'yellow', 'green', 'blue', 'indigo', 'violet']\n",
    "my_list[5:5] = ['light blue', 'dark blue', 'darker blue'] \n",
    "print (my_list)"
   ]
  },
  {
   "cell_type": "code",
   "execution_count": null,
   "metadata": {},
   "outputs": [],
   "source": [
    "my_list = ['red', 'orange', 'yellow', 'green', 'blue', 'indigo', 'violet']\n",
    "my_list[2] = []\n",
    "print (my_list)"
   ]
  },
  {
   "cell_type": "code",
   "execution_count": null,
   "metadata": {},
   "outputs": [],
   "source": [
    "my_list = ['red', 'orange', 'yellow', 'green', 'blue', 'indigo', 'violet']\n",
    "my_list[2:3] = []\n",
    "print (my_list)"
   ]
  },
  {
   "cell_type": "code",
   "execution_count": null,
   "metadata": {},
   "outputs": [],
   "source": [
    "my_list = ['red', 'orange', 'yellow', 'green', 'blue', 'indigo', 'violet']\n",
    "\n",
    "print (\"Is orange in the rainbow?\", 'orange' in my_list )\n",
    "\n",
    "print (\"Is brown in the rainbow?\", 'brown' in my_list )\n",
    "\n",
    "print (\"Is it true that cobalt is not in the rainbow?\", 'cobalt' not in my_list )"
   ]
  },
  {
   "cell_type": "markdown",
   "metadata": {},
   "source": [
    "# Tuple\n",
    "\n",
    "Tuples are largely similar to lists, but they are **immutable**."
   ]
  },
  {
   "cell_type": "code",
   "execution_count": null,
   "metadata": {},
   "outputs": [],
   "source": [
    "my_tuple = (1,2,3,4, \"five\")\n",
    "\n",
    "print (my_tuple)\n",
    "print (my_tuple[2])"
   ]
  },
  {
   "cell_type": "code",
   "execution_count": null,
   "metadata": {},
   "outputs": [],
   "source": [
    "my_tuple[2] = 3"
   ]
  },
  {
   "cell_type": "code",
   "execution_count": null,
   "metadata": {},
   "outputs": [],
   "source": [
    "my_tuple = (1,2,3) \n",
    "my_tuple += (4, \"five\")\n",
    "\n",
    "print (my_tuple)\n",
    "print (my_tuple[2])"
   ]
  },
  {
   "cell_type": "markdown",
   "metadata": {},
   "source": [
    "# Unpacking\n",
    "\n",
    "Multiple assignment, typical of function returning multiple values."
   ]
  },
  {
   "cell_type": "code",
   "execution_count": null,
   "metadata": {},
   "outputs": [],
   "source": [
    "my_tuple = (1,2,3)\n",
    "a,b,c = my_tuple\n",
    "print (a,b,c)"
   ]
  },
  {
   "cell_type": "code",
   "execution_count": null,
   "metadata": {},
   "outputs": [],
   "source": [
    "my_list = [1,2,3]\n",
    "a,b,c = my_list\n",
    "print (a,b,c)"
   ]
  },
  {
   "cell_type": "markdown",
   "metadata": {},
   "source": [
    "# Sorting\n",
    "\n",
    "In-place vs. returning a new list."
   ]
  },
  {
   "cell_type": "code",
   "execution_count": null,
   "metadata": {},
   "outputs": [],
   "source": [
    "my_list = [2,3,1]\n",
    "\n",
    "my_list.sort()\n",
    "\n",
    "print (my_list)"
   ]
  },
  {
   "cell_type": "code",
   "execution_count": null,
   "metadata": {},
   "outputs": [],
   "source": [
    "my_list = [2,3,1]\n",
    "\n",
    "new_list = sorted( my_list )\n",
    "\n",
    "print (my_list)\n",
    "print (new_list)"
   ]
  },
  {
   "cell_type": "markdown",
   "metadata": {},
   "source": [
    "# Be careful!\n",
    "\n",
    "Check in python tutor when you are in doubt! http://pythontutor.com/"
   ]
  },
  {
   "cell_type": "code",
   "execution_count": null,
   "metadata": {},
   "outputs": [],
   "source": [
    "a = 11\n",
    "b = a\n",
    "a = 22\n",
    "print (a,b)"
   ]
  },
  {
   "cell_type": "code",
   "execution_count": null,
   "metadata": {},
   "outputs": [],
   "source": [
    "a = [11]\n",
    "b = a\n",
    "a[0] = 22\n",
    "print (a,b)"
   ]
  },
  {
   "cell_type": "code",
   "execution_count": null,
   "metadata": {},
   "outputs": [],
   "source": [
    "a = b = [1,2]\n",
    "c = d = [1,2]\n",
    "a += [3]\n",
    "c = c + [3]\n",
    "print(b)\n",
    "print(d)"
   ]
  },
  {
   "cell_type": "code",
   "execution_count": null,
   "metadata": {},
   "outputs": [],
   "source": [
    "my_list = [1,2,3]\n",
    "new_list = my_list\n",
    "my_list += [77]\n",
    "print ( new_list + my_list)"
   ]
  },
  {
   "cell_type": "code",
   "execution_count": null,
   "metadata": {},
   "outputs": [],
   "source": [
    "my_list = [1,2,3] * 2\n",
    "print (my_list)"
   ]
  },
  {
   "cell_type": "code",
   "execution_count": null,
   "metadata": {},
   "outputs": [],
   "source": [
    "my_list = [ [1,2,3] ] * 2\n",
    "print (my_list)"
   ]
  },
  {
   "cell_type": "code",
   "execution_count": null,
   "metadata": {},
   "outputs": [],
   "source": [
    "my_list[0] += [4]\n",
    "print ( my_list )"
   ]
  },
  {
   "cell_type": "code",
   "execution_count": null,
   "metadata": {},
   "outputs": [],
   "source": [
    "my_tuple = (1,2,3)\n",
    "new_tuple = my_tuple\n",
    "my_tuple += tuple([77])\n",
    "print ( new_tuple + my_tuple)"
   ]
  },
  {
   "cell_type": "code",
   "execution_count": null,
   "metadata": {},
   "outputs": [],
   "source": [
    "# if you want to actually copy a list\n",
    "a = [11]\n",
    "b = a.copy()\n",
    "a[0] = 22\n",
    "print (a,b)"
   ]
  },
  {
   "cell_type": "code",
   "execution_count": null,
   "metadata": {},
   "outputs": [],
   "source": [
    "a = [11]\n",
    "b = list(a)\n",
    "a[0] = 22\n",
    "print (a,b)"
   ]
  },
  {
   "cell_type": "code",
   "execution_count": null,
   "metadata": {},
   "outputs": [],
   "source": [
    "a = [11]\n",
    "b = a[:]\n",
    "a[0] = 22\n",
    "print (a,b)"
   ]
  },
  {
   "cell_type": "markdown",
   "metadata": {},
   "source": [
    "# Iterating through lists\n",
    "\n",
    "Or through multiple lists."
   ]
  },
  {
   "cell_type": "code",
   "execution_count": null,
   "metadata": {},
   "outputs": [],
   "source": [
    "my_list = [2,3,1]\n",
    "for x in my_list:\n",
    "    print (x)"
   ]
  },
  {
   "cell_type": "code",
   "execution_count": null,
   "metadata": {},
   "outputs": [],
   "source": [
    "my_list = [2,3,1]\n",
    "for i,x in enumerate(my_list):\n",
    "    print (i,x)"
   ]
  },
  {
   "cell_type": "code",
   "execution_count": null,
   "metadata": {},
   "outputs": [],
   "source": [
    "my_list = [2,3,1]\n",
    "for z in enumerate(my_list):\n",
    "    print (z, type(z))"
   ]
  },
  {
   "cell_type": "code",
   "execution_count": null,
   "metadata": {},
   "outputs": [],
   "source": [
    "A = [2,3,1]\n",
    "B = [\"two\", \"three\", \"one\"]\n",
    "for a,b in zip(A,B):\n",
    "    print (a,b)"
   ]
  },
  {
   "cell_type": "markdown",
   "metadata": {},
   "source": [
    "# More about strings\n",
    "\n",
    "Strings are like lists of character, but they are **immutable**."
   ]
  },
  {
   "cell_type": "code",
   "execution_count": null,
   "metadata": {},
   "outputs": [],
   "source": [
    "msg = \"I like programming with python!\""
   ]
  },
  {
   "cell_type": "code",
   "execution_count": null,
   "metadata": {},
   "outputs": [],
   "source": [
    "print (msg[2])"
   ]
  },
  {
   "cell_type": "code",
   "execution_count": null,
   "metadata": {},
   "outputs": [],
   "source": [
    "print (msg[2:6])"
   ]
  },
  {
   "cell_type": "code",
   "execution_count": null,
   "metadata": {},
   "outputs": [],
   "source": [
    "msg[3] = \"x\""
   ]
  },
  {
   "cell_type": "code",
   "execution_count": null,
   "metadata": {},
   "outputs": [],
   "source": [
    "for c in msg:\n",
    "    print (c)"
   ]
  },
  {
   "cell_type": "code",
   "execution_count": null,
   "metadata": {},
   "outputs": [],
   "source": [
    "print (msg.split())"
   ]
  },
  {
   "cell_type": "code",
   "execution_count": null,
   "metadata": {},
   "outputs": [],
   "source": [
    "print (msg.split(\"i\"))"
   ]
  },
  {
   "cell_type": "code",
   "execution_count": null,
   "metadata": {},
   "outputs": [],
   "source": [
    "#Remove leading and trailing whitespaces\n",
    "\n",
    "my_string = \"     A Bit of Python \\n\"\n",
    "\n",
    "print ( \"---\", my_string, \"---\" )\n",
    "print ( \"---\", my_string.strip(), \"---\" )"
   ]
  },
  {
   "cell_type": "code",
   "execution_count": null,
   "metadata": {},
   "outputs": [],
   "source": [
    "# Remove leading and trailing characters of choice\n",
    "\n",
    "my_string = \"###!#!#!##!#A Bit of Python?!!???##\"\n",
    "\n",
    "print ( \"---\", my_string.strip(\"#\"), \"---\" )\n",
    "print ( \"---\", my_string.strip(\"#?\"), \"---\" )\n",
    "print ( \"---\", my_string.strip(\"!?#\"), \"---\" )"
   ]
  },
  {
   "cell_type": "markdown",
   "metadata": {},
   "source": [
    "# Sets\n",
    "\n",
    "The mathematical notion of set."
   ]
  },
  {
   "cell_type": "code",
   "execution_count": null,
   "metadata": {},
   "outputs": [],
   "source": [
    "my_set = set([1,2,3,4,5,4,3,2,1])\n",
    "\n",
    "print (my_set)"
   ]
  },
  {
   "cell_type": "code",
   "execution_count": null,
   "metadata": {},
   "outputs": [],
   "source": [
    "A = set([1,2,3])\n",
    "B = set([4,5])\n",
    "C = A | B\n",
    "\n",
    "print (C)"
   ]
  },
  {
   "cell_type": "code",
   "execution_count": null,
   "metadata": {},
   "outputs": [],
   "source": [
    "A = set([1,2,3])\n",
    "B = set([3,4,5])\n",
    "C = A & B\n",
    "\n",
    "print (C)"
   ]
  },
  {
   "cell_type": "code",
   "execution_count": null,
   "metadata": {},
   "outputs": [],
   "source": [
    "A = set([1,2,3])\n",
    "B = set([3,4,5])\n",
    "C = A - B\n",
    "\n",
    "print (C)"
   ]
  },
  {
   "cell_type": "code",
   "execution_count": null,
   "metadata": {},
   "outputs": [],
   "source": [
    "A = set([1,2,3])\n",
    "B = set([3,4,5])\n",
    "\n",
    "print (1 in A)\n",
    "print (7 not in A)"
   ]
  },
  {
   "cell_type": "markdown",
   "metadata": {},
   "source": [
    "# Dictionaries\n",
    "\n",
    "A dictionary is a map between keys and values"
   ]
  },
  {
   "cell_type": "code",
   "execution_count": null,
   "metadata": {},
   "outputs": [],
   "source": [
    "my_dict = {1:\"Jan\", 2:\"Feb\", 3:\"Mar\", 4:\"Apr\", 5:\"May\", 6:\"Jun\",\n",
    "           7:\"Jul\", 8:\"Aug\", 9:\"Sep\", 10:\"Oct\", 11:\"Nov\", 12:\"Dec\"}\n",
    "\n",
    "print (my_dict[0])"
   ]
  },
  {
   "cell_type": "code",
   "execution_count": null,
   "metadata": {},
   "outputs": [],
   "source": [
    "my_dict = {1:\"Jan\", 2:\"Feb\", 3:\"Mar\", 4:\"Apr\", 5:\"May\", 6:\"Jun\",\n",
    "           7:\"Jul\", 8:\"Aug\", 9:\"Sep\", 10:\"Oct\", 11:\"Nov\", 12:\"Dec\"}\n",
    "\n",
    "print (my_dict[1])\n",
    "print (my_dict[12])"
   ]
  },
  {
   "cell_type": "code",
   "execution_count": null,
   "metadata": {},
   "outputs": [],
   "source": [
    "my_dict = {1:\"Jan\", 2:\"Feb\", 3:\"Mar\", 4:\"Apr\", 5:\"May\", 6:\"Jun\",\n",
    "           7:\"Jul\", 8:\"Aug\", 9:\"Sep\", 10:\"Oct\", 11:\"Nov\", 12:\"Dec\"}\n",
    "\n",
    "my_dict[1] = 777\n",
    "del my_dict[12]\n",
    "print (my_dict)"
   ]
  },
  {
   "cell_type": "code",
   "execution_count": null,
   "metadata": {},
   "outputs": [],
   "source": [
    "my_dict[84] = \"spam\"\n",
    "print (my_dict)"
   ]
  },
  {
   "cell_type": "code",
   "execution_count": null,
   "metadata": {},
   "outputs": [],
   "source": [
    "print (my_dict.keys())"
   ]
  },
  {
   "cell_type": "code",
   "execution_count": null,
   "metadata": {},
   "outputs": [],
   "source": [
    "print (my_dict.values())"
   ]
  },
  {
   "cell_type": "code",
   "execution_count": null,
   "metadata": {},
   "outputs": [],
   "source": [
    "my_dict = {1:\"Jan\", 2:\"Feb\", 3:\"Mar\", 4:\"Apr\", 5:\"May\", 6:\"Jun\",\n",
    "           7:\"Jul\", 8:\"Aug\", 9:\"Sep\", 10:\"Oct\", 11:\"Nov\", 12:\"Dec\"}\n",
    "\n",
    "for k in my_dict:\n",
    "    print (k)"
   ]
  },
  {
   "cell_type": "code",
   "execution_count": null,
   "metadata": {},
   "outputs": [],
   "source": [
    "my_dict = {1:\"Jan\", 2:\"Feb\", 3:\"Mar\", 4:\"Apr\", 5:\"May\", 6:\"Jun\",\n",
    "           7:\"Jul\", 8:\"Aug\", 9:\"Sep\", 10:\"Oct\", 11:\"Nov\", 12:\"Dec\"}\n",
    "\n",
    "for k,v in my_dict.items():\n",
    "    print (k,v)"
   ]
  },
  {
   "cell_type": "markdown",
   "metadata": {},
   "source": [
    "# Comprehensions\n",
    "\n",
    "Creating lists by iterating through other lists."
   ]
  },
  {
   "cell_type": "code",
   "execution_count": null,
   "metadata": {},
   "outputs": [],
   "source": [
    "my_list = [x**2 for x in range(10)]\n",
    "print (my_list)"
   ]
  },
  {
   "cell_type": "code",
   "execution_count": null,
   "metadata": {},
   "outputs": [],
   "source": [
    "my_list = [x**2 for x in range(10) if x%2==0]\n",
    "print (my_list)"
   ]
  },
  {
   "cell_type": "code",
   "execution_count": null,
   "metadata": {},
   "outputs": [],
   "source": [
    "my_dict = {x:x**2 for x in range(10) if x%2==0}\n",
    "print (my_dict)"
   ]
  },
  {
   "cell_type": "markdown",
   "metadata": {},
   "source": [
    "# Functions\n",
    "\n",
    "Do not write code outside functions! Be careful when passing lists as parameters...\n",
    "\n",
    "You can return lists, tuples, sets, dictionaries, etc."
   ]
  },
  {
   "cell_type": "code",
   "execution_count": null,
   "metadata": {},
   "outputs": [],
   "source": [
    "def square(x):\n",
    "    return x**2\n",
    "\n",
    "print ( square(3) )"
   ]
  },
  {
   "cell_type": "code",
   "execution_count": null,
   "metadata": {},
   "outputs": [],
   "source": [
    "def powers(x,n):\n",
    "    return [ x**i for i in range(n) ]\n",
    "\n",
    "print ( powers(2,5) )"
   ]
  },
  {
   "cell_type": "code",
   "execution_count": null,
   "metadata": {},
   "outputs": [],
   "source": [
    "copy_f = powers\n",
    "\n",
    "print ( copy_f(2,5) )"
   ]
  },
  {
   "cell_type": "code",
   "execution_count": null,
   "metadata": {},
   "outputs": [],
   "source": [
    "powers_3 = lambda x:powers(x,3)\n",
    "\n",
    "print (powers_3(5))"
   ]
  },
  {
   "cell_type": "code",
   "execution_count": null,
   "metadata": {},
   "outputs": [],
   "source": [
    "a = [1,-2,3,-4,5,-6]\n",
    "\n",
    "print (sorted(a))\n",
    "\n",
    "print (sorted(a, key=lambda x:abs(x)))"
   ]
  },
  {
   "cell_type": "code",
   "execution_count": null,
   "metadata": {},
   "outputs": [],
   "source": [
    "def add1(x):\n",
    "    x+=1\n",
    "    return x\n",
    "\n",
    "y = 10\n",
    "z = add1(y)\n",
    "print( y,z )"
   ]
  },
  {
   "cell_type": "code",
   "execution_count": null,
   "metadata": {},
   "outputs": [],
   "source": [
    "def add1(x):\n",
    "    for i in range(len(x)):\n",
    "        x[i] = x[i]+1\n",
    "    return x\n",
    "\n",
    "\n",
    "y = [1,2,3,4,5]\n",
    "z = add1(y)\n",
    "print( y,z )"
   ]
  },
  {
   "cell_type": "code",
   "execution_count": null,
   "metadata": {},
   "outputs": [],
   "source": [
    "def myfun (a, b=3, c=77):\n",
    "    print (a,b,c)\n",
    "    \n",
    "myfun(10)\n",
    "myfun(10,20)\n",
    "myfun(10, c=99)"
   ]
  },
  {
   "cell_type": "markdown",
   "metadata": {},
   "source": [
    "# Classes and objects"
   ]
  },
  {
   "cell_type": "code",
   "execution_count": null,
   "metadata": {},
   "outputs": [],
   "source": [
    "import math\n",
    "\n",
    "class Point:\n",
    "    \n",
    "    def __init__(self, x, y):    # three arguments are given\n",
    "        self.x = x\n",
    "        self.y = y\n",
    "        \n",
    "    def distance(self, p):\n",
    "        return math.sqrt((self.x - p.x)**2 + (self.y - p.y)**2)"
   ]
  },
  {
   "cell_type": "code",
   "execution_count": null,
   "metadata": {},
   "outputs": [],
   "source": [
    "p = Point(2.0, 6.0)\n",
    "q = Point(2.0, 2.0)\n",
    "print(p.distance(q))"
   ]
  },
  {
   "cell_type": "code",
   "execution_count": null,
   "metadata": {},
   "outputs": [],
   "source": [
    "print(p.x)"
   ]
  },
  {
   "cell_type": "code",
   "execution_count": null,
   "metadata": {},
   "outputs": [],
   "source": [
    "class Dog:\n",
    "\n",
    "    tricks = []             # shared by all instances of the class\n",
    "\n",
    "    def __init__(self, name):\n",
    "        self.name = name\n",
    "\n",
    "    def add_trick(self, trick):\n",
    "        self.tricks.append(trick)\n",
    "        \n",
    "    def bark(self):\n",
    "        return \"Bau bau bau!\"\n",
    "\n",
    "d = Dog('Fido')\n",
    "e = Dog('Buddy')\n",
    "d.add_trick('roll over')\n",
    "e.add_trick('play dead')\n",
    "print(d.tricks)             # shared by all dogs"
   ]
  },
  {
   "cell_type": "code",
   "execution_count": null,
   "metadata": {},
   "outputs": [],
   "source": [
    "class Dog:\n",
    "\n",
    "    def __init__(self, name):\n",
    "        self.name = name\n",
    "        self.tricks = []    # creates a new empty list for each dog\n",
    "\n",
    "    def add_trick(self, trick):\n",
    "        self.tricks.append(trick)\n",
    "        \n",
    "    def bark(self):\n",
    "        return \"Bau bau bau!\"\n",
    "\n",
    "d = Dog('Fido')\n",
    "e = Dog('Buddy')\n",
    "d.add_trick('roll over')\n",
    "e.add_trick('play dead')\n",
    "print(d.tricks)\n",
    "print(e.tricks)"
   ]
  },
  {
   "cell_type": "code",
   "execution_count": null,
   "metadata": {},
   "outputs": [],
   "source": [
    "class DogWithPedigree(Dog):\n",
    "    \n",
    "    def __init__(self, name, parent):\n",
    "        Dog.__init__(self, name)\n",
    "        self.parent = parent\n",
    "        \n",
    "    def good_dog(self):\n",
    "        return set(self.parent.tricks).issubset(self.tricks)\n",
    "    \n",
    "    def bark(self):\n",
    "        return \"BAU BAU BAU!!!\"\n",
    "    \n",
    "f = DogWithPedigree('Bolt', d)\n",
    "print(f.good_dog())\n",
    "f.add_trick('roll over')\n",
    "print(f.good_dog())"
   ]
  },
  {
   "cell_type": "code",
   "execution_count": null,
   "metadata": {},
   "outputs": [],
   "source": [
    "print(d.bark())\n",
    "print(f.bark())"
   ]
  },
  {
   "cell_type": "markdown",
   "metadata": {},
   "source": [
    "# Let's play with data!\n",
    "\n",
    "I used excel to transform the data file from http://tennis-data.co.uk/alldata.php into a csv file."
   ]
  },
  {
   "cell_type": "code",
   "execution_count": null,
   "metadata": {},
   "outputs": [],
   "source": [
    "!ls"
   ]
  },
  {
   "cell_type": "code",
   "execution_count": null,
   "metadata": {},
   "outputs": [],
   "source": [
    "!head 2020.csv"
   ]
  },
  {
   "cell_type": "code",
   "execution_count": 12,
   "metadata": {},
   "outputs": [],
   "source": [
    "def load_data(data_file):\n",
    "    # read text lines\n",
    "    raw_lines = []\n",
    "    with open(data_file) as f:\n",
    "        raw_lines = [line.strip() for line in f]\n",
    "    \n",
    "    # extract header\n",
    "    header = raw_lines[0]\n",
    "    fields = header.split(\",\")\n",
    "    \n",
    "    # put data into a \"transposed\" dictionary\n",
    "    data = { c:[] for c in fields }\n",
    "    for line in raw_lines[1:]:\n",
    "        values = line.split(\",\")\n",
    "        for c,v in zip(fields, values):\n",
    "            data[c] += [v]\n",
    "    \n",
    "    return data"
   ]
  },
  {
   "cell_type": "code",
   "execution_count": 14,
   "metadata": {},
   "outputs": [
    {
     "name": "stdout",
     "output_type": "stream",
     "text": [
      "dict_keys(['ATP', 'Location', 'Tournament', 'Date', 'Series', 'Court', 'Surface', 'Round', 'Best of', 'Winner', 'Loser', 'WRank', 'LRank', 'WPts', 'LPts', 'W1', 'L1', 'W2', 'L2', 'W3', 'L3', 'W4', 'L4', 'W5', 'L5', 'Wsets', 'Lsets', 'Comment', 'B365W', 'B365L', 'PSW', 'PSL', 'MaxW', 'MaxL', 'AvgW', 'AvgL'])\n"
     ]
    }
   ],
   "source": [
    "dataset = \"2020.csv\"\n",
    "\n",
    "data = load_data(dataset)\n",
    "print ( data.keys() )"
   ]
  },
  {
   "cell_type": "code",
   "execution_count": null,
   "metadata": {},
   "outputs": [],
   "source": [
    "print ( data[\"Location\"] )"
   ]
  },
  {
   "cell_type": "markdown",
   "metadata": {},
   "source": [
    "## Answer the following questions:\n",
    "\n",
    " - What is the number of matches?\n",
    " - List the tournament names (without duplicates)\n",
    " - List the player names (without duplicates)\n",
    " - Find the player with most wins and the corresponding number of wins"
   ]
  },
  {
   "cell_type": "markdown",
   "metadata": {},
   "source": [
    "## What is the number of matches?"
   ]
  },
  {
   "cell_type": "code",
   "execution_count": 30,
   "metadata": {},
   "outputs": [
    {
     "name": "stdout",
     "output_type": "stream",
     "text": [
      "552\n"
     ]
    }
   ],
   "source": [
    "print(len(data[\"Surface\"]))"
   ]
  },
  {
   "cell_type": "markdown",
   "metadata": {},
   "source": [
    "## List the tournament names"
   ]
  },
  {
   "cell_type": "code",
   "execution_count": 19,
   "metadata": {},
   "outputs": [
    {
     "name": "stdout",
     "output_type": "stream",
     "text": [
      "{'Australian Open', 'Dubai Tennis Championships', 'Abierto Mexicano', 'Adelaide International', 'Open 13', 'Delray Beach Open', 'ABN AMRO World Tennis Tournament', 'Chile Open', 'Maharashtra Open', 'Argentina Open', 'Cordoba Open', 'Rio Open', 'ASB Classic', 'Open Sud de France', 'New York Open', 'Qatar Exxon Mobil Open'}\n"
     ]
    }
   ],
   "source": [
    "my_set = set()\n",
    "for i in data[\"Tournament\"]:\n",
    "    my_set.add(i)\n",
    "print(my_set)"
   ]
  },
  {
   "cell_type": "markdown",
   "metadata": {},
   "source": [
    "## List the player names"
   ]
  },
  {
   "cell_type": "code",
   "execution_count": 20,
   "metadata": {},
   "outputs": [
    {
     "name": "stdout",
     "output_type": "stream",
     "text": [
      "{'Diaz Acosta F.', 'Tsonga J.W.', 'Munar J.', 'Ivashka I.', 'Simon G.', 'Vilella Martinez M.', 'Djokovic N.', 'Schnur B.', 'Barrios Vera M.T.', 'Vesely J.', 'Klizan M.', 'Jung J.', 'Mayer L.', 'Musetti L.', 'Ilkel C.', 'Caruso S.', 'Ramanathan R.', 'Domingues J.', 'Nakashima B.', 'Robert S.', 'Ymer M.', 'Barrere G.', 'Pospisil V.', 'Kohlschreiber P.', 'Alcaraz C.', 'Millman J.', 'Hurkacz H.', 'Donskoy E.', 'Nagal S.', 'Mayot H.', 'Basilashvili N.', 'Zverev M.', 'Horansky F.', 'Koepfer D.', 'Monfils G.', 'Paire B.', 'Querrey S.', 'Kukushkin M.', 'Petrovic D.', 'Sousa P.', 'Istomin D.', 'Seppi A.', 'Novak D.', 'Djere L.', 'Cachin P.', 'Evans D.', 'Mannarino A.', 'Davidovich Fokina A.', 'Dimitrov G.', 'Gunneswaran P.', 'Coria F.', 'Dellien H.', 'Dzumhur D.', 'Khachanov K.', 'Ruud C.', 'Lopez F.', 'Trungelliti M.', 'Bedene A.', 'Bagnis F.', 'Gaston H.', 'Couacaud E.', 'Herbert P.H.', 'Kecmanovic M.', 'Venus M.', 'Pella G.', \"O'Connell C.\", 'Verdasco F.', 'Rosol L.', 'Karlovic I.', 'Jaziri M.', 'Fognini F.', 'Uchiyama Y.', 'Rublev A.', 'Martinez P.', 'Anderson K.', 'Kwon S.W.', 'Lorenzi P.', 'Paul T.', 'Gojowczyk P.', 'Coric B.', 'Harris A.', 'Ito T.', 'Gerasimov E.', 'Gomez E.', 'Popyrin A.', 'Medvedev D.', 'Goffin D.', 'Londero J.I.', 'Griekspoor T.', 'Soeda G.', 'Daniel T.', 'Martin A.', 'Varillas J.P.', 'Purcell M.', 'Ficovich J.P.', 'Tsitsipas S.', 'Zverev A.', 'Olivo R.', 'Kadhe A.', 'Giron M.', 'Mager G.', 'Benchetrit E.', 'Kyrgios N.', 'Humbert U.', 'Nadal R.', 'Ruusuvuori E.', 'Seyboth Wild T.', 'Kovalik J.', 'Sousa J.', 'Fabbiano T.', 'Duckworth J.', 'Polmans M.', 'Tabilo A.', 'Sock J.', 'Ramos-Vinolas A.', 'Smith J.P.', 'Haase R.', 'Lopez Villasenor G.', 'Sugita Y.', 'Giustino L.', 'Raonic M.', 'Delbonis F.', 'Cecchinato M.', 'Balazs A.', 'Gulbis E.', 'Meligeni Rodrigues F', 'De Minaur A.', 'Lu Y.H.', 'Kozlov S.', 'Auger-Aliassime F.', 'Monteiro T.', 'Eubanks C.', 'Garin C.', 'Harris L.', 'Federer R.', 'Chardy J.', 'Stakhovsky S.', 'Berrettini M.', 'Rubin N.', 'Gaio F.', 'Marcora R.', 'Mukund S.', 'Safwat M.', 'Halys Q.', 'Cuevas P.', 'Schwartzman D.', 'Struff J.L.', 'Krajinovic F.', 'Carreno Busta P.', 'Travaglia S.', 'Galan D.E.', 'Opelka R.', 'Johnson S.', 'Isner J.', 'Harrison R.', 'Cilic M.', 'Andujar P.', 'Cerundolo F.', 'Moutet C.', 'Sinner J.', 'Troicki V.', 'Sandgren T.', 'Mmoh M.', 'Norrie C.', 'Edmund K.', 'Gombos N.', 'Lajovic D.', 'Thiem D.', 'Bolt A.', 'Shi B.', 'Shapovalov D.', 'Mcdonald M.', 'Carballes Baena R.', 'Maden Y.', 'Wawrinka S.', 'Bautista Agut R.', 'Laaksonen H.', 'Milojevic N.', 'Fucsovics M.', 'Hoang A.', 'Bublik A.', 'Gasquet R.', 'Albot R.', 'Nishioka Y.', 'Tiafoe F.', 'Tomic B.', 'Berankis R.', 'Fritz T.', 'Sonego L.', 'Stebe C.M.', 'Thompson J.', 'Taberner C.'}\n"
     ]
    }
   ],
   "source": [
    "my_set = set()\n",
    "for i in data[\"Winner\"]:\n",
    "    my_set.add(i)\n",
    "for i in data[\"Loser\"]:\n",
    "    my_set.add(i)\n",
    "print(my_set)   "
   ]
  },
  {
   "cell_type": "markdown",
   "metadata": {},
   "source": [
    "## Find the player with most wins"
   ]
  },
  {
   "cell_type": "code",
   "execution_count": 28,
   "metadata": {},
   "outputs": [
    {
     "name": "stdout",
     "output_type": "stream",
     "text": [
      "Rublev A.\n"
     ]
    }
   ],
   "source": [
    "most_common_item = max(data[\"Winner\"], key = data[\"Winner\"].count)\n",
    "print(most_common_item)"
   ]
  },
  {
   "cell_type": "markdown",
   "metadata": {},
   "source": [
    "## Moving to databases!"
   ]
  },
  {
   "cell_type": "code",
   "execution_count": 90,
   "metadata": {},
   "outputs": [
    {
     "name": "stdout",
     "output_type": "stream",
     "text": [
      "(0, 1, '1st Round', 3, 'Bublik A.', 'Mannarino A.', 55, 43)\n"
     ]
    }
   ],
   "source": [
    "import sqlite3\n",
    "\n",
    "con = sqlite3.connect(\"tennis.db\")\n",
    "\n",
    "con.execute('''CREATE TABLE IF NOT EXISTS event(atp integer,\n",
    "                                                location text, \n",
    "                                                tournament text, \n",
    "                                                date text, \n",
    "                                                series text, \n",
    "                                                court text, \n",
    "                                                surface text, \n",
    "                                                PRIMARY KEY (atp))''')\n",
    "\n",
    "con.execute(\"INSERT INTO event VALUES (?, ?, ?, ?, ?, ?, ?)\",\n",
    "            (1, \"Doha\", \"Qatar Exxon Mobil Open\", \"06/01/2020\", \"ATP250\", \"Outdoor\", \"Hard\"))\n",
    "\n",
    "con.execute('''CREATE TABLE IF NOT EXISTS match(id integer,\n",
    "                                                tournament integer,\n",
    "                                                round text, \n",
    "                                                bestof integer,\n",
    "                                                winner text,\n",
    "                                                loser text,  \n",
    "                                                wrank integer, \n",
    "                                                lrank integer, \n",
    "                                                PRIMARY KEY (id),\n",
    "                                                FOREIGN KEY (tournament) REFERENCES event(atp))''')\n",
    "\n",
    "con.execute(\"INSERT INTO match VALUES (?, ?, ?, ?, ?, ?, ?, ?)\",\n",
    "            (0, 1, \"1st Round\", \"3\", \"Bublik A.\", \"Mannarino A.\", 55, 43))\n",
    "\n",
    "cur = con.cursor()\n",
    "cur.execute(\"SELECT * FROM match\")\n",
    "for r in cur.fetchall():\n",
    "    print (r)\n",
    "\n",
    "con.execute(\"DELETE FROM event\")\n",
    "con.execute(\"DELETE FROM match\")\n",
    "    \n",
    "con.commit()\n",
    "con.close()"
   ]
  },
  {
   "cell_type": "markdown",
   "metadata": {},
   "source": [
    "## Exercise\n",
    "Write a Python function which saves all the information from our csv file into a SQLite database, then use SQL to directly find the player with most wins and the corresponding number of wins."
   ]
  },
  {
   "cell_type": "code",
   "execution_count": 95,
   "metadata": {},
   "outputs": [],
   "source": [
    "import sqlite3\n",
    "con = sqlite3.connect(\"tennis.db\")\n",
    "def load_data_to_database(data):\n",
    "   atp_set = set()\n",
    "   for i in range(552):\n",
    "      if (data)['ATP'][i] not in atp_set:\n",
    "         atp_set.add((data)['ATP'][i])\n",
    "         con.execute(\"INSERT INTO event VALUES (?, ?, ?, ?, ?, ?, ?)\",((data)['ATP'][i],(data)['Location'][i], (data)['Tournament'][i], (data)['Date'][i], (data)['Series'][i], (data)['Court'][i], (data)['Surface'][i]))  \n",
    "         #print((data)['ATP'][i],(data)['Location'][i], (data)['Tournament'][i], (data)['Date'][i], (data)['Series'][i], (data)['Court'][i], (data)['Surface'][i])\n",
    "   for i in range(552):\n",
    "      con.execute(\"INSERT INTO match VALUES (?, ?, ?, ?, ?, ?, ?, ?)\",(i, (data)['ATP'][i], (data)['Round'][i], (data)['Best of'][i], (data)['Winner'][i], (data)['Loser'][i], (data)['WRank'][i], (data)['LRank'][i]))\n",
    "      #print((data)['ATP'][i],(data)['Location'][i], (data)['Tournament'][i], (data)['Date'][i], (data)['Series'][i], (data)['Court'][i], (data)['Surface'][i])\n",
    "   con.commit()\n",
    "   con.close()\n",
    "\n",
    "dataset = \"2020.csv\"\n",
    "data = load_data(dataset)\n",
    "load_data_to_database(data)\n"
   ]
  },
  {
   "cell_type": "code",
   "execution_count": 96,
   "metadata": {},
   "outputs": [
    {
     "name": "stdout",
     "output_type": "stream",
     "text": [
      "(0, 1, '1st Round', 3, 'Bublik A.', 'Mannarino A.', 55, 43)\n",
      "(1, 1, '1st Round', 3, 'Moutet C.', 'Sandgren T.', 81, 68)\n",
      "(2, 1, '1st Round', 3, 'Verdasco F.', 'Andujar P.', 49, 64)\n",
      "(3, 1, '1st Round', 3, 'Bedene A.', 'Ymer M.', 58, 76)\n",
      "(4, 1, '1st Round', 3, 'Chardy J.', 'Barrere G.', 54, 83)\n",
      "(5, 1, '1st Round', 3, 'Kecmanovic M.', 'Thompson J.', 62, 63)\n",
      "(6, 1, '1st Round', 3, 'Krajinovic F.', 'Edmund K.', 40, 69)\n",
      "(7, 1, '1st Round', 3, 'Djere L.', 'Sonego L.', 39, 51)\n",
      "(8, 1, '1st Round', 3, 'Fucsovics M.', 'Tiafoe F.', 70, 47)\n",
      "(9, 1, '1st Round', 3, 'Ilkel C.', 'Berankis R.', 279, 67)\n",
      "(10, 1, '1st Round', 3, 'Kukushkin M.', 'Jaziri M.', 66, 229)\n",
      "(11, 1, '1st Round', 3, 'Herbert P.H.', 'Cecchinato M.', 65, 75)\n",
      "(12, 1, '2nd Round', 3, 'Bedene A.', 'Bublik A.', 58, 55)\n",
      "(13, 1, '2nd Round', 3, 'Wawrinka S.', 'Chardy J.', 15, 54)\n",
      "(14, 1, '2nd Round', 3, 'Rublev A.', 'Kukushkin M.', 23, 66)\n",
      "(15, 1, '2nd Round', 3, 'Fucsovics M.', 'Ilkel C.', 70, 279)\n",
      "(16, 1, '2nd Round', 3, 'Verdasco F.', 'Krajinovic F.', 49, 40)\n",
      "(17, 1, '2nd Round', 3, 'Herbert P.H.', 'Djere L.', 65, 39)\n",
      "(18, 1, '2nd Round', 3, 'Kecmanovic M.', 'Tsonga J.W.', 62, 30)\n",
      "(19, 1, '2nd Round', 3, 'Moutet C.', 'Raonic M.', 81, 32)\n",
      "(20, 1, 'Quarterfinals', 3, 'Kecmanovic M.', 'Fucsovics M.', 62, 70)\n",
      "(21, 1, 'Quarterfinals', 3, 'Rublev A.', 'Herbert P.H.', 23, 65)\n",
      "(22, 1, 'Quarterfinals', 3, 'Moutet C.', 'Verdasco F.', 81, 49)\n",
      "(23, 1, 'Quarterfinals', 3, 'Wawrinka S.', 'Bedene A.', 15, 58)\n",
      "(24, 1, 'Semifinals', 3, 'Rublev A.', 'Kecmanovic M.', 23, 62)\n",
      "(25, 1, 'Semifinals', 3, 'Moutet C.', 'Wawrinka S.', 81, 15)\n",
      "(26, 1, 'The Final', 3, 'Rublev A.', 'Moutet C.', 23, 81)\n",
      "(27, 2, '1st Round', 3, 'Bublik A.', 'Fritz T.', 55, 32)\n",
      "(28, 2, '1st Round', 3, 'Cuevas P.', 'Opelka R.', 44, 38)\n",
      "(29, 2, '1st Round', 3, 'Djere L.', 'Popyrin A.', 40, 95)\n",
      "(30, 2, '1st Round', 3, 'Chardy J.', 'Simon G.', 56, 60)\n",
      "(31, 2, '1st Round', 3, 'Evans D.', 'Londero J.I.', 33, 51)\n",
      "(32, 2, '1st Round', 3, 'Harris L.', 'Garin C.', 91, 36)\n",
      "(33, 2, '1st Round', 3, 'Querrey S.', 'Barrere G.', 45, 82)\n",
      "(34, 2, '1st Round', 3, 'Duckworth J.', 'Delbonis F.', 96, 73)\n",
      "(35, 2, '1st Round', 3, 'Paul T.', 'Bedene A.', 90, 54)\n",
      "(36, 2, '1st Round', 3, 'Ramos-Vinolas A.', 'Thompson J.', 42, 65)\n",
      "(37, 2, '1st Round', 3, 'Struff J.L.', 'Caruso S.', 37, 94)\n",
      "(38, 2, '1st Round', 3, 'Bolt A.', 'Robert S.', 157, 661)\n",
      "(39, 2, '2nd Round', 3, 'Evans D.', 'Bublik A.', 33, 55)\n",
      "(40, 2, '2nd Round', 3, 'Harris L.', 'Djere L.', 91, 40)\n",
      "(41, 2, '2nd Round', 3, 'Rublev A.', 'Querrey S.', 18, 45)\n",
      "(42, 2, '2nd Round', 3, 'Paul T.', 'Cuevas P.', 90, 44)\n",
      "(43, 2, '2nd Round', 3, 'Carreno Busta P.', 'Chardy J.', 30, 56)\n",
      "(44, 2, '2nd Round', 3, 'Ramos-Vinolas A.', 'Munar J.', 42, 88)\n",
      "(45, 2, '2nd Round', 3, 'Bolt A.', 'Struff J.L.', 157, 37)\n",
      "(46, 2, '2nd Round', 3, 'Auger-Aliassime F.', 'Duckworth J.', 22, 96)\n",
      "(47, 2, 'Quarterfinals', 3, 'Harris L.', 'Carreno Busta P.', 91, 30)\n",
      "(48, 2, 'Quarterfinals', 3, 'Rublev A.', 'Evans D.', 18, 33)\n",
      "(49, 2, 'Quarterfinals', 3, 'Paul T.', 'Ramos-Vinolas A.', 90, 42)\n",
      "(50, 2, 'Quarterfinals', 3, 'Auger-Aliassime F.', 'Bolt A.', 22, 157)\n",
      "(51, 2, 'Semifinals', 3, 'Harris L.', 'Paul T.', 91, 90)\n",
      "(52, 2, 'Semifinals', 3, 'Rublev A.', 'Auger-Aliassime F.', 18, 22)\n",
      "(53, 2, 'The Final', 3, 'Rublev A.', 'Harris L.', 18, 91)\n",
      "(54, 3, '1st Round', 3, 'Hurkacz H.', 'Sonego L.', 34, 52)\n",
      "(55, 3, '1st Round', 3, 'Sandgren T.', 'Venus M.', 101, 'N/A')\n",
      "(56, 3, '1st Round', 3, 'Monteiro T.', 'Norrie C.', 86, 62)\n",
      "(57, 3, '1st Round', 3, 'Humbert U.', 'Ruud C.', 57, 46)\n",
      "(58, 3, '1st Round', 3, 'Paire B.', 'Sinner J.', 24, 79)\n",
      "(59, 3, '1st Round', 3, 'Ymer M.', 'Tiafoe F.', 77, 49)\n",
      "(60, 3, '1st Round', 3, 'Pospisil V.', 'Sousa J.', 146, 58)\n",
      "(61, 3, '1st Round', 3, 'Edmund K.', 'Davidovich Fokina A.', 69, 85)\n",
      "(62, 3, '1st Round', 3, 'Millman J.', 'Mmoh M.', 47, 227)\n",
      "(63, 3, '1st Round', 3, 'Seppi A.', 'Mannarino A.', 84, 43)\n",
      "(64, 3, '1st Round', 3, 'Lopez F.', 'Andujar P.', 61, 63)\n",
      "(65, 3, '1st Round', 3, 'Cecchinato M.', 'Mayer L.', 76, 100)\n",
      "(66, 3, '2nd Round', 3, 'Isner J.', 'Sandgren T.', 20, 101)\n",
      "(67, 3, '2nd Round', 3, 'Hurkacz H.', 'Ymer M.', 34, 77)\n",
      "(68, 3, '2nd Round', 3, 'Paire B.', 'Monteiro T.', 24, 86)\n",
      "(69, 3, '2nd Round', 3, 'Lopez F.', 'Fognini F.', 61, 12)\n",
      "(70, 3, '2nd Round', 3, 'Edmund K.', 'Seppi A.', 69, 84)\n",
      "(71, 3, '2nd Round', 3, 'Humbert U.', 'Cecchinato M.', 57, 76)\n",
      "(72, 3, '2nd Round', 3, 'Shapovalov D.', 'Pospisil V.', 13, 146)\n",
      "(73, 3, '2nd Round', 3, 'Millman J.', 'Khachanov K.', 47, 16)\n",
      "(74, 3, 'Quarterfinals', 3, 'Isner J.', 'Edmund K.', 20, 69)\n",
      "(75, 3, 'Quarterfinals', 3, 'Humbert U.', 'Shapovalov D.', 57, 13)\n",
      "(76, 3, 'Quarterfinals', 3, 'Paire B.', 'Millman J.', 24, 47)\n",
      "(77, 3, 'Quarterfinals', 3, 'Hurkacz H.', 'Lopez F.', 34, 61)\n",
      "(78, 3, 'Semifinals', 3, 'Humbert U.', 'Isner J.', 57, 20)\n",
      "(79, 3, 'Semifinals', 3, 'Paire B.', 'Hurkacz H.', 24, 34)\n",
      "(80, 3, 'The Final', 3, 'Humbert U.', 'Paire B.', 57, 24)\n",
      "(81, 4, '1st Round', 5, 'Berrettini M.', 'Harris A.', 8, 162)\n",
      "(82, 4, '1st Round', 5, 'Berankis R.', 'Carballes Baena R.', 69, 83)\n",
      "(83, 4, '1st Round', 5, 'Evans D.', 'Mcdonald M.', 32, 129)\n",
      "(84, 4, '1st Round', 5, 'Nishioka Y.', 'Djere L.', 71, 40)\n",
      "(85, 4, '1st Round', 5, 'Pella G.', 'Smith J.P.', 25, 308)\n",
      "(86, 4, '1st Round', 5, 'Querrey S.', 'Coric B.', 45, 28)\n",
      "(87, 4, '1st Round', 5, 'Barrere G.', 'Safwat M.', 84, 173)\n",
      "(88, 4, '1st Round', 5, 'Fucsovics M.', 'Shapovalov D.', 67, 13)\n",
      "(89, 4, '1st Round', 5, 'Federer R.', 'Johnson S.', 3, 75)\n",
      "(90, 4, '1st Round', 5, 'Dimitrov G.', 'Londero J.I.', 20, 52)\n",
      "(91, 4, '1st Round', 5, 'Tsitsipas S.', 'Caruso S.', 6, 95)\n",
      "(92, 4, '1st Round', 5, 'Kohlschreiber P.', 'Giron M.', 79, 107)\n",
      "(93, 4, '1st Round', 5, 'Djokovic N.', 'Struff J.L.', 2, 37)\n",
      "(94, 4, '1st Round', 5, 'Cilic M.', 'Moutet C.', 39, 70)\n",
      "(95, 4, '1st Round', 5, 'Davidovich Fokina A.', 'Gombos N.', 88, 113)\n",
      "(96, 4, '1st Round', 5, 'Hurkacz H.', 'Novak D.', 31, 99)\n",
      "(97, 4, '1st Round', 5, 'Ito T.', 'Gunneswaran P.', 146, 123)\n",
      "(98, 4, '1st Round', 5, 'Millman J.', 'Humbert U.', 47, 43)\n",
      "(99, 4, '1st Round', 5, 'Paire B.', 'Stebe C.M.', 21, 154)\n",
      "(100, 4, '1st Round', 5, 'Schwartzman D.', 'Harris L.', 14, 72)\n",
      "(101, 4, '1st Round', 5, 'Bautista Agut R.', 'Lopez F.', 9, 57)\n",
      "(102, 4, '1st Round', 5, 'Fognini F.', 'Opelka R.', 12, 38)\n",
      "(103, 4, '1st Round', 5, 'Sinner J.', 'Purcell M.', 82, 216)\n",
      "(104, 4, '1st Round', 5, 'Lajovic D.', 'Edmund K.', 27, 65)\n",
      "(105, 4, '1st Round', 5, 'Polmans M.', 'Kukushkin M.', 133, 68)\n",
      "(106, 4, '1st Round', 5, 'Raonic M.', 'Giustino L.', 35, 150)\n",
      "(107, 4, '1st Round', 5, 'Paul T.', 'Mayer L.', 80, 101)\n",
      "(108, 4, '1st Round', 5, 'Khachanov K.', 'Vilella Martinez M.', 17, 196)\n",
      "(109, 4, '1st Round', 5, 'Thiem D.', 'Mannarino A.', 5, 44)\n",
      "(110, 4, '1st Round', 5, 'Garin C.', 'Travaglia S.', 36, 74)\n",
      "(111, 4, '1st Round', 5, 'Sandgren T.', 'Trungelliti M.', 100, 202)\n",
      "(112, 4, '1st Round', 5, 'Wawrinka S.', 'Dzumhur D.', 15, 92)\n",
      "(113, 4, '1st Round', 5, 'Gulbis E.', 'Auger-Aliassime F.', 256, 22)\n",
      "(114, 4, '1st Round', 5, 'Krajinovic F.', 'Halys Q.', 41, 215)\n",
      "(115, 4, '1st Round', 5, 'Thompson J.', 'Bublik A.', 66, 56)\n",
      "(116, 4, '1st Round', 5, 'Bedene A.', 'Duckworth J.', 55, 94)\n",
      "(117, 4, '1st Round', 5, 'Carreno Busta P.', 'Kovalik J.', 30, 139)\n",
      "(118, 4, '1st Round', 5, 'Nadal R.', 'Dellien H.', 1, 73)\n",
      "(119, 4, '1st Round', 5, 'Ymer M.', 'Uchiyama Y.', 78, 93)\n",
      "(120, 4, '1st Round', 5, 'Mmoh M.', 'Andujar P.', 217, 63)\n",
      "(121, 4, '1st Round', 5, 'Basilashvili N.', 'Kwon S.W.', 29, 87)\n",
      "(122, 4, '1st Round', 5, 'Verdasco F.', 'Donskoy E.', 51, 106)\n",
      "(123, 4, '1st Round', 5, 'Bolt A.', 'Ramos-Vinolas A.', 140, 42)\n",
      "(124, 4, '1st Round', 5, 'Seppi A.', 'Kecmanovic M.', 85, 54)\n",
      "(125, 4, '1st Round', 5, 'Popyrin A.', 'Tsonga J.W.', 96, 33)\n",
      "(126, 4, '1st Round', 5, 'Rublev A.', \"O'Connell C.\", 16, 115)\n",
      "(127, 4, '1st Round', 5, 'Gojowczyk P.', 'Eubanks C.', 120, 221)\n",
      "(128, 4, '1st Round', 5, 'Sugita Y.', 'Benchetrit E.', 91, 231)\n",
      "(129, 4, '1st Round', 5, 'Herbert P.H.', 'Norrie C.', 64, 62)\n",
      "(130, 4, '1st Round', 5, 'Medvedev D.', 'Tiafoe F.', 4, 50)\n",
      "(131, 4, '1st Round', 5, 'Monfils G.', 'Lu Y.H.', 10, 'N/A')\n",
      "(132, 4, '1st Round', 5, 'Kyrgios N.', 'Sonego L.', 26, 53)\n",
      "(133, 4, '1st Round', 5, 'Munar J.', 'Gaston H.', 90, 247)\n",
      "(134, 4, '1st Round', 5, 'Fritz T.', 'Griekspoor T.', 34, 175)\n",
      "(135, 4, '1st Round', 5, 'Goffin D.', 'Chardy J.', 11, 58)\n",
      "(136, 4, '1st Round', 5, 'Delbonis F.', 'Sousa J.', 76, 59)\n",
      "(137, 4, '1st Round', 5, 'Tabilo A.', 'Galan D.E.', 208, 186)\n",
      "(138, 4, '1st Round', 5, 'Zverev A.', 'Cecchinato M.', 7, 77)\n",
      "(139, 4, '1st Round', 5, 'Isner J.', 'Monteiro T.', 19, 86)\n",
      "(140, 4, '1st Round', 5, 'Martinez P.', 'Koepfer D.', 168, 89)\n",
      "(141, 4, '1st Round', 5, 'Anderson K.', 'Ivashka I.', 122, 149)\n",
      "(142, 4, '1st Round', 5, 'Karlovic I.', 'Pospisil V.', 124, 138)\n",
      "(143, 4, '1st Round', 5, 'Gerasimov E.', 'Ruud C.', 98, 48)\n",
      "(144, 4, '1st Round', 5, 'Simon G.', 'Cuevas P.', 61, 46)\n",
      "(145, 4, '2nd Round', 5, 'Querrey S.', 'Berankis R.', 45, 69)\n",
      "(146, 4, '2nd Round', 5, 'Pella G.', 'Barrere G.', 25, 84)\n",
      "(147, 4, '2nd Round', 5, 'Nishioka Y.', 'Evans D.', 71, 32)\n",
      "(148, 4, '2nd Round', 5, 'Cilic M.', 'Paire B.', 39, 21)\n",
      "(149, 4, '2nd Round', 5, 'Schwartzman D.', 'Davidovich Fokina A.', 14, 88)\n",
      "(150, 4, '2nd Round', 5, 'Fucsovics M.', 'Sinner J.', 67, 82)\n",
      "(151, 4, '2nd Round', 5, 'Djokovic N.', 'Ito T.', 2, 146)\n",
      "(152, 4, '2nd Round', 5, 'Sandgren T.', 'Berrettini M.', 100, 8)\n",
      "(153, 4, '2nd Round', 5, 'Tsitsipas S.', 'Kohlschreiber P.', 6, 79)\n",
      "(154, 4, '2nd Round', 5, 'Paul T.', 'Dimitrov G.', 80, 20)\n",
      "(155, 4, '2nd Round', 5, 'Raonic M.', 'Garin C.', 35, 36)\n",
      "(156, 4, '2nd Round', 5, 'Lajovic D.', 'Polmans M.', 27, 133)\n",
      "(157, 4, '2nd Round', 5, 'Millman J.', 'Hurkacz H.', 47, 31)\n",
      "(158, 4, '2nd Round', 5, 'Bautista Agut R.', 'Mmoh M.', 9, 217)\n",
      "(159, 4, '2nd Round', 5, 'Fognini F.', 'Thompson J.', 12, 66)\n",
      "(160, 4, '2nd Round', 5, 'Federer R.', 'Krajinovic F.', 3, 41)\n",
      "(161, 4, '2nd Round', 5, 'Gulbis E.', 'Bedene A.', 256, 55)\n",
      "(162, 4, '2nd Round', 5, 'Medvedev D.', 'Martinez P.', 4, 168)\n",
      "(163, 4, '2nd Round', 5, 'Thiem D.', 'Bolt A.', 5, 140)\n",
      "(164, 4, '2nd Round', 5, 'Zverev A.', 'Gerasimov E.', 7, 98)\n",
      "(165, 4, '2nd Round', 5, 'Popyrin A.', 'Munar J.', 96, 90)\n",
      "(166, 4, '2nd Round', 5, 'Monfils G.', 'Karlovic I.', 10, 124)\n",
      "(167, 4, '2nd Round', 5, 'Rublev A.', 'Sugita Y.', 16, 91)\n",
      "(168, 4, '2nd Round', 5, 'Verdasco F.', 'Basilashvili N.', 51, 29)\n",
      "(169, 4, '2nd Round', 5, 'Isner J.', 'Tabilo A.', 19, 208)\n",
      "(170, 4, '2nd Round', 5, 'Goffin D.', 'Herbert P.H.', 11, 64)\n",
      "(171, 4, '2nd Round', 5, 'Khachanov K.', 'Ymer M.', 17, 78)\n",
      "(172, 4, '2nd Round', 5, 'Carreno Busta P.', 'Gojowczyk P.', 30, 120)\n",
      "(173, 4, '2nd Round', 5, 'Kyrgios N.', 'Simon G.', 26, 61)\n",
      "(174, 4, '2nd Round', 5, 'Wawrinka S.', 'Seppi A.', 15, 85)\n",
      "(175, 4, '2nd Round', 5, 'Fritz T.', 'Anderson K.', 34, 122)\n",
      "(176, 4, '2nd Round', 5, 'Nadal R.', 'Delbonis F.', 1, 76)\n",
      "(177, 4, '3rd Round', 5, 'Schwartzman D.', 'Lajovic D.', 14, 27)\n",
      "(178, 4, '3rd Round', 5, 'Fucsovics M.', 'Paul T.', 67, 80)\n",
      "(179, 4, '3rd Round', 5, 'Cilic M.', 'Bautista Agut R.', 39, 9)\n",
      "(180, 4, '3rd Round', 5, 'Djokovic N.', 'Nishioka Y.', 2, 71)\n",
      "(181, 4, '3rd Round', 5, 'Sandgren T.', 'Querrey S.', 100, 45)\n",
      "(182, 4, '3rd Round', 5, 'Raonic M.', 'Tsitsipas S.', 35, 6)\n",
      "(183, 4, '3rd Round', 5, 'Fognini F.', 'Pella G.', 12, 25)\n",
      "(184, 4, '3rd Round', 5, 'Federer R.', 'Millman J.', 3, 47)\n",
      "(185, 4, '3rd Round', 5, 'Monfils G.', 'Gulbis E.', 10, 256)\n",
      "(186, 4, '3rd Round', 5, 'Thiem D.', 'Fritz T.', 5, 34)\n",
      "(187, 4, '3rd Round', 5, 'Rublev A.', 'Goffin D.', 16, 11)\n",
      "(188, 4, '3rd Round', 5, 'Nadal R.', 'Carreno Busta P.', 1, 30)\n",
      "(189, 4, '3rd Round', 5, 'Wawrinka S.', 'Isner J.', 15, 19)\n",
      "(190, 4, '3rd Round', 5, 'Kyrgios N.', 'Khachanov K.', 26, 17)\n",
      "(191, 4, '3rd Round', 5, 'Zverev A.', 'Verdasco F.', 7, 51)\n",
      "(192, 4, '3rd Round', 5, 'Medvedev D.', 'Popyrin A.', 4, 96)\n",
      "(193, 4, '4th Round', 5, 'Raonic M.', 'Cilic M.', 35, 39)\n",
      "(194, 4, '4th Round', 5, 'Djokovic N.', 'Schwartzman D.', 2, 14)\n",
      "(195, 4, '4th Round', 5, 'Sandgren T.', 'Fognini F.', 100, 12)\n",
      "(196, 4, '4th Round', 5, 'Federer R.', 'Fucsovics M.', 3, 67)\n",
      "(197, 4, '4th Round', 5, 'Thiem D.', 'Monfils G.', 5, 10)\n",
      "(198, 4, '4th Round', 5, 'Wawrinka S.', 'Medvedev D.', 15, 4)\n",
      "(199, 4, '4th Round', 5, 'Nadal R.', 'Kyrgios N.', 1, 26)\n",
      "(200, 4, '4th Round', 5, 'Zverev A.', 'Rublev A.', 7, 16)\n",
      "(201, 4, 'Quarterfinals', 5, 'Federer R.', 'Sandgren T.', 3, 100)\n",
      "(202, 4, 'Quarterfinals', 5, 'Djokovic N.', 'Raonic M.', 2, 35)\n",
      "(203, 4, 'Quarterfinals', 5, 'Zverev A.', 'Wawrinka S.', 7, 15)\n",
      "(204, 4, 'Quarterfinals', 5, 'Thiem D.', 'Nadal R.', 5, 1)\n",
      "(205, 4, 'Semifinals', 5, 'Djokovic N.', 'Federer R.', 2, 3)\n",
      "(206, 4, 'Semifinals', 5, 'Thiem D.', 'Zverev A.', 5, 7)\n",
      "(207, 4, 'The Final', 5, 'Djokovic N.', 'Thiem D.', 2, 5)\n",
      "(208, 5, '1st Round', 3, 'Balazs A.', 'Sonego L.', 108, 52)\n",
      "(209, 5, '1st Round', 3, 'Mager G.', 'Ficovich J.P.', 133, 244)\n",
      "(210, 5, '1st Round', 3, 'Cuevas P.', 'Delbonis F.', 48, 74)\n",
      "(211, 5, '1st Round', 3, 'Taberner C.', 'Verdasco F.', 198, 49)\n",
      "(212, 5, '1st Round', 3, 'Martin A.', 'Coria F.', 100, 116)\n",
      "(213, 5, '1st Round', 3, 'Martinez P.', 'Gaio F.', 150, 124)\n",
      "(214, 5, '1st Round', 3, 'Ramos-Vinolas A.', 'Bagnis F.', 42, 135)\n",
      "(215, 5, '1st Round', 3, 'Andujar P.', 'Horansky F.', 63, 173)\n",
      "(216, 5, '1st Round', 3, 'Moutet C.', 'Monteiro T.', 71, 89)\n",
      "(217, 5, '1st Round', 3, 'Cachin P.', 'Dellien H.', 354, 77)\n",
      "(218, 5, '1st Round', 3, 'Londero J.I.', 'Cecchinato M.', 50, 72)\n",
      "(219, 5, '1st Round', 3, 'Munar J.', 'Mayer L.', 87, 103)\n",
      "(220, 5, '2nd Round', 3, 'Martin A.', 'Taberner C.', 100, 198)\n",
      "(221, 5, '2nd Round', 3, 'Cuevas P.', 'Mager G.', 48, 133)\n",
      "(222, 5, '2nd Round', 3, 'Moutet C.', 'Pella G.', 71, 22)\n",
      "(223, 5, '2nd Round', 3, 'Garin C.', 'Balazs A.', 31, 108)\n",
      "(224, 5, '2nd Round', 3, 'Djere L.', 'Martinez P.', 39, 150)\n",
      "(225, 5, '2nd Round', 3, 'Ramos-Vinolas A.', 'Andujar P.', 42, 63)\n",
      "(226, 5, '2nd Round', 3, 'Londero J.I.', 'Cachin P.', 50, 354)\n",
      "(227, 5, '2nd Round', 3, 'Schwartzman D.', 'Munar J.', 14, 87)\n",
      "(228, 5, 'Quarterfinals', 3, 'Martin A.', 'Moutet C.', 100, 71)\n",
      "(229, 5, 'Quarterfinals', 3, 'Garin C.', 'Cuevas P.', 31, 48)\n",
      "(230, 5, 'Quarterfinals', 3, 'Schwartzman D.', 'Ramos-Vinolas A.', 14, 42)\n",
      "(231, 5, 'Quarterfinals', 3, 'Djere L.', 'Londero J.I.', 39, 50)\n",
      "(232, 5, 'Semifinals', 3, 'Garin C.', 'Martin A.', 31, 100)\n",
      "(233, 5, 'Semifinals', 3, 'Schwartzman D.', 'Djere L.', 14, 39)\n",
      "(234, 5, 'The Final', 3, 'Garin C.', 'Schwartzman D.', 31, 14)\n",
      "(235, 6, '1st Round', 3, 'Pospisil V.', 'Bedene A.', 132, 51)\n",
      "(236, 6, '1st Round', 3, 'Barrere G.', 'Sousa J.', 91, 69)\n",
      "(237, 6, '1st Round', 3, 'Gombos N.', 'Carreno Busta P.', 104, 29)\n",
      "(238, 6, '1st Round', 3, 'Bublik A.', 'Laaksonen H.', 54, 112)\n",
      "(239, 6, '1st Round', 3, 'Ymer M.', 'Sinner J.', 76, 78)\n",
      "(240, 6, '1st Round', 3, 'Ruusuvuori E.', 'Novak D.', 101, 93)\n",
      "(241, 6, '1st Round', 3, 'Krajinovic F.', 'Couacaud E.', 44, 214)\n",
      "(242, 6, '1st Round', 3, 'Herbert P.H.', 'Stakhovsky S.', 67, 153)\n",
      "(243, 6, '1st Round', 3, 'Auger-Aliassime F.', 'Dzumhur D.', 21, 97)\n",
      "(244, 6, '1st Round', 3, 'Mannarino A.', 'Popyrin A.', 45, 99)\n",
      "(245, 6, '1st Round', 3, 'Lopez F.', 'Humbert U.', 55, 43)\n",
      "(246, 6, '1st Round', 3, 'Gasquet R.', 'Simon G.', 58, 59)\n",
      "(247, 6, '2nd Round', 3, 'Barrere G.', 'Dimitrov G.', 91, 23)\n",
      "(248, 6, '2nd Round', 3, 'Pospisil V.', 'Shapovalov D.', 132, 16)\n",
      "(249, 6, '2nd Round', 3, 'Krajinovic F.', 'Ymer M.', 44, 76)\n",
      "(250, 6, '2nd Round', 3, 'Goffin D.', 'Bublik A.', 10, 54)\n",
      "(251, 6, '2nd Round', 3, 'Gasquet R.', 'Lopez F.', 58, 55)\n",
      "(252, 6, '2nd Round', 3, 'Gombos N.', 'Ruusuvuori E.', 104, 101)\n",
      "(253, 6, '2nd Round', 3, 'Herbert P.H.', 'Auger-Aliassime F.', 67, 21)\n",
      "(254, 6, '2nd Round', 3, 'Monfils G.', 'Mannarino A.', 9, 45)\n",
      "(255, 6, 'Quarterfinals', 3, 'Krajinovic F.', 'Barrere G.', 44, 91)\n",
      "(256, 6, 'Quarterfinals', 3, 'Pospisil V.', 'Gasquet R.', 132, 58)\n",
      "(257, 6, 'Quarterfinals', 3, 'Monfils G.', 'Gombos N.', 9, 104)\n",
      "(258, 6, 'Quarterfinals', 3, 'Goffin D.', 'Herbert P.H.', 10, 67)\n",
      "(259, 6, 'Semifinals', 3, 'Monfils G.', 'Krajinovic F.', 9, 44)\n",
      "(260, 6, 'Semifinals', 3, 'Pospisil V.', 'Goffin D.', 132, 10)\n",
      "(261, 7, 'The Final', 3, 'Monfils G.', 'Pospisil V.', 9, 132)\n",
      "(262, 7, '1st Round', 3, 'Stebe C.M.', 'Karlovic I.', 149, 121)\n",
      "(263, 7, '1st Round', 3, 'Sugita Y.', 'Fabbiano T.', 86, 134)\n",
      "(264, 7, '1st Round', 3, 'Troicki V.', 'Nagal S.', 191, 125)\n",
      "(265, 7, '1st Round', 3, 'Caruso S.', 'Ramanathan R.', 98, 182)\n",
      "(266, 7, '1st Round', 3, 'Duckworth J.', 'Gojowczyk P.', 96, 106)\n",
      "(267, 7, '1st Round', 3, 'Gerasimov E.', 'Lorenzi P.', 90, 115)\n",
      "(268, 7, '1st Round', 3, 'Marcora R.', 'Rosol L.', 174, 176)\n",
      "(269, 7, '1st Round', 3, 'Milojevic N.', 'Hoang A.', 148, 126)\n",
      "(270, 7, '1st Round', 3, 'Ivashka I.', 'Donskoy E.', 152, 109)\n",
      "(271, 7, '1st Round', 3, 'Vesely J.', 'Kadhe A.', 107, 612)\n",
      "(272, 7, '1st Round', 3, 'Gunneswaran P.', 'Maden Y.', 122, 131)\n",
      "(273, 7, '1st Round', 3, 'Daniel T.', 'Mukund S.', 102, 263)\n",
      "(274, 7, '2nd Round', 3, 'Vesely J.', 'Caruso S.', 107, 98)\n",
      "(275, 7, '2nd Round', 3, 'Berankis R.', 'Stebe C.M.', 73, 149)\n",
      "(276, 7, '2nd Round', 3, 'Sugita Y.', 'Troicki V.', 86, 191)\n",
      "(277, 7, '2nd Round', 3, 'Ivashka I.', 'Travaglia S.', 152, 82)\n",
      "(278, 7, '2nd Round', 3, 'Duckworth J.', 'Daniel T.', 96, 102)\n",
      "(279, 7, '2nd Round', 3, 'Gerasimov E.', 'Milojevic N.', 90, 148)\n",
      "(280, 7, '2nd Round', 3, 'Kwon S.W.', 'Gunneswaran P.', 88, 122)\n",
      "(281, 7, '2nd Round', 3, 'Marcora R.', 'Paire B.', 174, 19)\n",
      "(282, 7, 'Quarterfinals', 3, 'Vesely J.', 'Ivashka I.', 107, 152)\n",
      "(283, 7, 'Quarterfinals', 3, 'Berankis R.', 'Sugita Y.', 73, 86)\n",
      "(284, 7, 'Quarterfinals', 3, 'Duckworth J.', 'Marcora R.', 96, 174)\n",
      "(285, 7, 'Quarterfinals', 3, 'Gerasimov E.', 'Kwon S.W.', 90, 88)\n",
      "(286, 7, 'Semifinals', 3, 'Vesely J.', 'Berankis R.', 107, 73)\n",
      "(287, 7, 'Semifinals', 3, 'Gerasimov E.', 'Duckworth J.', 90, 96)\n",
      "(288, 7, 'The Final', 3, 'Vesely J.', 'Gerasimov E.', 107, 90)\n",
      "(289, 8, '1st Round', 3, 'Monteiro T.', 'Munar J.', 92, 95)\n",
      "(290, 8, '1st Round', 3, 'Ruud C.', 'Andujar P.', 45, 58)\n",
      "(291, 8, '1st Round', 3, 'Cuevas P.', 'Sonego L.', 48, 49)\n",
      "(292, 8, '1st Round', 3, 'Delbonis F.', 'Dellien H.', 87, 77)\n",
      "(293, 8, '1st Round', 3, 'Carballes Baena R.', 'Cecchinato M.', 88, 73)\n",
      "(294, 8, '1st Round', 3, 'Bagnis F.', 'Martin A.', 134, 93)\n",
      "(295, 8, '1st Round', 3, 'Kovalik J.', 'Moutet C.', 129, 76)\n",
      "(296, 8, '1st Round', 3, 'Sousa P.', 'Diaz Acosta F.', 145, 471)\n",
      "(297, 8, '1st Round', 3, 'Martinez P.', 'Domingues J.', 142, 175)\n",
      "(298, 8, '1st Round', 3, 'Djere L.', 'Cerundolo F.', 35, 239)\n",
      "(299, 8, '1st Round', 3, 'Londero J.I.', 'Horansky F.', 69, 182)\n",
      "(300, 8, '1st Round', 3, 'Ramos-Vinolas A.', 'Mayer L.', 42, 107)\n",
      "(301, 8, '2nd Round', 3, 'Sousa P.', 'Kovalik J.', 145, 129)\n",
      "(302, 8, '2nd Round', 3, 'Lajovic D.', 'Martinez P.', 23, 142)\n",
      "(303, 8, '2nd Round', 3, 'Ruud C.', 'Carballes Baena R.', 45, 88)\n",
      "(304, 8, '2nd Round', 3, 'Monteiro T.', 'Coric B.', 92, 31)\n",
      "(305, 8, '2nd Round', 3, 'Londero J.I.', 'Djere L.', 69, 35)\n",
      "(306, 8, '2nd Round', 3, 'Cuevas P.', 'Ramos-Vinolas A.', 48, 42)\n",
      "(307, 8, '2nd Round', 3, 'Pella G.', 'Bagnis F.', 27, 134)\n",
      "(308, 8, '2nd Round', 3, 'Schwartzman D.', 'Delbonis F.', 14, 87)\n",
      "(309, 8, 'Quarterfinals', 3, 'Ruud C.', 'Lajovic D.', 45, 23)\n",
      "(310, 8, 'Quarterfinals', 3, 'Londero J.I.', 'Pella G.', 69, 27)\n",
      "(311, 8, 'Quarterfinals', 3, 'Schwartzman D.', 'Cuevas P.', 14, 48)\n",
      "(312, 8, 'Quarterfinals', 3, 'Sousa P.', 'Monteiro T.', 145, 92)\n",
      "(313, 8, 'Semifinals', 3, 'Ruud C.', 'Londero J.I.', 45, 69)\n",
      "(314, 8, 'Semifinals', 3, 'Sousa P.', 'Schwartzman D.', 145, 14)\n",
      "(315, 8, 'The Final', 3, 'Ruud C.', 'Sousa P.', 45, 145)\n",
      "(316, 9, '1st Round', 3, 'Kecmanovic M.', 'Paul T.', 54, 70)\n",
      "(317, 9, '1st Round', 3, 'Seppi A.', 'Dzumhur D.', 98, 100)\n",
      "(318, 9, '1st Round', 3, 'Johnson S.', 'Sandgren T.', 75, 53)\n",
      "(319, 9, '1st Round', 3, 'Giron M.', 'Sock J.', 113, 'N/A')\n",
      "(320, 9, '1st Round', 3, 'Thompson J.', 'Karlovic I.', 63, 122)\n",
      "(321, 9, '1st Round', 3, 'Kwon S.W.', 'Soeda G.', 84, 112)\n",
      "(322, 9, '1st Round', 3, 'Edmund K.', 'Uchiyama Y.', 62, 97)\n",
      "(323, 9, '1st Round', 3, 'Lorenzi P.', 'Petrovic D.', 116, 159)\n",
      "(324, 9, '1st Round', 3, 'Koepfer D.', 'Schnur B.', 94, 121)\n",
      "(325, 9, '1st Round', 3, 'Nishioka Y.', 'Laaksonen H.', 64, 114)\n",
      "(326, 9, '1st Round', 3, 'Norrie C.', 'Shi B.', 59, 'N/A')\n",
      "(327, 9, '1st Round', 3, 'Jung J.', 'Anderson K.', 131, 120)\n",
      "(328, 9, '2nd Round', 3, 'Kecmanovic M.', 'Lorenzi P.', 54, 116)\n",
      "(329, 9, '2nd Round', 3, 'Seppi A.', 'Johnson S.', 98, 75)\n",
      "(330, 9, '2nd Round', 3, 'Kwon S.W.', 'Raonic M.', 84, 32)\n",
      "(331, 9, '2nd Round', 3, 'Humbert U.', 'Giron M.', 43, 113)\n",
      "(332, 9, '2nd Round', 3, 'Edmund K.', 'Koepfer D.', 62, 94)\n",
      "(333, 9, '2nd Round', 3, 'Jung J.', 'Norrie C.', 131, 59)\n",
      "(334, 9, '2nd Round', 3, 'Opelka R.', 'Nishioka Y.', 40, 64)\n",
      "(335, 9, '2nd Round', 3, 'Thompson J.', 'Isner J.', 63, 18)\n",
      "(336, 9, 'Quarterfinals', 3, 'Kecmanovic M.', 'Humbert U.', 54, 43)\n",
      "(337, 9, 'Quarterfinals', 3, 'Edmund K.', 'Kwon S.W.', 62, 84)\n",
      "(338, 9, 'Quarterfinals', 3, 'Jung J.', 'Opelka R.', 131, 40)\n",
      "(339, 9, 'Quarterfinals', 3, 'Seppi A.', 'Thompson J.', 98, 63)\n",
      "(340, 9, 'Semifinals', 3, 'Edmund K.', 'Kecmanovic M.', 62, 54)\n",
      "(341, 9, 'Semifinals', 3, 'Seppi A.', 'Jung J.', 98, 131)\n",
      "(342, 9, 'The Final', 3, 'Edmund K.', 'Seppi A.', 62, 98)\n",
      "(343, 10, '1st Round', 3, 'Carreno Busta P.', 'Mannarino A.', 30, 44)\n",
      "(344, 10, '1st Round', 3, 'Bautista Agut R.', 'Fucsovics M.', 12, 66)\n",
      "(345, 10, '1st Round', 3, 'Dimitrov G.', 'Shapovalov D.', 22, 16)\n",
      "(346, 10, '1st Round', 3, 'Evans D.', 'Kohlschreiber P.', 33, 81)\n",
      "(347, 10, '1st Round', 3, 'Auger-Aliassime F.', 'Struff J.L.', 21, 34)\n",
      "(348, 10, '1st Round', 3, 'Bublik A.', 'Barrere G.', 56, 90)\n",
      "(349, 10, '1st Round', 3, 'Khachanov K.', 'Fognini F.', 17, 11)\n",
      "(350, 10, '1st Round', 3, 'Rublev A.', 'Basilashvili N.', 15, 28)\n",
      "(351, 10, '1st Round', 3, 'Bedene A.', 'Paire B.', 52, 19)\n",
      "(352, 10, '1st Round', 3, 'Tsitsipas S.', 'Hurkacz H.', 6, 29)\n",
      "(353, 10, '1st Round', 3, 'Krajinovic F.', 'Griekspoor T.', 39, 172)\n",
      "(354, 10, '1st Round', 3, 'Sinner J.', 'Albot R.', 79, 50)\n",
      "(355, 10, '1st Round', 3, 'Simon G.', 'Kukushkin M.', 57, 67)\n",
      "(356, 10, '1st Round', 3, 'Goffin D.', 'Haase R.', 10, 167)\n",
      "(357, 10, '1st Round', 3, 'Monfils G.', 'Sousa J.', 9, 68)\n",
      "(358, 10, '1st Round', 3, 'Pospisil V.', 'Medvedev D.', 104, 5)\n",
      "(359, 10, '2nd Round', 3, 'Carreno Busta P.', 'Bautista Agut R.', 30, 12)\n",
      "(360, 10, '2nd Round', 3, 'Evans D.', 'Khachanov K.', 33, 17)\n",
      "(361, 10, '2nd Round', 3, 'Auger-Aliassime F.', 'Dimitrov G.', 21, 22)\n",
      "(362, 10, '2nd Round', 3, 'Sinner J.', 'Goffin D.', 79, 10)\n",
      "(363, 10, '2nd Round', 3, 'Rublev A.', 'Bublik A.', 15, 56)\n",
      "(364, 10, '2nd Round', 3, 'Bedene A.', 'Tsitsipas S.', 52, 6)\n",
      "(365, 10, '2nd Round', 3, 'Monfils G.', 'Simon G.', 9, 57)\n",
      "(366, 10, '2nd Round', 3, 'Krajinovic F.', 'Pospisil V.', 39, 104)\n",
      "(367, 10, 'Quarterfinals', 3, 'Carreno Busta P.', 'Sinner J.', 30, 79)\n",
      "(368, 10, 'Quarterfinals', 3, 'Auger-Aliassime F.', 'Bedene A.', 21, 52)\n",
      "(369, 10, 'Quarterfinals', 3, 'Monfils G.', 'Evans D.', 9, 33)\n",
      "(370, 10, 'Quarterfinals', 3, 'Krajinovic F.', 'Rublev A.', 39, 15)\n",
      "(371, 10, 'Semifinals', 3, 'Auger-Aliassime F.', 'Carreno Busta P.', 21, 30)\n",
      "(372, 10, 'Semifinals', 3, 'Monfils G.', 'Krajinovic F.', 9, 39)\n",
      "(373, 10, 'The Final', 3, 'Monfils G.', 'Auger-Aliassime F.', 9, 21)\n",
      "(374, 11, '1st Round', 3, 'Mcdonald M.', 'Uchiyama Y.', 159, 96)\n",
      "(375, 11, '1st Round', 3, 'Harrison R.', 'Dzumhur D.', 433, 108)\n",
      "(376, 11, '1st Round', 3, 'Nakashima B.', 'Vesely J.', 294, 74)\n",
      "(377, 11, '1st Round', 3, 'Kwon S.W.', 'Mannarino A.', 82, 42)\n",
      "(378, 11, '1st Round', 3, 'Nishioka Y.', 'Millman J.', 63, 40)\n",
      "(379, 11, '1st Round', 3, 'Tiafoe F.', 'Gomez E.', 84, 148)\n",
      "(380, 11, '1st Round', 3, 'Norrie C.', 'Fritz T.', 60, 38)\n",
      "(381, 11, '1st Round', 3, 'Stebe C.M.', 'Tomic B.', 147, 197)\n",
      "(382, 11, '1st Round', 3, 'Kecmanovic M.', 'Thompson J.', 50, 65)\n",
      "(383, 11, '1st Round', 3, 'Johnson S.', 'Laaksonen H.', 76, 134)\n",
      "(384, 11, '1st Round', 3, 'Raonic M.', 'Istomin D.', 37, 164)\n",
      "(385, 11, '1st Round', 3, 'Humbert U.', 'Kozlov S.', 44, 367)\n",
      "(386, 11, '1st Round', 3, 'Rubin N.', 'Jung J.', 269, 119)\n",
      "(387, 11, '1st Round', 3, 'Opelka R.', 'Gulbis E.', 54, 224)\n",
      "(388, 11, '1st Round', 3, 'Sock J.', 'Albot R.', 'N/A', 51)\n",
      "(389, 11, '1st Round', 3, 'Paul T.', 'Galan D.E.', 70, 146)\n",
      "(390, 11, '2nd Round', 3, 'Kwon S.W.', 'Harrison R.', 82, 433)\n",
      "(391, 11, '2nd Round', 3, 'Nishioka Y.', 'Rubin N.', 63, 269)\n",
      "(392, 11, '2nd Round', 3, 'Nakashima B.', 'Norrie C.', 294, 60)\n",
      "(393, 11, '2nd Round', 3, 'Opelka R.', 'Mcdonald M.', 54, 159)\n",
      "(394, 11, '2nd Round', 3, 'Humbert U.', 'Kecmanovic M.', 44, 50)\n",
      "(395, 11, '2nd Round', 3, 'Tiafoe F.', 'Paul T.', 84, 70)\n",
      "(396, 11, '2nd Round', 3, 'Johnson S.', 'Sock J.', 76, 'N/A')\n",
      "(397, 11, '2nd Round', 3, 'Raonic M.', 'Stebe C.M.', 37, 147)\n",
      "(398, 11, 'Quarterfinals', 3, 'Humbert U.', 'Tiafoe F.', 44, 84)\n",
      "(399, 11, 'Quarterfinals', 3, 'Nishioka Y.', 'Nakashima B.', 63, 294)\n",
      "(400, 11, 'Quarterfinals', 3, 'Opelka R.', 'Kwon S.W.', 54, 82)\n",
      "(401, 11, 'Quarterfinals', 3, 'Raonic M.', 'Johnson S.', 37, 76)\n",
      "(402, 11, 'Semifinals', 3, 'Nishioka Y.', 'Humbert U.', 63, 44)\n",
      "(403, 11, 'Semifinals', 3, 'Opelka R.', 'Raonic M.', 54, 37)\n",
      "(404, 11, 'The Final', 3, 'Opelka R.', 'Nishioka Y.', 54, 63)\n",
      "(405, 12, '1st Round', 3, 'Ymer M.', 'Gasquet R.', 75, 57)\n",
      "(406, 12, '1st Round', 3, 'Paire B.', 'Barrere G.', 20, 89)\n",
      "(407, 12, '1st Round', 3, 'Bublik A.', 'Fucsovics M.', 55, 73)\n",
      "(408, 12, '1st Round', 3, 'Hurkacz H.', 'Hoang A.', 29, 129)\n",
      "(409, 12, '1st Round', 3, 'Pospisil V.', 'Ruusuvuori E.', 98, 101)\n",
      "(410, 12, '1st Round', 3, 'Sinner J.', 'Gombos N.', 68, 102)\n",
      "(411, 12, '1st Round', 3, 'Cilic M.', 'Ivashka I.', 39, 137)\n",
      "(412, 12, '1st Round', 3, 'Simon G.', 'Mayot H.', 58, 509)\n",
      "(413, 12, '1st Round', 3, 'Bedene A.', 'Khachanov K.', 47, 17)\n",
      "(414, 12, '1st Round', 3, 'Gerasimov E.', 'Novak D.', 72, 95)\n",
      "(415, 12, '1st Round', 3, 'Herbert P.H.', 'Kukushkin M.', 79, 69)\n",
      "(416, 12, '1st Round', 3, 'Auger-Aliassime F.', 'Travaglia S.', 18, 85)\n",
      "(417, 12, '2nd Round', 3, 'Pospisil V.', 'Hurkacz H.', 98, 29)\n",
      "(418, 12, '2nd Round', 3, 'Tsitsipas S.', 'Ymer M.', 6, 75)\n",
      "(419, 12, '2nd Round', 3, 'Bublik A.', 'Paire B.', 55, 20)\n",
      "(420, 12, '2nd Round', 3, 'Simon G.', 'Bedene A.', 58, 47)\n",
      "(421, 12, '2nd Round', 3, 'Shapovalov D.', 'Cilic M.', 15, 39)\n",
      "(422, 12, '2nd Round', 3, 'Medvedev D.', 'Sinner J.', 5, 68)\n",
      "(423, 12, '2nd Round', 3, 'Auger-Aliassime F.', 'Herbert P.H.', 18, 79)\n",
      "(424, 12, '2nd Round', 3, 'Gerasimov E.', 'Goffin D.', 72, 10)\n",
      "(425, 12, 'Quarterfinals', 3, 'Bublik A.', 'Shapovalov D.', 55, 15)\n",
      "(426, 12, 'Quarterfinals', 3, 'Tsitsipas S.', 'Pospisil V.', 6, 98)\n",
      "(427, 12, 'Quarterfinals', 3, 'Simon G.', 'Medvedev D.', 58, 5)\n",
      "(428, 12, 'Quarterfinals', 3, 'Auger-Aliassime F.', 'Gerasimov E.', 18, 72)\n",
      "(429, 12, 'Semifinals', 3, 'Tsitsipas S.', 'Bublik A.', 6, 55)\n",
      "(430, 12, 'Semifinals', 3, 'Auger-Aliassime F.', 'Simon G.', 18, 58)\n",
      "(431, 12, 'The Final', 3, 'Tsitsipas S.', 'Auger-Aliassime F.', 6, 18)\n",
      "(432, 13, '1st Round', 3, 'Delbonis F.', 'Carballes Baena R.', 86, 93)\n",
      "(433, 13, '1st Round', 3, 'Garin C.', 'Martin A.', 25, 94)\n",
      "(434, 13, '1st Round', 3, 'Andujar P.', 'Verdasco F.', 59, 49)\n",
      "(435, 13, '1st Round', 3, 'Martinez P.', 'Dellien H.', 133, 78)\n",
      "(436, 13, '1st Round', 3, 'Seyboth Wild T.', 'Davidovich Fokina A.', 206, 90)\n",
      "(437, 13, '1st Round', 3, 'Coria F.', 'Moutet C.', 116, 77)\n",
      "(438, 13, '1st Round', 3, 'Alcaraz C.', 'Ramos-Vinolas A.', 406, 41)\n",
      "(439, 13, '1st Round', 3, 'Balazs A.', 'Cuevas P.', 106, 46)\n",
      "(440, 13, '1st Round', 3, 'Lajovic D.', 'Cecchinato M.', 23, 111)\n",
      "(441, 13, '1st Round', 3, 'Coric B.', 'Londero J.I.', 32, 61)\n",
      "(442, 13, '1st Round', 3, 'Munar J.', 'Caruso S.', 99, 97)\n",
      "(443, 13, '1st Round', 3, 'Sonego L.', 'Mayer L.', 52, 109)\n",
      "(444, 13, '1st Round', 3, 'Domingues J.', 'Gaio F.', 169, 127)\n",
      "(445, 13, '1st Round', 3, 'Mager G.', 'Ruud C.', 128, 34)\n",
      "(446, 13, '1st Round', 3, 'Thiem D.', 'Meligeni Rodrigues F', 4, 341)\n",
      "(447, 13, '1st Round', 3, 'Monteiro T.', 'Pella G.', 88, 26)\n",
      "(448, 13, '2nd Round', 3, 'Garin C.', 'Delbonis F.', 25, 86)\n",
      "(449, 13, '2nd Round', 3, 'Martinez P.', 'Andujar P.', 133, 59)\n",
      "(450, 13, '2nd Round', 3, 'Balazs A.', 'Monteiro T.', 106, 88)\n",
      "(451, 13, '2nd Round', 3, 'Coria F.', 'Alcaraz C.', 116, 406)\n",
      "(452, 13, '2nd Round', 3, 'Mager G.', 'Domingues J.', 128, 169)\n",
      "(453, 13, '2nd Round', 3, 'Sonego L.', 'Lajovic D.', 52, 23)\n",
      "(454, 13, '2nd Round', 3, 'Coric B.', 'Seyboth Wild T.', 32, 206)\n",
      "(455, 13, '2nd Round', 3, 'Thiem D.', 'Munar J.', 4, 99)\n",
      "(456, 13, 'Quarterfinals', 3, 'Garin C.', 'Coria F.', 25, 116)\n",
      "(457, 13, 'Quarterfinals', 3, 'Coric B.', 'Sonego L.', 32, 52)\n",
      "(458, 13, 'Quarterfinals', 3, 'Balazs A.', 'Martinez P.', 106, 133)\n",
      "(459, 13, 'Quarterfinals', 3, 'Mager G.', 'Thiem D.', 128, 4)\n",
      "(460, 13, 'Semifinals', 3, 'Garin C.', 'Coric B.', 25, 32)\n",
      "(461, 13, 'Semifinals', 3, 'Mager G.', 'Balazs A.', 128, 106)\n",
      "(462, 13, 'The Final', 3, 'Garin C.', 'Mager G.', 25, 128)\n",
      "(463, 14, '1st Round', 3, 'Mannarino A.', 'Norrie C.', 42, 58)\n",
      "(464, 14, '1st Round', 3, 'Paul T.', 'Mcdonald M.', 66, 196)\n",
      "(465, 14, '1st Round', 3, 'Kecmanovic M.', 'De Minaur A.', 50, 25)\n",
      "(466, 14, '1st Round', 3, 'Wawrinka S.', 'Tiafoe F.', 16, 82)\n",
      "(467, 14, '1st Round', 3, 'Giron M.', 'Lopez Villasenor G.', 115, 518)\n",
      "(468, 14, '1st Round', 3, 'Edmund K.', 'Lopez F.', 44, 52)\n",
      "(469, 14, '1st Round', 3, 'Martinez P.', 'Albot R.', 113, 69)\n",
      "(470, 14, '1st Round', 3, 'Kwon S.W.', 'Daniel T.', 76, 110)\n",
      "(471, 14, '1st Round', 3, 'Dimitrov G.', 'Dzumhur D.', 22, 109)\n",
      "(472, 14, '1st Round', 3, 'Auger-Aliassime F.', 'Bolt A.', 19, 137)\n",
      "(473, 14, '1st Round', 3, 'Lajovic D.', 'Johnson S.', 24, 73)\n",
      "(474, 14, '1st Round', 3, 'Zverev A.', 'Jung J.', 7, 119)\n",
      "(475, 14, '1st Round', 3, 'Nadal R.', 'Andujar P.', 2, 54)\n",
      "(476, 14, '1st Round', 3, 'Fritz T.', 'Millman J.', 35, 40)\n",
      "(477, 14, '1st Round', 3, 'Isner J.', 'Zverev M.', 20, 257)\n",
      "(478, 14, '1st Round', 3, 'Humbert U.', 'Kyrgios N.', 43, 23)\n",
      "(479, 14, '2nd Round', 3, 'Edmund K.', 'Auger-Aliassime F.', 44, 19)\n",
      "(480, 14, '2nd Round', 3, 'Kwon S.W.', 'Lajovic D.', 76, 24)\n",
      "(481, 14, '2nd Round', 3, 'Isner J.', 'Giron M.', 20, 115)\n",
      "(482, 14, '2nd Round', 3, 'Paul T.', 'Zverev A.', 66, 7)\n",
      "(483, 14, '2nd Round', 3, 'Dimitrov G.', 'Mannarino A.', 22, 42)\n",
      "(484, 14, '2nd Round', 3, 'Fritz T.', 'Humbert U.', 35, 43)\n",
      "(485, 14, '2nd Round', 3, 'Wawrinka S.', 'Martinez P.', 16, 113)\n",
      "(486, 14, '2nd Round', 3, 'Nadal R.', 'Kecmanovic M.', 2, 50)\n",
      "(487, 14, 'Quarterfinals', 3, 'Isner J.', 'Paul T.', 20, 66)\n",
      "(488, 14, 'Quarterfinals', 3, 'Fritz T.', 'Edmund K.', 35, 44)\n",
      "(489, 14, 'Quarterfinals', 3, 'Dimitrov G.', 'Wawrinka S.', 22, 16)\n",
      "(490, 14, 'Quarterfinals', 3, 'Nadal R.', 'Kwon S.W.', 2, 76)\n",
      "(491, 14, 'Semifinals', 3, 'Fritz T.', 'Isner J.', 35, 20)\n",
      "(492, 14, 'Semifinals', 3, 'Nadal R.', 'Dimitrov G.', 2, 22)\n",
      "(493, 14, 'The Final', 3, 'Nadal R.', 'Fritz T.', 2, 35)\n",
      "(494, 15, '1st Round', 3, 'Khachanov K.', 'Kukushkin M.', 17, 89)\n",
      "(495, 15, '1st Round', 3, 'Kohlschreiber P.', 'Safwat M.', 80, 132)\n",
      "(496, 15, '1st Round', 3, 'Rublev A.', 'Musetti L.', 14, 311)\n",
      "(497, 15, '1st Round', 3, 'Gasquet R.', 'Harris L.', 56, 93)\n",
      "(498, 15, '1st Round', 3, 'Djokovic N.', 'Jaziri M.', 1, 260)\n",
      "(499, 15, '1st Round', 3, 'Monfils G.', 'Fucsovics M.', 9, 70)\n",
      "(500, 15, '1st Round', 3, 'Paire B.', 'Cilic M.', 21, 36)\n",
      "(501, 15, '1st Round', 3, 'Novak D.', 'Gunneswaran P.', 96, 134)\n",
      "(502, 15, '1st Round', 3, 'Uchiyama Y.', 'Lu Y.H.', 99, 962)\n",
      "(503, 15, '1st Round', 3, 'Krajinovic F.', 'Sousa J.', 33, 68)\n",
      "(504, 15, '1st Round', 3, 'Bublik A.', 'Hurkacz H.', 47, 30)\n",
      "(505, 15, '1st Round', 3, 'Evans D.', 'Fognini F.', 37, 11)\n",
      "(506, 15, '1st Round', 3, 'Herbert P.H.', 'Nishioka Y.', 78, 48)\n",
      "(507, 15, '1st Round', 3, 'Basilashvili N.', 'Berankis R.', 29, 62)\n",
      "(508, 15, '1st Round', 3, 'Tsitsipas S.', 'Carreno Busta P.', 6, 27)\n",
      "(509, 15, '1st Round', 3, 'Struff J.L.', 'Bautista Agut R.', 34, 12)\n",
      "(510, 15, '2nd Round', 3, 'Evans D.', 'Herbert P.H.', 37, 78)\n",
      "(511, 15, '2nd Round', 3, 'Rublev A.', 'Krajinovic F.', 14, 33)\n",
      "(512, 15, '2nd Round', 3, 'Tsitsipas S.', 'Bublik A.', 6, 47)\n",
      "(513, 15, '2nd Round', 3, 'Khachanov K.', 'Novak D.', 17, 96)\n",
      "(514, 15, '2nd Round', 3, 'Struff J.L.', 'Basilashvili N.', 34, 29)\n",
      "(515, 15, '2nd Round', 3, 'Djokovic N.', 'Kohlschreiber P.', 1, 80)\n",
      "(516, 15, '2nd Round', 3, 'Gasquet R.', 'Paire B.', 56, 21)\n",
      "(517, 15, '2nd Round', 3, 'Monfils G.', 'Uchiyama Y.', 9, 99)\n",
      "(518, 15, 'Quarterfinals', 3, 'Evans D.', 'Rublev A.', 37, 14)\n",
      "(519, 15, 'Quarterfinals', 3, 'Tsitsipas S.', 'Struff J.L.', 6, 34)\n",
      "(520, 15, 'Quarterfinals', 3, 'Djokovic N.', 'Khachanov K.', 1, 17)\n",
      "(521, 15, 'Quarterfinals', 3, 'Monfils G.', 'Gasquet R.', 9, 56)\n",
      "(522, 15, 'Semifinals', 3, 'Tsitsipas S.', 'Evans D.', 6, 37)\n",
      "(523, 15, 'Semifinals', 3, 'Djokovic N.', 'Monfils G.', 1, 9)\n",
      "(524, 15, 'The Final', 3, 'Djokovic N.', 'Tsitsipas S.', 1, 6)\n",
      "(525, 16, '1st Round', 3, 'Dellien H.', 'Cecchinato M.', 94, 112)\n",
      "(526, 16, '1st Round', 3, 'Seyboth Wild T.', 'Bagnis F.', 182, 131)\n",
      "(527, 16, '1st Round', 3, 'Carballes Baena R.', 'Munar J.', 97, 105)\n",
      "(528, 16, '1st Round', 3, 'Barrios Vera M.T.', 'Taberner C.', 300, 175)\n",
      "(529, 16, '1st Round', 3, 'Davidovich Fokina A.', 'Martin A.', 98, 95)\n",
      "(530, 16, '1st Round', 3, 'Monteiro T.', 'Mayer L.', 88, 111)\n",
      "(531, 16, '1st Round', 3, 'Olivo R.', 'Sousa P.', 297, 108)\n",
      "(532, 16, '1st Round', 3, 'Delbonis F.', 'Klizan M.', 85, 158)\n",
      "(533, 16, '1st Round', 3, 'Caruso S.', 'Kovalik J.', 100, 120)\n",
      "(534, 16, '1st Round', 3, 'Varillas J.P.', 'Horansky F.', 146, 164)\n",
      "(535, 16, '1st Round', 3, 'Londero J.I.', 'Coria F.', 63, 104)\n",
      "(536, 16, '1st Round', 3, 'Tabilo A.', 'Lorenzi P.', 166, 121)\n",
      "(537, 16, '2nd Round', 3, 'Olivo R.', 'Cuevas P.', 297, 60)\n",
      "(538, 16, '2nd Round', 3, 'Delbonis F.', 'Caruso S.', 85, 100)\n",
      "(539, 16, '2nd Round', 3, 'Dellien H.', 'Barrios Vera M.T.', 94, 300)\n",
      "(540, 16, '2nd Round', 3, 'Ruud C.', 'Tabilo A.', 38, 166)\n",
      "(541, 16, '2nd Round', 3, 'Monteiro T.', 'Carballes Baena R.', 88, 97)\n",
      "(542, 16, '2nd Round', 3, 'Seyboth Wild T.', 'Londero J.I.', 182, 63)\n",
      "(543, 16, '2nd Round', 3, 'Ramos-Vinolas A.', 'Varillas J.P.', 45, 146)\n",
      "(544, 16, '2nd Round', 3, 'Garin C.', 'Davidovich Fokina A.', 18, 98)\n",
      "(545, 16, 'Quarterfinals', 3, 'Ruud C.', 'Delbonis F.', 38, 85)\n",
      "(546, 16, 'Quarterfinals', 3, 'Ramos-Vinolas A.', 'Monteiro T.', 45, 88)\n",
      "(547, 16, 'Quarterfinals', 3, 'Olivo R.', 'Dellien H.', 297, 94)\n",
      "(548, 16, 'Quarterfinals', 3, 'Seyboth Wild T.', 'Garin C.', 182, 18)\n",
      "(549, 16, 'Semifinals', 3, 'Ruud C.', 'Ramos-Vinolas A.', 38, 45)\n",
      "(550, 16, 'Semifinals', 3, 'Seyboth Wild T.', 'Olivo R.', 182, 297)\n",
      "(551, 16, 'The Final', 3, 'Seyboth Wild T.', 'Ruud C.', 182, 38)\n"
     ]
    }
   ],
   "source": [
    "import sqlite3\n",
    "con = sqlite3.connect(\"tennis.db\")\n",
    "cur = con.cursor()\n",
    "cur.execute(\"SELECT * FROM match\")\n",
    "for r in cur.fetchall():\n",
    "    print (r)"
   ]
  }
 ],
 "metadata": {
  "kernelspec": {
   "display_name": "Python 3 (ipykernel)",
   "language": "python",
   "name": "python3"
  },
  "language_info": {
   "codemirror_mode": {
    "name": "ipython",
    "version": 3
   },
   "file_extension": ".py",
   "mimetype": "text/x-python",
   "name": "python",
   "nbconvert_exporter": "python",
   "pygments_lexer": "ipython3",
   "version": "3.10.4"
  },
  "latex_envs": {
   "LaTeX_envs_menu_present": true,
   "autoclose": false,
   "autocomplete": true,
   "bibliofile": "biblio.bib",
   "cite_by": "apalike",
   "current_citInitial": 1,
   "eqLabelWithNumbers": true,
   "eqNumInitial": 1,
   "hotkeys": {
    "equation": "Ctrl-E",
    "itemize": "Ctrl-I"
   },
   "labels_anchors": false,
   "latex_user_defs": false,
   "report_style_numbering": false,
   "user_envs_cfg": false
  }
 },
 "nbformat": 4,
 "nbformat_minor": 2
}
