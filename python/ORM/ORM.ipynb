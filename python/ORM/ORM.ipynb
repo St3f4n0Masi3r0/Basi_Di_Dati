{
 "cells": [
  {
   "cell_type": "markdown",
   "metadata": {},
   "source": [
    "# Basi di Dati Mod. 2 - SQLAlchemy ORM\n",
    "\n",
    "### Stefano Calzavara, Università Ca' Foscari Venezia"
   ]
  },
  {
   "cell_type": "markdown",
   "metadata": {},
   "source": [
    "Gli ORM forniscono uno strumento per definire un mapping fra:\n",
    "1. classi del linguaggio di programmazione (es. Python) e tabelle del DBMS sottostante\n",
    "2. istanze di tali classi (oggetti) e righe delle tabelle corrispondenti\n",
    "\n",
    "Il risultato è un sistema che sincronizza trasparentemente tutti i cambiamenti di stato fra gli oggetti e le righe ad essi associate. Tale approccio permette inoltre di esprimere query al database in termini di classi e delle relazioni esistenti fra di esse.\n",
    "\n",
    "![alt text](orm.jpg \"ORM architecture\")\n",
    "\n",
    "SQLAlchemy ORM è costruito sopra all'Expression Language ed offre un livello di astrazione ancora più elevato rispetto al DBMS sottostante. La maggior parte delle applicazioni può fare uso esclusivo delle funzionalità ORM, usando l'Expression Language solo dove è veramente necessario scendere a più basso livello."
   ]
  },
  {
   "cell_type": "markdown",
   "metadata": {},
   "source": [
    "### Dichiarazione di un mapping"
   ]
  },
  {
   "cell_type": "code",
   "execution_count": 2,
   "metadata": {},
   "outputs": [],
   "source": [
    "import sqlalchemy\n",
    "from sqlalchemy import *\n",
    "from sqlalchemy.ext.declarative import declarative_base\n",
    "\n",
    "engine = create_engine('sqlite://', echo=True)\n",
    "\n",
    "Base = declarative_base()                      # tabella = classe che eredita da Base\n",
    "\n",
    "class User(Base):\n",
    "    __tablename__ = 'users'                   # obbligatorio\n",
    "\n",
    "    id = Column(Integer, primary_key=True)    # almeno un attributo deve fare parte della primary key\n",
    "    name = Column(String)\n",
    "    fullname = Column(String)\n",
    "    nickname = Column(String)\n",
    "    \n",
    "    # questo metodo è opzionale, serve solo per pretty printing\n",
    "    def __repr__(self):\n",
    "        return \"<User(name='%s', fullname='%s', nickname='%s')>\" % (self.name, self.fullname, self.nickname)"
   ]
  },
  {
   "cell_type": "markdown",
   "metadata": {},
   "source": [
    "### Creare uno schema"
   ]
  },
  {
   "cell_type": "code",
   "execution_count": 3,
   "metadata": {},
   "outputs": [
    {
     "data": {
      "text/plain": [
       "Table('users', MetaData(), Column('id', Integer(), table=<users>, primary_key=True, nullable=False), Column('name', String(), table=<users>), Column('fullname', String(), table=<users>), Column('nickname', String(), table=<users>), schema=None)"
      ]
     },
     "execution_count": 3,
     "metadata": {},
     "output_type": "execute_result"
    }
   ],
   "source": [
    "User.__table__"
   ]
  },
  {
   "cell_type": "code",
   "execution_count": 4,
   "metadata": {},
   "outputs": [
    {
     "name": "stdout",
     "output_type": "stream",
     "text": [
      "2022-04-09 15:10:23,706 INFO sqlalchemy.engine.Engine BEGIN (implicit)\n",
      "2022-04-09 15:10:23,708 INFO sqlalchemy.engine.Engine PRAGMA main.table_info(\"users\")\n",
      "2022-04-09 15:10:23,709 INFO sqlalchemy.engine.Engine [raw sql] ()\n",
      "2022-04-09 15:10:23,711 INFO sqlalchemy.engine.Engine PRAGMA temp.table_info(\"users\")\n",
      "2022-04-09 15:10:23,711 INFO sqlalchemy.engine.Engine [raw sql] ()\n",
      "2022-04-09 15:10:23,712 INFO sqlalchemy.engine.Engine \n",
      "CREATE TABLE users (\n",
      "\tid INTEGER NOT NULL, \n",
      "\tname VARCHAR, \n",
      "\tfullname VARCHAR, \n",
      "\tnickname VARCHAR, \n",
      "\tPRIMARY KEY (id)\n",
      ")\n",
      "\n",
      "\n",
      "2022-04-09 15:10:23,713 INFO sqlalchemy.engine.Engine [no key 0.00054s] ()\n",
      "2022-04-09 15:10:23,714 INFO sqlalchemy.engine.Engine COMMIT\n"
     ]
    }
   ],
   "source": [
    "Base.metadata.create_all(engine)"
   ]
  },
  {
   "cell_type": "markdown",
   "metadata": {},
   "source": [
    "### Creare un'istanza di una classe mappata"
   ]
  },
  {
   "cell_type": "markdown",
   "metadata": {},
   "source": [
    "Un'istanza di una classe mappata rappresenta una riga della tabella corrispondente."
   ]
  },
  {
   "cell_type": "code",
   "execution_count": 5,
   "metadata": {},
   "outputs": [
    {
     "name": "stdout",
     "output_type": "stream",
     "text": [
      "ed\n",
      "thunder\n",
      "None\n"
     ]
    }
   ],
   "source": [
    "ed_user = User(name='ed', fullname='Ed Jones', nickname='thunder')\n",
    "print(ed_user.name)\n",
    "print(ed_user.nickname)\n",
    "print(ed_user.id)"
   ]
  },
  {
   "cell_type": "markdown",
   "metadata": {},
   "source": [
    "Importante: Si noti che a questo punto non è ancora stato scritto niente nel database! Questo è confermato dal fatto che l'attributo `id` è ancora impostato a `None`. Abbiamo però preparato SQLAlchemy ORM affinché sia in grado di aggiornare il database correttamente all'interno di una **sessione**."
   ]
  },
  {
   "cell_type": "markdown",
   "metadata": {},
   "source": [
    "### Sessioni: creazione ed utilizzo"
   ]
  },
  {
   "cell_type": "markdown",
   "metadata": {},
   "source": [
    "Una sessione in SQLAlchemy ORM nasconde una serie di dettagli implementativi che tipicamente sono gestiti manualmente nell'Expression Language, in particolare la gestione delle connessioni e delle transazioni."
   ]
  },
  {
   "cell_type": "code",
   "execution_count": 6,
   "metadata": {},
   "outputs": [],
   "source": [
    "from sqlalchemy.orm import sessionmaker\n",
    "Session = sessionmaker(bind=engine)       # factory pattern\n",
    "session = Session()"
   ]
  },
  {
   "cell_type": "code",
   "execution_count": 7,
   "metadata": {},
   "outputs": [],
   "source": [
    "session.add(ed_user)    # pending instance: verrà salvata nel database quando veramente necessario"
   ]
  },
  {
   "cell_type": "code",
   "execution_count": 8,
   "metadata": {},
   "outputs": [
    {
     "name": "stdout",
     "output_type": "stream",
     "text": [
      "2022-04-09 15:10:47,889 INFO sqlalchemy.engine.Engine BEGIN (implicit)\n",
      "2022-04-09 15:10:47,892 INFO sqlalchemy.engine.Engine INSERT INTO users (name, fullname, nickname) VALUES (?, ?, ?)\n",
      "2022-04-09 15:10:47,893 INFO sqlalchemy.engine.Engine [generated in 0.00136s] ('ed', 'Ed Jones', 'thunder')\n",
      "2022-04-09 15:10:47,896 INFO sqlalchemy.engine.Engine SELECT users.id AS users_id, users.name AS users_name, users.fullname AS users_fullname, users.nickname AS users_nickname \n",
      "FROM users \n",
      "WHERE users.name = ?\n",
      " LIMIT ? OFFSET ?\n",
      "2022-04-09 15:10:47,896 INFO sqlalchemy.engine.Engine [generated in 0.00077s] ('ed', 1, 0)\n"
     ]
    },
    {
     "data": {
      "text/plain": [
       "<User(name='ed', fullname='Ed Jones', nickname='thunder')>"
      ]
     },
     "execution_count": 8,
     "metadata": {},
     "output_type": "execute_result"
    }
   ],
   "source": [
    "our_user = session.query(User).filter_by(name='ed').first()    # qui è necessario salvare la pending instance\n",
    "our_user"
   ]
  },
  {
   "cell_type": "code",
   "execution_count": 9,
   "metadata": {},
   "outputs": [
    {
     "data": {
      "text/plain": [
       "True"
      ]
     },
     "execution_count": 9,
     "metadata": {},
     "output_type": "execute_result"
    }
   ],
   "source": [
    "ed_user is our_user"
   ]
  },
  {
   "cell_type": "code",
   "execution_count": 10,
   "metadata": {},
   "outputs": [
    {
     "name": "stdout",
     "output_type": "stream",
     "text": [
      "1\n"
     ]
    }
   ],
   "source": [
    "print(ed_user.id)    # primary key creata in fase di scrittura al database"
   ]
  },
  {
   "cell_type": "code",
   "execution_count": 11,
   "metadata": {},
   "outputs": [],
   "source": [
    "ed_user.nickname = 'eddie'\n",
    "\n",
    "session.add_all([User(name='wendy', fullname='Wendy Williams', nickname='windy'),\n",
    "                 User(name='mary', fullname='Mary Contrary', nickname='mary'),\n",
    "                 User(name='fred', fullname='Fred Flintstone', nickname='freddy')])"
   ]
  },
  {
   "cell_type": "code",
   "execution_count": 12,
   "metadata": {},
   "outputs": [
    {
     "name": "stdout",
     "output_type": "stream",
     "text": [
      "Dirty instances: IdentitySet([<User(name='ed', fullname='Ed Jones', nickname='eddie')>])\n",
      "Pending instances: IdentitySet([<User(name='wendy', fullname='Wendy Williams', nickname='windy')>, <User(name='mary', fullname='Mary Contrary', nickname='mary')>, <User(name='fred', fullname='Fred Flintstone', nickname='freddy')>])\n",
      "\n",
      "2022-04-09 15:10:55,389 INFO sqlalchemy.engine.Engine UPDATE users SET nickname=? WHERE users.id = ?\n",
      "2022-04-09 15:10:55,391 INFO sqlalchemy.engine.Engine [generated in 0.00165s] ('eddie', 1)\n",
      "2022-04-09 15:10:55,392 INFO sqlalchemy.engine.Engine INSERT INTO users (name, fullname, nickname) VALUES (?, ?, ?)\n",
      "2022-04-09 15:10:55,393 INFO sqlalchemy.engine.Engine [cached since 7.501s ago] ('wendy', 'Wendy Williams', 'windy')\n",
      "2022-04-09 15:10:55,393 INFO sqlalchemy.engine.Engine INSERT INTO users (name, fullname, nickname) VALUES (?, ?, ?)\n",
      "2022-04-09 15:10:55,394 INFO sqlalchemy.engine.Engine [cached since 7.502s ago] ('mary', 'Mary Contrary', 'mary')\n",
      "2022-04-09 15:10:55,394 INFO sqlalchemy.engine.Engine INSERT INTO users (name, fullname, nickname) VALUES (?, ?, ?)\n",
      "2022-04-09 15:10:55,395 INFO sqlalchemy.engine.Engine [cached since 7.503s ago] ('fred', 'Fred Flintstone', 'freddy')\n",
      "2022-04-09 15:10:55,396 INFO sqlalchemy.engine.Engine COMMIT\n",
      "\n",
      "Dirty instances: IdentitySet([])\n",
      "Pending instances: IdentitySet([])\n"
     ]
    }
   ],
   "source": [
    "print(\"Dirty instances: \" + str(session.dirty))\n",
    "print(\"Pending instances: \" + str(session.new) + \"\\n\")\n",
    "session.commit()\n",
    "print(\"\\nDirty instances: \" + str(session.dirty))\n",
    "print(\"Pending instances: \" + str(session.new))"
   ]
  },
  {
   "cell_type": "code",
   "execution_count": 13,
   "metadata": {},
   "outputs": [
    {
     "name": "stdout",
     "output_type": "stream",
     "text": [
      "2022-04-09 15:10:56,037 INFO sqlalchemy.engine.Engine BEGIN (implicit)\n",
      "2022-04-09 15:10:56,039 INFO sqlalchemy.engine.Engine SELECT users.id AS users_id, users.fullname AS users_fullname, users.nickname AS users_nickname \n",
      "FROM users \n",
      "WHERE users.id = ?\n",
      "2022-04-09 15:10:56,040 INFO sqlalchemy.engine.Engine [generated in 0.00089s] (1,)\n",
      "2022-04-09 15:10:56,042 INFO sqlalchemy.engine.Engine UPDATE users SET name=? WHERE users.id = ?\n",
      "2022-04-09 15:10:56,042 INFO sqlalchemy.engine.Engine [generated in 0.00061s] ('Edwardo', 1)\n",
      "2022-04-09 15:10:56,044 INFO sqlalchemy.engine.Engine INSERT INTO users (name, fullname, nickname) VALUES (?, ?, ?)\n",
      "2022-04-09 15:10:56,044 INFO sqlalchemy.engine.Engine [cached since 8.152s ago] ('fakeuser', 'Invalid', '12345')\n",
      "2022-04-09 15:10:56,046 INFO sqlalchemy.engine.Engine SELECT users.id AS users_id, users.name AS users_name, users.fullname AS users_fullname, users.nickname AS users_nickname \n",
      "FROM users \n",
      "WHERE users.name IN (?, ?)\n",
      "2022-04-09 15:10:56,047 INFO sqlalchemy.engine.Engine [generated in 0.00115s] ('Edwardo', 'fakeuser')\n"
     ]
    },
    {
     "data": {
      "text/plain": [
       "[<User(name='Edwardo', fullname='Ed Jones', nickname='eddie')>,\n",
       " <User(name='fakeuser', fullname='Invalid', nickname='12345')>]"
      ]
     },
     "execution_count": 13,
     "metadata": {},
     "output_type": "execute_result"
    }
   ],
   "source": [
    "ed_user.name = 'Edwardo'\n",
    "fake_user = User(name='fakeuser', fullname='Invalid', nickname='12345')\n",
    "session.add(fake_user)\n",
    "session.query(User).filter(User.name.in_(['Edwardo', 'fakeuser'])).all()"
   ]
  },
  {
   "cell_type": "code",
   "execution_count": 14,
   "metadata": {},
   "outputs": [
    {
     "name": "stdout",
     "output_type": "stream",
     "text": [
      "2022-04-09 15:10:56,951 INFO sqlalchemy.engine.Engine ROLLBACK\n",
      "2022-04-09 15:10:56,953 INFO sqlalchemy.engine.Engine BEGIN (implicit)\n",
      "2022-04-09 15:10:56,954 INFO sqlalchemy.engine.Engine SELECT users.id AS users_id, users.name AS users_name, users.fullname AS users_fullname, users.nickname AS users_nickname \n",
      "FROM users \n",
      "WHERE users.id = ?\n",
      "2022-04-09 15:10:56,955 INFO sqlalchemy.engine.Engine [generated in 0.00048s] (1,)\n",
      ">>> eddie's name: ed\n",
      "2022-04-09 15:10:56,956 INFO sqlalchemy.engine.Engine SELECT users.id AS users_id, users.name AS users_name, users.fullname AS users_fullname, users.nickname AS users_nickname \n",
      "FROM users \n",
      "WHERE users.name IN (?, ?)\n",
      "2022-04-09 15:10:56,957 INFO sqlalchemy.engine.Engine [cached since 0.9114s ago] ('ed', 'fakeuser')\n"
     ]
    },
    {
     "data": {
      "text/plain": [
       "[<User(name='ed', fullname='Ed Jones', nickname='eddie')>]"
      ]
     },
     "execution_count": 14,
     "metadata": {},
     "output_type": "execute_result"
    }
   ],
   "source": [
    "session.rollback()\n",
    "print(\">>> eddie's name: \" + ed_user.name)\n",
    "session.query(User).filter(User.name.in_(['ed', 'fakeuser'])).all()"
   ]
  },
  {
   "cell_type": "markdown",
   "metadata": {},
   "source": [
    "### Selezionare dati"
   ]
  },
  {
   "cell_type": "code",
   "execution_count": 15,
   "metadata": {},
   "outputs": [
    {
     "name": "stdout",
     "output_type": "stream",
     "text": [
      "2022-04-09 15:10:59,077 INFO sqlalchemy.engine.Engine SELECT users.id AS users_id, users.name AS users_name, users.fullname AS users_fullname, users.nickname AS users_nickname \n",
      "FROM users ORDER BY users.id\n",
      "2022-04-09 15:10:59,078 INFO sqlalchemy.engine.Engine [generated in 0.00128s] ()\n",
      "ed Ed Jones\n",
      "wendy Wendy Williams\n",
      "mary Mary Contrary\n",
      "fred Fred Flintstone\n"
     ]
    }
   ],
   "source": [
    "for instance in session.query(User).order_by(User.id):\n",
    "    print(instance.name, instance.fullname)"
   ]
  },
  {
   "cell_type": "code",
   "execution_count": 16,
   "metadata": {},
   "outputs": [
    {
     "name": "stdout",
     "output_type": "stream",
     "text": [
      "2022-04-09 15:10:59,974 INFO sqlalchemy.engine.Engine SELECT users.name AS users_name, users.fullname AS users_fullname \n",
      "FROM users\n",
      "2022-04-09 15:10:59,975 INFO sqlalchemy.engine.Engine [generated in 0.00116s] ()\n",
      "ed Ed Jones\n",
      "wendy Wendy Williams\n",
      "mary Mary Contrary\n",
      "fred Fred Flintstone\n"
     ]
    }
   ],
   "source": [
    "for name, fullname in session.query(User.name, User.fullname):\n",
    "    print(name, fullname)"
   ]
  },
  {
   "cell_type": "code",
   "execution_count": 17,
   "metadata": {},
   "outputs": [
    {
     "name": "stdout",
     "output_type": "stream",
     "text": [
      "2022-04-09 15:11:00,505 INFO sqlalchemy.engine.Engine SELECT users.id AS users_id, users.name AS users_name, users.fullname AS users_fullname, users.nickname AS users_nickname \n",
      "FROM users ORDER BY users.id\n",
      " LIMIT ? OFFSET ?\n",
      "2022-04-09 15:11:00,506 INFO sqlalchemy.engine.Engine [generated in 0.00140s] (2, 1)\n",
      "<User(name='wendy', fullname='Wendy Williams', nickname='windy')>\n",
      "<User(name='mary', fullname='Mary Contrary', nickname='mary')>\n"
     ]
    }
   ],
   "source": [
    "for u in session.query(User).order_by(User.id)[1:3]:\n",
    "    print(u)"
   ]
  },
  {
   "cell_type": "code",
   "execution_count": 18,
   "metadata": {},
   "outputs": [
    {
     "name": "stdout",
     "output_type": "stream",
     "text": [
      "2022-04-09 15:11:01,130 INFO sqlalchemy.engine.Engine SELECT users.id AS users_id, users.name AS users_name, users.fullname AS users_fullname, users.nickname AS users_nickname \n",
      "FROM users \n",
      "WHERE users.fullname = ?\n",
      "2022-04-09 15:11:01,131 INFO sqlalchemy.engine.Engine [generated in 0.00157s] ('Ed Jones',)\n",
      "ed\n"
     ]
    }
   ],
   "source": [
    "for u in session.query(User).filter_by(fullname='Ed Jones'):\n",
    "    print(u.name)"
   ]
  },
  {
   "cell_type": "code",
   "execution_count": 19,
   "metadata": {},
   "outputs": [
    {
     "name": "stdout",
     "output_type": "stream",
     "text": [
      "2022-04-09 15:11:01,520 INFO sqlalchemy.engine.Engine SELECT users.id AS users_id, users.name AS users_name, users.fullname AS users_fullname, users.nickname AS users_nickname \n",
      "FROM users \n",
      "WHERE users.fullname = ?\n",
      "2022-04-09 15:11:01,521 INFO sqlalchemy.engine.Engine [cached since 0.3917s ago] ('Ed Jones',)\n",
      "ed\n"
     ]
    }
   ],
   "source": [
    "for u in session.query(User).filter(User.fullname=='Ed Jones'):\n",
    "    print(u.name)"
   ]
  },
  {
   "cell_type": "code",
   "execution_count": 20,
   "metadata": {},
   "outputs": [
    {
     "name": "stdout",
     "output_type": "stream",
     "text": [
      "2022-04-09 15:11:01,928 INFO sqlalchemy.engine.Engine SELECT users.id AS users_id, users.name AS users_name, users.fullname AS users_fullname, users.nickname AS users_nickname \n",
      "FROM users \n",
      "WHERE users.name LIKE ? AND users.fullname = ?\n",
      "2022-04-09 15:11:01,930 INFO sqlalchemy.engine.Engine [generated in 0.00182s] ('%ed', 'Ed Jones')\n",
      "ed\n"
     ]
    }
   ],
   "source": [
    "for u in session.query(User).filter(User.name.like('%ed')).filter(User.fullname=='Ed Jones'):\n",
    "    print(u.name)"
   ]
  },
  {
   "cell_type": "code",
   "execution_count": 21,
   "metadata": {},
   "outputs": [
    {
     "name": "stdout",
     "output_type": "stream",
     "text": [
      "2022-04-09 15:11:02,155 INFO sqlalchemy.engine.Engine SELECT users.id AS users_id, users.name AS users_name, users.fullname AS users_fullname, users.nickname AS users_nickname \n",
      "FROM users \n",
      "WHERE users.name LIKE ? ORDER BY users.id\n",
      "2022-04-09 15:11:02,158 INFO sqlalchemy.engine.Engine [generated in 0.00326s] ('%ed',)\n"
     ]
    },
    {
     "data": {
      "text/plain": [
       "[<User(name='ed', fullname='Ed Jones', nickname='eddie')>,\n",
       " <User(name='fred', fullname='Fred Flintstone', nickname='freddy')>]"
      ]
     },
     "execution_count": 21,
     "metadata": {},
     "output_type": "execute_result"
    }
   ],
   "source": [
    "query = session.query(User).filter(User.name.like('%ed')).order_by(User.id)\n",
    "query.all()"
   ]
  },
  {
   "cell_type": "code",
   "execution_count": 22,
   "metadata": {},
   "outputs": [
    {
     "name": "stdout",
     "output_type": "stream",
     "text": [
      "2022-04-09 15:11:02,336 INFO sqlalchemy.engine.Engine SELECT users.id AS users_id, users.name AS users_name, users.fullname AS users_fullname, users.nickname AS users_nickname \n",
      "FROM users \n",
      "WHERE users.name LIKE ? ORDER BY users.id\n",
      " LIMIT ? OFFSET ?\n",
      "2022-04-09 15:11:02,339 INFO sqlalchemy.engine.Engine [generated in 0.00366s] ('%ed', 1, 0)\n"
     ]
    },
    {
     "data": {
      "text/plain": [
       "<User(name='ed', fullname='Ed Jones', nickname='eddie')>"
      ]
     },
     "execution_count": 22,
     "metadata": {},
     "output_type": "execute_result"
    }
   ],
   "source": [
    "query.first()"
   ]
  },
  {
   "cell_type": "code",
   "execution_count": 23,
   "metadata": {},
   "outputs": [
    {
     "name": "stdout",
     "output_type": "stream",
     "text": [
      "2022-04-09 15:11:03,064 INFO sqlalchemy.engine.Engine SELECT users.id AS users_id, users.name AS users_name, users.fullname AS users_fullname, users.nickname AS users_nickname \n",
      "FROM users \n",
      "WHERE users.name LIKE ? ORDER BY users.id\n",
      "2022-04-09 15:11:03,066 INFO sqlalchemy.engine.Engine [cached since 0.9107s ago] ('%ed',)\n"
     ]
    },
    {
     "ename": "MultipleResultsFound",
     "evalue": "Multiple rows were found when exactly one was required",
     "output_type": "error",
     "traceback": [
      "\u001b[0;31m---------------------------------------------------------------------------\u001b[0m",
      "\u001b[0;31mMultipleResultsFound\u001b[0m                      Traceback (most recent call last)",
      "Input \u001b[0;32mIn [23]\u001b[0m, in \u001b[0;36m<cell line: 1>\u001b[0;34m()\u001b[0m\n\u001b[0;32m----> 1\u001b[0m \u001b[43mquery\u001b[49m\u001b[38;5;241;43m.\u001b[39;49m\u001b[43mone\u001b[49m\u001b[43m(\u001b[49m\u001b[43m)\u001b[49m\n",
      "File \u001b[0;32m/usr/lib/python3.10/site-packages/sqlalchemy/orm/query.py:2865\u001b[0m, in \u001b[0;36mQuery.one\u001b[0;34m(self)\u001b[0m\n\u001b[1;32m   2847\u001b[0m \u001b[38;5;28;01mdef\u001b[39;00m \u001b[38;5;21mone\u001b[39m(\u001b[38;5;28mself\u001b[39m):\n\u001b[1;32m   2848\u001b[0m     \u001b[38;5;124;03m\"\"\"Return exactly one result or raise an exception.\u001b[39;00m\n\u001b[1;32m   2849\u001b[0m \n\u001b[1;32m   2850\u001b[0m \u001b[38;5;124;03m    Raises ``sqlalchemy.orm.exc.NoResultFound`` if the query selects\u001b[39;00m\n\u001b[0;32m   (...)\u001b[0m\n\u001b[1;32m   2863\u001b[0m \n\u001b[1;32m   2864\u001b[0m \u001b[38;5;124;03m    \"\"\"\u001b[39;00m\n\u001b[0;32m-> 2865\u001b[0m     \u001b[38;5;28;01mreturn\u001b[39;00m \u001b[38;5;28;43mself\u001b[39;49m\u001b[38;5;241;43m.\u001b[39;49m\u001b[43m_iter\u001b[49m\u001b[43m(\u001b[49m\u001b[43m)\u001b[49m\u001b[38;5;241;43m.\u001b[39;49m\u001b[43mone\u001b[49m\u001b[43m(\u001b[49m\u001b[43m)\u001b[49m\n",
      "File \u001b[0;32m/usr/lib/python3.10/site-packages/sqlalchemy/engine/result.py:1408\u001b[0m, in \u001b[0;36mScalarResult.one\u001b[0;34m(self)\u001b[0m\n\u001b[1;32m   1400\u001b[0m \u001b[38;5;28;01mdef\u001b[39;00m \u001b[38;5;21mone\u001b[39m(\u001b[38;5;28mself\u001b[39m):\n\u001b[1;32m   1401\u001b[0m     \u001b[38;5;124;03m\"\"\"Return exactly one object or raise an exception.\u001b[39;00m\n\u001b[1;32m   1402\u001b[0m \n\u001b[1;32m   1403\u001b[0m \u001b[38;5;124;03m    Equivalent to :meth:`_result.Result.one` except that\u001b[39;00m\n\u001b[0;32m   (...)\u001b[0m\n\u001b[1;32m   1406\u001b[0m \n\u001b[1;32m   1407\u001b[0m \u001b[38;5;124;03m    \"\"\"\u001b[39;00m\n\u001b[0;32m-> 1408\u001b[0m     \u001b[38;5;28;01mreturn\u001b[39;00m \u001b[38;5;28;43mself\u001b[39;49m\u001b[38;5;241;43m.\u001b[39;49m\u001b[43m_only_one_row\u001b[49m\u001b[43m(\u001b[49m\n\u001b[1;32m   1409\u001b[0m \u001b[43m        \u001b[49m\u001b[43mraise_for_second_row\u001b[49m\u001b[38;5;241;43m=\u001b[39;49m\u001b[38;5;28;43;01mTrue\u001b[39;49;00m\u001b[43m,\u001b[49m\u001b[43m \u001b[49m\u001b[43mraise_for_none\u001b[49m\u001b[38;5;241;43m=\u001b[39;49m\u001b[38;5;28;43;01mTrue\u001b[39;49;00m\u001b[43m,\u001b[49m\u001b[43m \u001b[49m\u001b[43mscalar\u001b[49m\u001b[38;5;241;43m=\u001b[39;49m\u001b[38;5;28;43;01mFalse\u001b[39;49;00m\n\u001b[1;32m   1410\u001b[0m \u001b[43m    \u001b[49m\u001b[43m)\u001b[49m\n",
      "File \u001b[0;32m/usr/lib/python3.10/site-packages/sqlalchemy/engine/result.py:614\u001b[0m, in \u001b[0;36mResultInternal._only_one_row\u001b[0;34m(self, raise_for_second_row, raise_for_none, scalar)\u001b[0m\n\u001b[1;32m    612\u001b[0m     \u001b[38;5;28;01mif\u001b[39;00m next_row \u001b[38;5;129;01mis\u001b[39;00m \u001b[38;5;129;01mnot\u001b[39;00m _NO_ROW:\n\u001b[1;32m    613\u001b[0m         \u001b[38;5;28mself\u001b[39m\u001b[38;5;241m.\u001b[39m_soft_close(hard\u001b[38;5;241m=\u001b[39m\u001b[38;5;28;01mTrue\u001b[39;00m)\n\u001b[0;32m--> 614\u001b[0m         \u001b[38;5;28;01mraise\u001b[39;00m exc\u001b[38;5;241m.\u001b[39mMultipleResultsFound(\n\u001b[1;32m    615\u001b[0m             \u001b[38;5;124m\"\u001b[39m\u001b[38;5;124mMultiple rows were found when exactly one was required\u001b[39m\u001b[38;5;124m\"\u001b[39m\n\u001b[1;32m    616\u001b[0m             \u001b[38;5;28;01mif\u001b[39;00m raise_for_none\n\u001b[1;32m    617\u001b[0m             \u001b[38;5;28;01melse\u001b[39;00m \u001b[38;5;124m\"\u001b[39m\u001b[38;5;124mMultiple rows were found when one or none \u001b[39m\u001b[38;5;124m\"\u001b[39m\n\u001b[1;32m    618\u001b[0m             \u001b[38;5;124m\"\u001b[39m\u001b[38;5;124mwas required\u001b[39m\u001b[38;5;124m\"\u001b[39m\n\u001b[1;32m    619\u001b[0m         )\n\u001b[1;32m    620\u001b[0m \u001b[38;5;28;01melse\u001b[39;00m:\n\u001b[1;32m    621\u001b[0m     next_row \u001b[38;5;241m=\u001b[39m _NO_ROW\n",
      "\u001b[0;31mMultipleResultsFound\u001b[0m: Multiple rows were found when exactly one was required"
     ]
    }
   ],
   "source": [
    "query.one()"
   ]
  },
  {
   "cell_type": "code",
   "execution_count": null,
   "metadata": {},
   "outputs": [],
   "source": [
    "query.count()"
   ]
  },
  {
   "cell_type": "markdown",
   "metadata": {},
   "source": [
    "### Relazioni"
   ]
  },
  {
   "cell_type": "markdown",
   "metadata": {},
   "source": [
    "Modelliamo ora una relazione uno-a-molti fra utenti ed indirizzi email. Tale relazione consente di effettuare le seguenti operazioni:\n",
    "1. Dato un indirizzo email, trovare l'utente ad esso associato\n",
    "2. Dato un utente, trovare una lista dei suoi indirizzi email\n",
    "\n",
    "Questo meccanismo viene implementato tramite `relationship` come segue. Si faccia attenzione alla creazione di due attributi in questo caso, uno per ciascuna classe. Il primo attributo implementa 1, mentre il secondo attributo implementa 2."
   ]
  },
  {
   "cell_type": "code",
   "execution_count": 24,
   "metadata": {},
   "outputs": [],
   "source": [
    "from sqlalchemy.orm import relationship\n",
    "\n",
    "class Address(Base):\n",
    "     __tablename__ = 'addresses'\n",
    "     id = Column(Integer, primary_key=True)\n",
    "     email_address = Column(String, nullable=False)\n",
    "     user_id = Column(Integer, ForeignKey(User.id))\n",
    "\n",
    "     user = relationship(User, back_populates=\"addresses\")    # qui viene sfruttata la foreign key\n",
    "\n",
    "     def __repr__(self):\n",
    "         return \"<Address(email_address='%s')>\" % self.email_address\n",
    "        \n",
    "User.addresses = relationship(Address, order_by=Address.id, back_populates=\"user\")"
   ]
  },
  {
   "cell_type": "code",
   "execution_count": 25,
   "metadata": {},
   "outputs": [
    {
     "name": "stdout",
     "output_type": "stream",
     "text": [
      "2022-04-09 15:11:19,323 INFO sqlalchemy.engine.Engine BEGIN (implicit)\n",
      "2022-04-09 15:11:19,326 INFO sqlalchemy.engine.Engine PRAGMA main.table_info(\"users\")\n",
      "2022-04-09 15:11:19,327 INFO sqlalchemy.engine.Engine [raw sql] ()\n",
      "2022-04-09 15:11:19,328 INFO sqlalchemy.engine.Engine PRAGMA main.table_info(\"addresses\")\n",
      "2022-04-09 15:11:19,328 INFO sqlalchemy.engine.Engine [raw sql] ()\n",
      "2022-04-09 15:11:19,329 INFO sqlalchemy.engine.Engine PRAGMA temp.table_info(\"addresses\")\n",
      "2022-04-09 15:11:19,330 INFO sqlalchemy.engine.Engine [raw sql] ()\n",
      "2022-04-09 15:11:19,330 INFO sqlalchemy.engine.Engine \n",
      "CREATE TABLE addresses (\n",
      "\tid INTEGER NOT NULL, \n",
      "\temail_address VARCHAR NOT NULL, \n",
      "\tuser_id INTEGER, \n",
      "\tPRIMARY KEY (id), \n",
      "\tFOREIGN KEY(user_id) REFERENCES users (id)\n",
      ")\n",
      "\n",
      "\n",
      "2022-04-09 15:11:19,331 INFO sqlalchemy.engine.Engine [no key 0.00053s] ()\n",
      "2022-04-09 15:11:19,332 INFO sqlalchemy.engine.Engine COMMIT\n"
     ]
    },
    {
     "data": {
      "text/plain": [
       "[]"
      ]
     },
     "execution_count": 25,
     "metadata": {},
     "output_type": "execute_result"
    }
   ],
   "source": [
    "Base.metadata.create_all(engine)\n",
    "\n",
    "jack = User(name='jack', fullname='Jack Bean', nickname='j&b')\n",
    "jack.addresses"
   ]
  },
  {
   "cell_type": "code",
   "execution_count": 26,
   "metadata": {},
   "outputs": [],
   "source": [
    "jack.addresses = [Address(email_address='jack@google.com'), Address(email_address='j25@yahoo.com')]"
   ]
  },
  {
   "cell_type": "code",
   "execution_count": 27,
   "metadata": {},
   "outputs": [
    {
     "data": {
      "text/plain": [
       "<Address(email_address='jack@google.com')>"
      ]
     },
     "execution_count": 27,
     "metadata": {},
     "output_type": "execute_result"
    }
   ],
   "source": [
    "jack.addresses[0]"
   ]
  },
  {
   "cell_type": "code",
   "execution_count": 28,
   "metadata": {},
   "outputs": [
    {
     "data": {
      "text/plain": [
       "<User(name='jack', fullname='Jack Bean', nickname='j&b')>"
      ]
     },
     "execution_count": 28,
     "metadata": {},
     "output_type": "execute_result"
    }
   ],
   "source": [
    "jack.addresses[0].user"
   ]
  },
  {
   "cell_type": "code",
   "execution_count": 29,
   "metadata": {},
   "outputs": [
    {
     "name": "stdout",
     "output_type": "stream",
     "text": [
      "2022-04-09 15:12:01,885 INFO sqlalchemy.engine.Engine INSERT INTO users (name, fullname, nickname) VALUES (?, ?, ?)\n",
      "2022-04-09 15:12:01,888 INFO sqlalchemy.engine.Engine [generated in 0.00227s] ('jack', 'Jack Bean', 'j&b')\n",
      "2022-04-09 15:12:01,890 INFO sqlalchemy.engine.Engine INSERT INTO addresses (email_address, user_id) VALUES (?, ?)\n",
      "2022-04-09 15:12:01,891 INFO sqlalchemy.engine.Engine [generated in 0.00073s] ('jack@google.com', 5)\n",
      "2022-04-09 15:12:01,892 INFO sqlalchemy.engine.Engine INSERT INTO addresses (email_address, user_id) VALUES (?, ?)\n",
      "2022-04-09 15:12:01,893 INFO sqlalchemy.engine.Engine [cached since 0.002685s ago] ('j25@yahoo.com', 5)\n",
      "2022-04-09 15:12:01,894 INFO sqlalchemy.engine.Engine COMMIT\n"
     ]
    }
   ],
   "source": [
    "session.add(jack)\n",
    "session.commit()"
   ]
  },
  {
   "cell_type": "code",
   "execution_count": 30,
   "metadata": {},
   "outputs": [
    {
     "name": "stdout",
     "output_type": "stream",
     "text": [
      "2022-04-09 15:12:04,002 INFO sqlalchemy.engine.Engine BEGIN (implicit)\n",
      "2022-04-09 15:12:04,008 INFO sqlalchemy.engine.Engine SELECT users.id AS users_id, users.name AS users_name, users.fullname AS users_fullname, users.nickname AS users_nickname \n",
      "FROM users \n",
      "WHERE users.name = ?\n",
      "2022-04-09 15:12:04,009 INFO sqlalchemy.engine.Engine [generated in 0.00134s] ('jack',)\n",
      "<User(name='jack', fullname='Jack Bean', nickname='j&b')>\n"
     ]
    }
   ],
   "source": [
    "jack = session.query(User).filter_by(name='jack').one()\n",
    "print(jack)     # nota: nessuna istruzione SQL viene eseguita per la tabella addresses"
   ]
  },
  {
   "cell_type": "code",
   "execution_count": 31,
   "metadata": {},
   "outputs": [
    {
     "name": "stdout",
     "output_type": "stream",
     "text": [
      "2022-04-09 15:12:05,151 INFO sqlalchemy.engine.Engine SELECT addresses.id AS addresses_id, addresses.email_address AS addresses_email_address, addresses.user_id AS addresses_user_id \n",
      "FROM addresses \n",
      "WHERE ? = addresses.user_id ORDER BY addresses.id\n",
      "2022-04-09 15:12:05,153 INFO sqlalchemy.engine.Engine [generated in 0.00143s] (5,)\n"
     ]
    },
    {
     "data": {
      "text/plain": [
       "[<Address(email_address='jack@google.com')>,\n",
       " <Address(email_address='j25@yahoo.com')>]"
      ]
     },
     "execution_count": 31,
     "metadata": {},
     "output_type": "execute_result"
    }
   ],
   "source": [
    "jack.addresses   # solo a questo punto viene eseguito SQL per la tabella addresses"
   ]
  },
  {
   "cell_type": "markdown",
   "metadata": {},
   "source": [
    "### Giunzioni"
   ]
  },
  {
   "cell_type": "code",
   "execution_count": 32,
   "metadata": {},
   "outputs": [
    {
     "name": "stdout",
     "output_type": "stream",
     "text": [
      "2022-04-09 15:12:09,540 INFO sqlalchemy.engine.Engine SELECT users.id AS users_id, users.name AS users_name, users.fullname AS users_fullname, users.nickname AS users_nickname, addresses.id AS addresses_id, addresses.email_address AS addresses_email_address, addresses.user_id AS addresses_user_id \n",
      "FROM users, addresses\n",
      "2022-04-09 15:12:09,542 INFO sqlalchemy.engine.Engine [generated in 0.00173s] ()\n",
      "(<User(name='ed', fullname='Ed Jones', nickname='eddie')>, <Address(email_address='jack@google.com')>)\n",
      "(<User(name='ed', fullname='Ed Jones', nickname='eddie')>, <Address(email_address='j25@yahoo.com')>)\n",
      "(<User(name='wendy', fullname='Wendy Williams', nickname='windy')>, <Address(email_address='jack@google.com')>)\n",
      "(<User(name='wendy', fullname='Wendy Williams', nickname='windy')>, <Address(email_address='j25@yahoo.com')>)\n",
      "(<User(name='mary', fullname='Mary Contrary', nickname='mary')>, <Address(email_address='jack@google.com')>)\n",
      "(<User(name='mary', fullname='Mary Contrary', nickname='mary')>, <Address(email_address='j25@yahoo.com')>)\n",
      "(<User(name='fred', fullname='Fred Flintstone', nickname='freddy')>, <Address(email_address='jack@google.com')>)\n",
      "(<User(name='fred', fullname='Fred Flintstone', nickname='freddy')>, <Address(email_address='j25@yahoo.com')>)\n",
      "(<User(name='jack', fullname='Jack Bean', nickname='j&b')>, <Address(email_address='jack@google.com')>)\n",
      "(<User(name='jack', fullname='Jack Bean', nickname='j&b')>, <Address(email_address='j25@yahoo.com')>)\n"
     ]
    },
    {
     "name": "stderr",
     "output_type": "stream",
     "text": [
      "/tmp/ipykernel_7399/691745299.py:1: SAWarning: SELECT statement has a cartesian product between FROM element(s) \"addresses\" and FROM element \"users\".  Apply join condition(s) between each element to resolve.\n",
      "  for u, a in session.query(User, Address):\n"
     ]
    }
   ],
   "source": [
    "for u, a in session.query(User, Address):\n",
    "    print(\"({}, {})\".format(u,a))"
   ]
  },
  {
   "cell_type": "code",
   "execution_count": 33,
   "metadata": {},
   "outputs": [
    {
     "name": "stdout",
     "output_type": "stream",
     "text": [
      "2022-04-09 15:12:10,466 INFO sqlalchemy.engine.Engine SELECT users.id AS users_id, users.name AS users_name, users.fullname AS users_fullname, users.nickname AS users_nickname, addresses.id AS addresses_id, addresses.email_address AS addresses_email_address, addresses.user_id AS addresses_user_id \n",
      "FROM users, addresses \n",
      "WHERE users.id = addresses.user_id\n",
      "2022-04-09 15:12:10,468 INFO sqlalchemy.engine.Engine [generated in 0.00220s] ()\n",
      "(<User(name='jack', fullname='Jack Bean', nickname='j&b')>, <Address(email_address='jack@google.com')>)\n",
      "(<User(name='jack', fullname='Jack Bean', nickname='j&b')>, <Address(email_address='j25@yahoo.com')>)\n"
     ]
    }
   ],
   "source": [
    "for u, a in session.query(User, Address).filter(User.id == Address.user_id):\n",
    "    print(\"({}, {})\".format(u,a))"
   ]
  },
  {
   "cell_type": "code",
   "execution_count": 34,
   "metadata": {},
   "outputs": [
    {
     "name": "stdout",
     "output_type": "stream",
     "text": [
      "2022-04-09 15:12:11,456 INFO sqlalchemy.engine.Engine SELECT count(*) AS count_1 \n",
      "FROM (SELECT users.id AS users_id, users.name AS users_name, users.fullname AS users_fullname, users.nickname AS users_nickname \n",
      "FROM users JOIN addresses ON users.id = addresses.user_id) AS anon_1\n",
      "2022-04-09 15:12:11,458 INFO sqlalchemy.engine.Engine [generated in 0.00151s] ()\n"
     ]
    },
    {
     "data": {
      "text/plain": [
       "2"
      ]
     },
     "execution_count": 34,
     "metadata": {},
     "output_type": "execute_result"
    }
   ],
   "source": [
    "session.query(User).join(Address).count()"
   ]
  },
  {
   "cell_type": "code",
   "execution_count": 35,
   "metadata": {},
   "outputs": [
    {
     "name": "stdout",
     "output_type": "stream",
     "text": [
      "2022-04-09 15:12:12,152 INFO sqlalchemy.engine.Engine SELECT users.id AS users_id, users.name AS users_name, users.fullname AS users_fullname, users.nickname AS users_nickname \n",
      "FROM users JOIN addresses ON users.id = addresses.user_id\n",
      "2022-04-09 15:12:12,154 INFO sqlalchemy.engine.Engine [generated in 0.00179s] ()\n"
     ]
    },
    {
     "data": {
      "text/plain": [
       "[<User(name='jack', fullname='Jack Bean', nickname='j&b')>]"
      ]
     },
     "execution_count": 35,
     "metadata": {},
     "output_type": "execute_result"
    }
   ],
   "source": [
    "# https://docs.sqlalchemy.org/en/13/faq/sessions.html#faq-query-deduplicating\n",
    "session.query(User).join(Address).all()"
   ]
  },
  {
   "cell_type": "code",
   "execution_count": 36,
   "metadata": {},
   "outputs": [
    {
     "name": "stdout",
     "output_type": "stream",
     "text": [
      "2022-04-09 15:12:12,377 INFO sqlalchemy.engine.Engine SELECT users.name AS users_name, users.fullname AS users_fullname, users.nickname AS users_nickname \n",
      "FROM users JOIN addresses ON users.id = addresses.user_id\n",
      "2022-04-09 15:12:12,380 INFO sqlalchemy.engine.Engine [generated in 0.00287s] ()\n"
     ]
    },
    {
     "data": {
      "text/plain": [
       "[('jack', 'Jack Bean', 'j&b'), ('jack', 'Jack Bean', 'j&b')]"
      ]
     },
     "execution_count": 36,
     "metadata": {},
     "output_type": "execute_result"
    }
   ],
   "source": [
    "session.query(User.name, User.fullname, User.nickname).join(Address).all() "
   ]
  },
  {
   "cell_type": "code",
   "execution_count": 37,
   "metadata": {},
   "outputs": [
    {
     "name": "stdout",
     "output_type": "stream",
     "text": [
      "2022-04-09 15:12:12,568 INFO sqlalchemy.engine.Engine SELECT users.id AS users_id, users.name AS users_name, users.fullname AS users_fullname, users.nickname AS users_nickname, addresses.email_address AS addresses_email_address \n",
      "FROM users JOIN addresses ON users.id = addresses.user_id\n",
      "2022-04-09 15:12:12,570 INFO sqlalchemy.engine.Engine [generated in 0.00189s] ()\n"
     ]
    },
    {
     "data": {
      "text/plain": [
       "[(<User(name='jack', fullname='Jack Bean', nickname='j&b')>, 'jack@google.com'),\n",
       " (<User(name='jack', fullname='Jack Bean', nickname='j&b')>, 'j25@yahoo.com')]"
      ]
     },
     "execution_count": 37,
     "metadata": {},
     "output_type": "execute_result"
    }
   ],
   "source": [
    "session.query(User, Address.email_address).join(Address).all()"
   ]
  },
  {
   "cell_type": "code",
   "execution_count": 38,
   "metadata": {},
   "outputs": [
    {
     "name": "stdout",
     "output_type": "stream",
     "text": [
      "2022-04-09 15:12:12,788 INFO sqlalchemy.engine.Engine SELECT users.id AS users_id, users.name AS users_name, users.fullname AS users_fullname, users.nickname AS users_nickname, addresses.email_address AS addresses_email_address \n",
      "FROM users LEFT OUTER JOIN addresses ON users.id = addresses.user_id\n",
      "2022-04-09 15:12:12,790 INFO sqlalchemy.engine.Engine [generated in 0.00185s] ()\n"
     ]
    },
    {
     "data": {
      "text/plain": [
       "[(<User(name='ed', fullname='Ed Jones', nickname='eddie')>, None),\n",
       " (<User(name='wendy', fullname='Wendy Williams', nickname='windy')>, None),\n",
       " (<User(name='mary', fullname='Mary Contrary', nickname='mary')>, None),\n",
       " (<User(name='fred', fullname='Fred Flintstone', nickname='freddy')>, None),\n",
       " (<User(name='jack', fullname='Jack Bean', nickname='j&b')>, 'j25@yahoo.com'),\n",
       " (<User(name='jack', fullname='Jack Bean', nickname='j&b')>, 'jack@google.com')]"
      ]
     },
     "execution_count": 38,
     "metadata": {},
     "output_type": "execute_result"
    }
   ],
   "source": [
    "session.query(User, Address.email_address).outerjoin(User.addresses).all()"
   ]
  },
  {
   "cell_type": "markdown",
   "metadata": {},
   "source": [
    "### Cancellazioni"
   ]
  },
  {
   "cell_type": "code",
   "execution_count": 39,
   "metadata": {},
   "outputs": [
    {
     "name": "stdout",
     "output_type": "stream",
     "text": [
      "Deleted instances: IdentitySet([<User(name='jack', fullname='Jack Bean', nickname='j&b')>])\n",
      "2022-04-09 15:12:13,252 INFO sqlalchemy.engine.Engine UPDATE addresses SET user_id=? WHERE addresses.id = ?\n",
      "2022-04-09 15:12:13,254 INFO sqlalchemy.engine.Engine [generated in 0.00118s] ((None, 1), (None, 2))\n",
      "2022-04-09 15:12:13,255 INFO sqlalchemy.engine.Engine DELETE FROM users WHERE users.id = ?\n",
      "2022-04-09 15:12:13,256 INFO sqlalchemy.engine.Engine [generated in 0.00054s] (5,)\n",
      "2022-04-09 15:12:13,258 INFO sqlalchemy.engine.Engine SELECT count(*) AS count_1 \n",
      "FROM (SELECT users.id AS users_id, users.name AS users_name, users.fullname AS users_fullname, users.nickname AS users_nickname \n",
      "FROM users \n",
      "WHERE users.name = ?) AS anon_1\n",
      "2022-04-09 15:12:13,259 INFO sqlalchemy.engine.Engine [generated in 0.00060s] ('jack',)\n",
      "0\n",
      "Deleted instances: IdentitySet([])\n"
     ]
    }
   ],
   "source": [
    "session.delete(jack)\n",
    "print(\"Deleted instances: \" + str(session.deleted))\n",
    "print(session.query(User).filter(User.name == 'jack').count())\n",
    "print(\"Deleted instances: \" + str(session.deleted))"
   ]
  },
  {
   "cell_type": "code",
   "execution_count": 40,
   "metadata": {},
   "outputs": [
    {
     "name": "stdout",
     "output_type": "stream",
     "text": [
      "2022-04-09 15:12:14,227 INFO sqlalchemy.engine.Engine SELECT addresses.id AS addresses_id, addresses.email_address AS addresses_email_address, addresses.user_id AS addresses_user_id \n",
      "FROM addresses\n",
      "2022-04-09 15:12:14,228 INFO sqlalchemy.engine.Engine [generated in 0.00150s] ()\n"
     ]
    },
    {
     "data": {
      "text/plain": [
       "[<Address(email_address='jack@google.com')>,\n",
       " <Address(email_address='j25@yahoo.com')>]"
      ]
     },
     "execution_count": 40,
     "metadata": {},
     "output_type": "execute_result"
    }
   ],
   "source": [
    "session.query(Address).all()    # nessuna forma di cascading!"
   ]
  },
  {
   "cell_type": "code",
   "execution_count": 41,
   "metadata": {},
   "outputs": [
    {
     "name": "stdout",
     "output_type": "stream",
     "text": [
      "2022-04-09 15:12:14,417 INFO sqlalchemy.engine.Engine ROLLBACK\n"
     ]
    }
   ],
   "source": [
    "session.rollback()\n",
    "\n",
    "Base = declarative_base()\n",
    "\n",
    "class User(Base):\n",
    "     __tablename__ = 'users'                   # obbligatorio\n",
    "\n",
    "     id = Column(Integer, primary_key=True)    # almeno un attributo deve fare parte della primary key\n",
    "     name = Column(String)\n",
    "     fullname = Column(String)\n",
    "     nickname = Column(String)\n",
    "     \n",
    "     # configuriamo la politica di cascading\n",
    "     addresses = relationship(\"Address\", back_populates='user', cascade=\"all, delete, delete-orphan\")\n",
    "\n",
    "     def __repr__(self):\n",
    "        return \"<User(name='%s', fullname='%s', nickname='%s')>\" % (self.name, self.fullname, self.nickname)\n",
    "    \n",
    "class Address(Base):\n",
    "     __tablename__ = 'addresses'\n",
    "     id = Column(Integer, primary_key=True)\n",
    "     email_address = Column(String, nullable=False)\n",
    "     user_id = Column(Integer, ForeignKey(User.id))\n",
    "\n",
    "     user = relationship(User, back_populates=\"addresses\")\n",
    "\n",
    "     def __repr__(self):\n",
    "         return \"<Address(email_address='%s')>\" % self.email_address"
   ]
  },
  {
   "cell_type": "code",
   "execution_count": 42,
   "metadata": {},
   "outputs": [
    {
     "name": "stdout",
     "output_type": "stream",
     "text": [
      "2022-04-09 15:12:15,436 INFO sqlalchemy.engine.Engine BEGIN (implicit)\n",
      "2022-04-09 15:12:15,437 INFO sqlalchemy.engine.Engine SELECT users.id AS users_id, users.name AS users_name, users.fullname AS users_fullname, users.nickname AS users_nickname \n",
      "FROM users \n",
      "WHERE users.name = ?\n",
      " LIMIT ? OFFSET ?\n",
      "2022-04-09 15:12:15,438 INFO sqlalchemy.engine.Engine [generated in 0.00084s] ('jack', 1, 0)\n",
      "2022-04-09 15:12:15,441 INFO sqlalchemy.engine.Engine SELECT addresses.id AS addresses_id, addresses.email_address AS addresses_email_address, addresses.user_id AS addresses_user_id \n",
      "FROM addresses \n",
      "WHERE ? = addresses.user_id\n",
      "2022-04-09 15:12:15,442 INFO sqlalchemy.engine.Engine [generated in 0.00056s] (5,)\n",
      "<Address(email_address='jack@google.com')>\n",
      "<Address(email_address='j25@yahoo.com')>\n"
     ]
    }
   ],
   "source": [
    "jack = session.query(User).filter(User.name == 'jack').first()\n",
    "\n",
    "for a in jack.addresses:\n",
    "    print(a)"
   ]
  },
  {
   "cell_type": "code",
   "execution_count": 43,
   "metadata": {},
   "outputs": [
    {
     "name": "stdout",
     "output_type": "stream",
     "text": [
      "2022-04-09 15:12:16,100 INFO sqlalchemy.engine.Engine DELETE FROM addresses WHERE addresses.id = ?\n",
      "2022-04-09 15:12:16,102 INFO sqlalchemy.engine.Engine [generated in 0.00168s] (2,)\n",
      "2022-04-09 15:12:16,105 INFO sqlalchemy.engine.Engine SELECT count(*) AS count_1 \n",
      "FROM (SELECT addresses.id AS addresses_id, addresses.email_address AS addresses_email_address, addresses.user_id AS addresses_user_id \n",
      "FROM addresses \n",
      "WHERE addresses.email_address IN (?, ?)) AS anon_1\n",
      "2022-04-09 15:12:16,106 INFO sqlalchemy.engine.Engine [generated in 0.00066s] ('jack@google.com', 'j25@yahoo.com')\n"
     ]
    },
    {
     "data": {
      "text/plain": [
       "1"
      ]
     },
     "execution_count": 43,
     "metadata": {},
     "output_type": "execute_result"
    }
   ],
   "source": [
    "del jack.addresses[1]\n",
    "session.query(Address).filter(Address.email_address.in_(['jack@google.com', 'j25@yahoo.com'])).count()"
   ]
  },
  {
   "cell_type": "code",
   "execution_count": 44,
   "metadata": {},
   "outputs": [
    {
     "name": "stdout",
     "output_type": "stream",
     "text": [
      "2022-04-09 15:12:17,116 INFO sqlalchemy.engine.Engine DELETE FROM addresses WHERE addresses.id = ?\n",
      "2022-04-09 15:12:17,117 INFO sqlalchemy.engine.Engine [cached since 1.017s ago] (1,)\n",
      "2022-04-09 15:12:17,118 INFO sqlalchemy.engine.Engine DELETE FROM users WHERE users.id = ?\n",
      "2022-04-09 15:12:17,119 INFO sqlalchemy.engine.Engine [generated in 0.00045s] (5,)\n",
      "2022-04-09 15:12:17,121 INFO sqlalchemy.engine.Engine SELECT count(*) AS count_1 \n",
      "FROM (SELECT users.id AS users_id, users.name AS users_name, users.fullname AS users_fullname, users.nickname AS users_nickname \n",
      "FROM users \n",
      "WHERE users.name = ?) AS anon_1\n",
      "2022-04-09 15:12:17,122 INFO sqlalchemy.engine.Engine [generated in 0.00099s] ('jack',)\n",
      "0\n",
      "2022-04-09 15:12:17,124 INFO sqlalchemy.engine.Engine SELECT count(*) AS count_1 \n",
      "FROM (SELECT addresses.id AS addresses_id, addresses.email_address AS addresses_email_address, addresses.user_id AS addresses_user_id \n",
      "FROM addresses \n",
      "WHERE addresses.email_address IN (?, ?)) AS anon_1\n",
      "2022-04-09 15:12:17,124 INFO sqlalchemy.engine.Engine [cached since 1.019s ago] ('jack@google.com', 'j25@yahoo.com')\n",
      "0\n"
     ]
    }
   ],
   "source": [
    "session.delete(jack)\n",
    "print(session.query(User).filter(User.name == 'jack').count())\n",
    "print(session.query(Address).filter(Address.email_address.in_(['jack@google.com', 'j25@yahoo.com'])).count())"
   ]
  },
  {
   "cell_type": "markdown",
   "metadata": {},
   "source": [
    "### Relazioni molti-a-molti"
   ]
  },
  {
   "cell_type": "markdown",
   "metadata": {},
   "source": [
    "Modelliamo infine una relazione molti-a-molti fra blog post e keywords al loro interno. Ciò richiede la creazione di una **tabella di associazione**, che sporca l'eleganza della rappresentazione ORM vista fino ad ora. Tale tabella deve avere esattamente due colonne, che operano da chiavi esterne verso le due relazioni da associare.\n",
    "\n",
    "Tramite la tabella di associazione è possibile effettuare le seguenti operazioni:\n",
    "1. Dato un blog post, trovare la lista delle sue keywords\n",
    "2. Data una keyword, trovare la lista dei blog post in cui occorre\n",
    "\n",
    "Sebbene siamo costretti ad esporre tale dettaglio implementativo, l'interfaccia di accesso alle informazioni desiderate tramite l'ORM rimane comunque estremamente semplice. E' possibile estendere tale pattern a strutture con più di due colonne usando **oggetti di associazione**: per i dettagli potete consultare la documentazione ufficiale [qui](https://docs.sqlalchemy.org/en/13/orm/basic_relationships.html#relationship-patterns)."
   ]
  },
  {
   "cell_type": "code",
   "execution_count": 45,
   "metadata": {},
   "outputs": [],
   "source": [
    "from sqlalchemy import Table\n",
    "\n",
    "post_keywords = Table('post_keywords', Base.metadata,\n",
    "                                       Column('post_id', ForeignKey('posts.id'), primary_key=True),\n",
    "                                       Column('keyword_id', ForeignKey('keywords.id'), primary_key=True))"
   ]
  },
  {
   "cell_type": "code",
   "execution_count": 46,
   "metadata": {},
   "outputs": [],
   "source": [
    "class BlogPost(Base):\n",
    "    __tablename__ = 'posts'\n",
    "\n",
    "    id = Column(Integer, primary_key=True)\n",
    "    user_id = Column(Integer, ForeignKey('users.id'))\n",
    "    headline = Column(String(255), nullable=False)\n",
    "    body = Column(Text)\n",
    "\n",
    "    # relazione molti-a-molti\n",
    "    keywords = relationship('Keyword', secondary=post_keywords, back_populates='posts')\n",
    "\n",
    "    def __repr__(self):\n",
    "        return \"BlogPost(%r, %r, %r)\" % (self.headline, self.body, self.author)\n",
    "    \n",
    "class Keyword(Base):\n",
    "    __tablename__ = 'keywords'\n",
    "\n",
    "    id = Column(Integer, primary_key=True)\n",
    "    kw = Column(String(50), nullable=False, unique=True)\n",
    "    \n",
    "    # relazione molti-a-molti\n",
    "    posts = relationship('BlogPost', secondary=post_keywords, back_populates='keywords')\n",
    "    \n",
    "    # costruttore esplicito (opzionale)\n",
    "    def __init__(self, kw):\n",
    "        self.kw = kw"
   ]
  },
  {
   "cell_type": "markdown",
   "metadata": {},
   "source": [
    "Aggiungiamo poi una relazione uno-a-molti fra utenti e blog post, riutilizzando le tecniche già viste. Si noti che avevamo già introdotto una chiave esterna su `BlogPost` per questo compito."
   ]
  },
  {
   "cell_type": "code",
   "execution_count": 47,
   "metadata": {},
   "outputs": [],
   "source": [
    "BlogPost.author = relationship(User, back_populates=\"posts\")\n",
    "User.posts = relationship(BlogPost, back_populates=\"author\")"
   ]
  },
  {
   "cell_type": "code",
   "execution_count": 48,
   "metadata": {},
   "outputs": [
    {
     "name": "stdout",
     "output_type": "stream",
     "text": [
      "2022-04-09 15:12:20,832 INFO sqlalchemy.engine.Engine BEGIN (implicit)\n",
      "2022-04-09 15:12:20,835 INFO sqlalchemy.engine.Engine PRAGMA main.table_info(\"users\")\n",
      "2022-04-09 15:12:20,837 INFO sqlalchemy.engine.Engine [raw sql] ()\n",
      "2022-04-09 15:12:20,839 INFO sqlalchemy.engine.Engine PRAGMA main.table_info(\"addresses\")\n",
      "2022-04-09 15:12:20,841 INFO sqlalchemy.engine.Engine [raw sql] ()\n",
      "2022-04-09 15:12:20,842 INFO sqlalchemy.engine.Engine PRAGMA main.table_info(\"post_keywords\")\n",
      "2022-04-09 15:12:20,845 INFO sqlalchemy.engine.Engine [raw sql] ()\n",
      "2022-04-09 15:12:20,846 INFO sqlalchemy.engine.Engine PRAGMA temp.table_info(\"post_keywords\")\n",
      "2022-04-09 15:12:20,847 INFO sqlalchemy.engine.Engine [raw sql] ()\n",
      "2022-04-09 15:12:20,849 INFO sqlalchemy.engine.Engine PRAGMA main.table_info(\"posts\")\n",
      "2022-04-09 15:12:20,850 INFO sqlalchemy.engine.Engine [raw sql] ()\n",
      "2022-04-09 15:12:20,851 INFO sqlalchemy.engine.Engine PRAGMA temp.table_info(\"posts\")\n",
      "2022-04-09 15:12:20,852 INFO sqlalchemy.engine.Engine [raw sql] ()\n",
      "2022-04-09 15:12:20,853 INFO sqlalchemy.engine.Engine PRAGMA main.table_info(\"keywords\")\n",
      "2022-04-09 15:12:20,854 INFO sqlalchemy.engine.Engine [raw sql] ()\n",
      "2022-04-09 15:12:20,855 INFO sqlalchemy.engine.Engine PRAGMA temp.table_info(\"keywords\")\n",
      "2022-04-09 15:12:20,856 INFO sqlalchemy.engine.Engine [raw sql] ()\n",
      "2022-04-09 15:12:20,857 INFO sqlalchemy.engine.Engine \n",
      "CREATE TABLE posts (\n",
      "\tid INTEGER NOT NULL, \n",
      "\tuser_id INTEGER, \n",
      "\theadline VARCHAR(255) NOT NULL, \n",
      "\tbody TEXT, \n",
      "\tPRIMARY KEY (id), \n",
      "\tFOREIGN KEY(user_id) REFERENCES users (id)\n",
      ")\n",
      "\n",
      "\n",
      "2022-04-09 15:12:20,858 INFO sqlalchemy.engine.Engine [no key 0.00058s] ()\n",
      "2022-04-09 15:12:20,859 INFO sqlalchemy.engine.Engine \n",
      "CREATE TABLE keywords (\n",
      "\tid INTEGER NOT NULL, \n",
      "\tkw VARCHAR(50) NOT NULL, \n",
      "\tPRIMARY KEY (id), \n",
      "\tUNIQUE (kw)\n",
      ")\n",
      "\n",
      "\n",
      "2022-04-09 15:12:20,860 INFO sqlalchemy.engine.Engine [no key 0.00059s] ()\n",
      "2022-04-09 15:12:20,861 INFO sqlalchemy.engine.Engine \n",
      "CREATE TABLE post_keywords (\n",
      "\tpost_id INTEGER NOT NULL, \n",
      "\tkeyword_id INTEGER NOT NULL, \n",
      "\tPRIMARY KEY (post_id, keyword_id), \n",
      "\tFOREIGN KEY(post_id) REFERENCES posts (id), \n",
      "\tFOREIGN KEY(keyword_id) REFERENCES keywords (id)\n",
      ")\n",
      "\n",
      "\n",
      "2022-04-09 15:12:20,862 INFO sqlalchemy.engine.Engine [no key 0.00049s] ()\n",
      "2022-04-09 15:12:20,863 INFO sqlalchemy.engine.Engine COMMIT\n"
     ]
    }
   ],
   "source": [
    "Base.metadata.create_all(engine)"
   ]
  },
  {
   "cell_type": "code",
   "execution_count": 49,
   "metadata": {},
   "outputs": [
    {
     "name": "stdout",
     "output_type": "stream",
     "text": [
      "2022-04-09 15:12:21,025 INFO sqlalchemy.engine.Engine SELECT users.id AS users_id, users.name AS users_name, users.fullname AS users_fullname, users.nickname AS users_nickname \n",
      "FROM users \n",
      "WHERE users.name = ?\n",
      "2022-04-09 15:12:21,028 INFO sqlalchemy.engine.Engine [generated in 0.00300s] ('wendy',)\n"
     ]
    }
   ],
   "source": [
    "wendy = session.query(User).filter_by(name='wendy').one()\n",
    "post = BlogPost(headline=\"Wendy's Blog Post\", body=\"This is a test\", author=wendy)\n",
    "session.add(post)"
   ]
  },
  {
   "cell_type": "code",
   "execution_count": 50,
   "metadata": {},
   "outputs": [],
   "source": [
    "post.keywords = [Keyword('wendy'), Keyword('firstpost')]"
   ]
  },
  {
   "cell_type": "code",
   "execution_count": 51,
   "metadata": {},
   "outputs": [
    {
     "name": "stdout",
     "output_type": "stream",
     "text": [
      "2022-04-09 15:12:21,387 INFO sqlalchemy.engine.Engine INSERT INTO keywords (kw) VALUES (?)\n",
      "2022-04-09 15:12:21,390 INFO sqlalchemy.engine.Engine [generated in 0.00259s] ('wendy',)\n",
      "2022-04-09 15:12:21,393 INFO sqlalchemy.engine.Engine INSERT INTO keywords (kw) VALUES (?)\n",
      "2022-04-09 15:12:21,394 INFO sqlalchemy.engine.Engine [cached since 0.007004s ago] ('firstpost',)\n",
      "2022-04-09 15:12:21,397 INFO sqlalchemy.engine.Engine INSERT INTO posts (user_id, headline, body) VALUES (?, ?, ?)\n",
      "2022-04-09 15:12:21,398 INFO sqlalchemy.engine.Engine [generated in 0.00118s] (2, \"Wendy's Blog Post\", 'This is a test')\n",
      "2022-04-09 15:12:21,400 INFO sqlalchemy.engine.Engine INSERT INTO post_keywords (post_id, keyword_id) VALUES (?, ?)\n",
      "2022-04-09 15:12:21,401 INFO sqlalchemy.engine.Engine [generated in 0.00082s] ((1, 1), (1, 2))\n",
      "2022-04-09 15:12:21,405 INFO sqlalchemy.engine.Engine SELECT posts.id AS posts_id, posts.user_id AS posts_user_id, posts.headline AS posts_headline, posts.body AS posts_body \n",
      "FROM posts \n",
      "WHERE EXISTS (SELECT 1 \n",
      "FROM post_keywords, keywords \n",
      "WHERE posts.id = post_keywords.post_id AND keywords.id = post_keywords.keyword_id AND keywords.kw = ?)\n",
      "2022-04-09 15:12:21,406 INFO sqlalchemy.engine.Engine [generated in 0.00092s] ('firstpost',)\n"
     ]
    },
    {
     "data": {
      "text/plain": [
       "[BlogPost(\"Wendy's Blog Post\", 'This is a test', <User(name='wendy', fullname='Wendy Williams', nickname='windy')>)]"
      ]
     },
     "execution_count": 51,
     "metadata": {},
     "output_type": "execute_result"
    }
   ],
   "source": [
    "session.query(BlogPost).filter(BlogPost.keywords.any(kw='firstpost')).all()"
   ]
  },
  {
   "cell_type": "code",
   "execution_count": 52,
   "metadata": {},
   "outputs": [
    {
     "name": "stdout",
     "output_type": "stream",
     "text": [
      "2022-04-09 15:12:21,590 INFO sqlalchemy.engine.Engine SELECT posts.id AS posts_id, posts.user_id AS posts_user_id, posts.headline AS posts_headline, posts.body AS posts_body \n",
      "FROM posts \n",
      "WHERE ? = posts.user_id\n",
      "2022-04-09 15:12:21,593 INFO sqlalchemy.engine.Engine [generated in 0.00284s] (2,)\n"
     ]
    },
    {
     "data": {
      "text/plain": [
       "[BlogPost(\"Wendy's Blog Post\", 'This is a test', <User(name='wendy', fullname='Wendy Williams', nickname='windy')>)]"
      ]
     },
     "execution_count": 52,
     "metadata": {},
     "output_type": "execute_result"
    }
   ],
   "source": [
    "session.query(BlogPost).filter(BlogPost.author == wendy).all()"
   ]
  },
  {
   "cell_type": "code",
   "execution_count": 53,
   "metadata": {},
   "outputs": [
    {
     "name": "stdout",
     "output_type": "stream",
     "text": [
      "2022-04-09 15:12:21,762 INFO sqlalchemy.engine.Engine SELECT posts.id AS posts_id, posts.user_id AS posts_user_id, posts.headline AS posts_headline, posts.body AS posts_body \n",
      "FROM posts \n",
      "WHERE ? = posts.user_id\n",
      "2022-04-09 15:12:21,765 INFO sqlalchemy.engine.Engine [generated in 0.00312s] (2,)\n"
     ]
    },
    {
     "data": {
      "text/plain": [
       "[BlogPost(\"Wendy's Blog Post\", 'This is a test', <User(name='wendy', fullname='Wendy Williams', nickname='windy')>)]"
      ]
     },
     "execution_count": 53,
     "metadata": {},
     "output_type": "execute_result"
    }
   ],
   "source": [
    "wendy.posts"
   ]
  },
  {
   "cell_type": "markdown",
   "metadata": {},
   "source": [
    "## Esercizio"
   ]
  },
  {
   "cell_type": "markdown",
   "metadata": {},
   "source": [
    "Creare tramite SQLAlchemy ORM le seguenti tabelle:\n",
    "* Product(maker, model*, type)\n",
    "* PC(<u>model*</u>, speed, ram, hd, price)\n",
    "* Laptop(<u>model*</u>, speed, ram, hd, screen, price)\n",
    "* Printer(<u>model*</u>, color, type, price)\n",
    "\n",
    "Definite opportune chiavi primarie ed esterne, scegliendo i tipi di dato appropriati per i vari attributi. Una volta fatto ciò, popolate le tabelle con alcuni dati artificiali ed effettuate tramite l'ORM di SQLAlchemy le seguenti query:\n",
    "1. Trovare il modello, la velocità e la dimensione dell'hard disk di tutti i PC che costano meno di $1000. \n",
    "2. Trovare tutti i produttori di stampanti.\n",
    "3. Trovare il produttore e la velocità dei laptop con un hard disk da almeno 300 GB.\n",
    "4. Trovare il modello ed il prezzo di tutti i PC ed i laptop realizzati dalla Lenovo.\n",
    "5. Trovare le dimensioni degli hard disk che occorrono in almeno due PC.\n",
    "6. Trovare tutte le aziende che producono laptop, ma non PC.\n",
    "7. Trovare i produttori di PC con una velocità minima di 2.0 GHz.\n",
    "8. Trovare tutte le aziende che producono sia PC che laptop.\n",
    "\n",
    "Procedete immaginando la query SQL e traducendola nell'ORM di SQLAlchemy. Consultate la documentazione dove necessario."
   ]
  },
  {
   "cell_type": "code",
   "execution_count": null,
   "metadata": {},
   "outputs": [],
   "source": []
  },
  {
   "cell_type": "code",
   "execution_count": null,
   "metadata": {},
   "outputs": [],
   "source": []
  },
  {
   "cell_type": "code",
   "execution_count": null,
   "metadata": {},
   "outputs": [],
   "source": []
  }
 ],
 "metadata": {
  "kernelspec": {
   "display_name": "Python 3 (ipykernel)",
   "language": "python",
   "name": "python3"
  },
  "language_info": {
   "codemirror_mode": {
    "name": "ipython",
    "version": 3
   },
   "file_extension": ".py",
   "mimetype": "text/x-python",
   "name": "python",
   "nbconvert_exporter": "python",
   "pygments_lexer": "ipython3",
   "version": "3.10.4"
  }
 },
 "nbformat": 4,
 "nbformat_minor": 4
}
